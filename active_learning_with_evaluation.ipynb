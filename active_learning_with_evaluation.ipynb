{
 "cells": [
  {
   "cell_type": "code",
   "execution_count": 1,
   "metadata": {},
   "outputs": [],
   "source": [
    "import matplotlib.pyplot as plt\n",
    "import numpy as np\n",
    "import pandas as pd\n",
    "import sys, os, django\n",
    "import math\n",
    "from sklearn.model_selection import KFold\n",
    "\n",
    "\n",
    "from sklearn.manifold import TSNE\n",
    "from sklearn.svm import SVC, OneClassSVM\n",
    "from sklearn.multiclass import OneVsRestClassifier\n",
    "\n",
    "from sklearn.metrics import average_precision_score\n",
    "from sklearn.metrics import precision_recall_curve\n",
    "from sklearn.metrics import precision_score, recall_score\n",
    "\n",
    "from sklearn.decomposition import NMF\n",
    "from sklearn.naive_bayes import MultinomialNB\n",
    "from sklearn.linear_model import SGDClassifier\n",
    "\n",
    "from sklearn.feature_extraction.text import CountVectorizer, TfidfVectorizer\n",
    "from sklearn.model_selection import KFold\n",
    "from sklearn.neural_network import MLPClassifier\n",
    "from scipy.sparse import hstack\n",
    "\n",
    "sys.path.append('/home/galm/software/django/tmv/BasicBrowser/')\n",
    "os.environ.setdefault(\"DJANGO_SETTINGS_MODULE\", \"BasicBrowser.settings\")\n",
    "django.setup()\n",
    "\n",
    "from django.db.models import Q, F, Sum, Count, FloatField, Case, When, Value, Max\n",
    "from sklearn.manifold import TSNE\n",
    "from scoping.models import *\n",
    "from scoping.views import *\n",
    "\n",
    "\n",
    "import scoping.utils.learning_utils as lu\n",
    "import random\n",
    "import scipy.stats as st\n",
    "\n",
    "\n",
    "double_figure = (7.2,7.2/8*5)\n",
    "plt.rc('font',size=7)\n",
    "plt.rc('axes',titlesize=7)\n",
    "plt.rc('axes',labelsize=7)\n",
    "plt.rc('xtick',labelsize=7)\n",
    "plt.rc('ytick',labelsize=7)\n",
    "plt.rc('legend',fontsize=7)\n",
    "plt.rc('figure',titlesize=7)\n",
    "\n",
    "\n",
    "now=datetime.datetime.today()"
   ]
  },
  {
   "cell_type": "markdown",
   "metadata": {},
   "source": [
    "## First we say what query and project we are interested in\n",
    "\n",
    "This is using the NACSOS platform"
   ]
  },
  {
   "cell_type": "code",
   "execution_count": 2,
   "metadata": {},
   "outputs": [
    {
     "data": {
      "text/plain": [
       "316664"
      ]
     },
     "execution_count": 2,
     "metadata": {},
     "output_type": "execute_result"
    }
   ],
   "source": [
    "pid = 234\n",
    "qid = 8318\n",
    "qids = [8318, 8421, 8503]\n",
    "merged_query = Query.objects.get(pk=8510)\n",
    "docids = set(Doc.objects.filter(query__in=qids).values_list('id',flat=True))\n",
    "docs = Doc.objects.filter(id__in=docids)\n",
    "p = Project.objects.get(pk=pid)\n",
    "\n",
    "#print(q.doc_set.count())\n",
    "docs.count()"
   ]
  },
  {
   "cell_type": "markdown",
   "metadata": {},
   "source": [
    "### And we retrieve those documents that have been screened in that query, and get the majority rating"
   ]
  },
  {
   "cell_type": "code",
   "execution_count": 3,
   "metadata": {},
   "outputs": [],
   "source": [
    "import statistics\n",
    "\n",
    "def mode_na(x):\n",
    "    try:\n",
    "        return statistics.mode([y for y in x if y is not np.NaN])\n",
    "    except:\n",
    "        return np.NaN\n",
    "    \n",
    "columns = [\n",
    "    'id',\n",
    "    'content',\n",
    "    'title',\n",
    "    'PY',\n",
    "    'wosarticle__de',\n",
    "    'wosarticle__wc'\n",
    "]\n",
    "\n",
    "# First get only the ratings from updated tags\n",
    "\n",
    "update_tags = Tag.objects.filter(pk__in=[5598, 5597, 5577, 5562, 5551, 5550, 5632, 5630, 5629]) \n",
    "updated_dos = DocOwnership.objects.filter(\n",
    "    tag__in=update_tags, \n",
    "    relevant__gt=0,\n",
    "    doc__content__iregex='\\w'\n",
    ")\n",
    "dodf = pd.DataFrame.from_dict(updated_dos.order_by('finish').values(\n",
    "    'id','doc_id','user__username','relevant'\n",
    "))\n",
    "dodf.loc[dodf['relevant']==2,'relevant'] = 0\n",
    "dodf.loc[dodf['relevant']==3,'relevant'] = np.NaN\n",
    "\n",
    "gdf = dodf.groupby('doc_id').agg(lambda x: mode_na(x)).reset_index()[['doc_id','relevant']].rename(columns={\"doc_id\":\"id\"})\n",
    "gdf['seen'] = 1\n",
    "gdf.loc[pd.isna(gdf['relevant']),'seen'] = np.NaN\n",
    "\n",
    "updated_df = gdf\n",
    "\n",
    "ddf = pd.DataFrame.from_dict(\n",
    "    Doc.objects.filter(pk__in=updated_df['id']).values(*columns)\n",
    ")\n",
    "updated_df = pd.merge(ddf,updated_df)"
   ]
  },
  {
   "cell_type": "code",
   "execution_count": 4,
   "metadata": {},
   "outputs": [
    {
     "name": "stdout",
     "output_type": "stream",
     "text": [
      "(3730, 8)\n"
     ]
    },
    {
     "data": {
      "text/html": [
       "<div>\n",
       "<style scoped>\n",
       "    .dataframe tbody tr th:only-of-type {\n",
       "        vertical-align: middle;\n",
       "    }\n",
       "\n",
       "    .dataframe tbody tr th {\n",
       "        vertical-align: top;\n",
       "    }\n",
       "\n",
       "    .dataframe thead th {\n",
       "        text-align: right;\n",
       "    }\n",
       "</style>\n",
       "<table border=\"1\" class=\"dataframe\">\n",
       "  <thead>\n",
       "    <tr style=\"text-align: right;\">\n",
       "      <th></th>\n",
       "      <th>id</th>\n",
       "      <th>content</th>\n",
       "      <th>title</th>\n",
       "      <th>PY</th>\n",
       "      <th>wosarticle__de</th>\n",
       "      <th>wosarticle__wc</th>\n",
       "      <th>relevant</th>\n",
       "      <th>seen</th>\n",
       "    </tr>\n",
       "  </thead>\n",
       "  <tbody>\n",
       "    <tr>\n",
       "      <th>0</th>\n",
       "      <td>3444973</td>\n",
       "      <td>Lateral transfer, vertical translocation, and ...</td>\n",
       "      <td>Lateral Transfer, Vertical Translocation, and ...</td>\n",
       "      <td>2013.0</td>\n",
       "      <td>None</td>\n",
       "      <td>[Biotechnology &amp; Applied Microbiology; Food Sc...</td>\n",
       "      <td>0.0</td>\n",
       "      <td>1.0</td>\n",
       "    </tr>\n",
       "    <tr>\n",
       "      <th>1</th>\n",
       "      <td>14865</td>\n",
       "      <td>BACKGROUND: Patients with acute heat illness p...</td>\n",
       "      <td>Summertime Acute Heat Illness in U.S. Emergenc...</td>\n",
       "      <td>2014.0</td>\n",
       "      <td>None</td>\n",
       "      <td>[Environmental Sciences; Public, Environmental...</td>\n",
       "      <td>1.0</td>\n",
       "      <td>1.0</td>\n",
       "    </tr>\n",
       "    <tr>\n",
       "      <th>2</th>\n",
       "      <td>282602</td>\n",
       "      <td>Background: Among the many challenges faced by...</td>\n",
       "      <td>Health coping strategies of the people vulnera...</td>\n",
       "      <td>2013.0</td>\n",
       "      <td>Health coping strategies; Choice of care; Unqu...</td>\n",
       "      <td>[Public, Environmental &amp; Occupational Health]</td>\n",
       "      <td>1.0</td>\n",
       "      <td>1.0</td>\n",
       "    </tr>\n",
       "    <tr>\n",
       "      <th>3</th>\n",
       "      <td>3446583</td>\n",
       "      <td>This study analyzes how the meaning of a city ...</td>\n",
       "      <td>An approach to semiotic discourse in creating ...</td>\n",
       "      <td>2019.0</td>\n",
       "      <td>city brand; perceptions; speech; symbols; Ecuador</td>\n",
       "      <td>[Communication]</td>\n",
       "      <td>0.0</td>\n",
       "      <td>1.0</td>\n",
       "    </tr>\n",
       "    <tr>\n",
       "      <th>4</th>\n",
       "      <td>3496789</td>\n",
       "      <td>Background: Pancreatic cancer is the fourth le...</td>\n",
       "      <td>Nutrition and Pancreatic Cancer</td>\n",
       "      <td>2014.0</td>\n",
       "      <td>Pancreatic cancer; nutrition; diet; dietary fa...</td>\n",
       "      <td>[Oncology]</td>\n",
       "      <td>0.0</td>\n",
       "      <td>1.0</td>\n",
       "    </tr>\n",
       "  </tbody>\n",
       "</table>\n",
       "</div>"
      ],
      "text/plain": [
       "        id                                            content  \\\n",
       "0  3444973  Lateral transfer, vertical translocation, and ...   \n",
       "1    14865  BACKGROUND: Patients with acute heat illness p...   \n",
       "2   282602  Background: Among the many challenges faced by...   \n",
       "3  3446583  This study analyzes how the meaning of a city ...   \n",
       "4  3496789  Background: Pancreatic cancer is the fourth le...   \n",
       "\n",
       "                                               title      PY  \\\n",
       "0  Lateral Transfer, Vertical Translocation, and ...  2013.0   \n",
       "1  Summertime Acute Heat Illness in U.S. Emergenc...  2014.0   \n",
       "2  Health coping strategies of the people vulnera...  2013.0   \n",
       "3  An approach to semiotic discourse in creating ...  2019.0   \n",
       "4                    Nutrition and Pancreatic Cancer  2014.0   \n",
       "\n",
       "                                      wosarticle__de  \\\n",
       "0                                               None   \n",
       "1                                               None   \n",
       "2  Health coping strategies; Choice of care; Unqu...   \n",
       "3  city brand; perceptions; speech; symbols; Ecuador   \n",
       "4  Pancreatic cancer; nutrition; diet; dietary fa...   \n",
       "\n",
       "                                      wosarticle__wc  relevant  seen  \n",
       "0  [Biotechnology & Applied Microbiology; Food Sc...       0.0   1.0  \n",
       "1  [Environmental Sciences; Public, Environmental...       1.0   1.0  \n",
       "2      [Public, Environmental & Occupational Health]       1.0   1.0  \n",
       "3                                    [Communication]       0.0   1.0  \n",
       "4                                         [Oncology]       0.0   1.0  "
      ]
     },
     "execution_count": 4,
     "metadata": {},
     "output_type": "execute_result"
    }
   ],
   "source": [
    "# Now get majority ratings from the rest of documents\n",
    "# Majority ratings\n",
    "dos = DocOwnership.objects.filter(\n",
    "    query__in=qids, \n",
    "    relevant__gt=0,\n",
    "    doc__content__iregex='\\w'\n",
    ").exclude(doc__id__in=updated_df[\"id\"])\n",
    "dodf = pd.DataFrame.from_dict(dos.order_by('finish').values(\n",
    "    'id','doc_id','user__username','relevant'\n",
    "))\n",
    "dodf.loc[dodf['relevant']==2,'relevant'] = 0\n",
    "dodf.loc[dodf['relevant']==3,'relevant'] = np.NaN\n",
    "\n",
    "gdf = dodf.groupby('doc_id').agg(lambda x: mode_na(x)).reset_index()[['doc_id','relevant']].rename(columns={\"doc_id\":\"id\"})\n",
    "gdf['seen'] = 1\n",
    "gdf.loc[pd.isna(gdf['relevant']),'seen'] = np.NaN\n",
    "\n",
    "seen_df = gdf\n",
    "ddf = pd.DataFrame.from_dict(\n",
    "    Doc.objects.filter(pk__in=seen_df['id']).values(*columns)\n",
    ")\n",
    "seen_df = pd.merge(ddf,seen_df)\n",
    "\n",
    "seen_df = pd.concat([seen_df,updated_df])\n",
    "print(seen_df.shape)\n",
    "seen_df.head()"
   ]
  },
  {
   "cell_type": "code",
   "execution_count": 5,
   "metadata": {},
   "outputs": [],
   "source": [
    "#ADDED FOR TEST\n",
    "testing=False\n",
    "if testing:\n",
    "    seen_df = seen_df.head(1000)\n",
    "    print(seen_df.shape)"
   ]
  },
  {
   "cell_type": "markdown",
   "metadata": {},
   "source": [
    "### We have a separate list of documents in the query that have not been screened"
   ]
  },
  {
   "cell_type": "code",
   "execution_count": 6,
   "metadata": {},
   "outputs": [
    {
     "name": "stdout",
     "output_type": "stream",
     "text": [
      "(282414, 8)\n",
      "65.09873032569885\n"
     ]
    },
    {
     "data": {
      "text/html": [
       "<div>\n",
       "<style scoped>\n",
       "    .dataframe tbody tr th:only-of-type {\n",
       "        vertical-align: middle;\n",
       "    }\n",
       "\n",
       "    .dataframe tbody tr th {\n",
       "        vertical-align: top;\n",
       "    }\n",
       "\n",
       "    .dataframe thead th {\n",
       "        text-align: right;\n",
       "    }\n",
       "</style>\n",
       "<table border=\"1\" class=\"dataframe\">\n",
       "  <thead>\n",
       "    <tr style=\"text-align: right;\">\n",
       "      <th></th>\n",
       "      <th>id</th>\n",
       "      <th>content</th>\n",
       "      <th>title</th>\n",
       "      <th>PY</th>\n",
       "      <th>wosarticle__de</th>\n",
       "      <th>wosarticle__wc</th>\n",
       "      <th>relevant</th>\n",
       "      <th>seen</th>\n",
       "    </tr>\n",
       "  </thead>\n",
       "  <tbody>\n",
       "    <tr>\n",
       "      <th>0</th>\n",
       "      <td>423122</td>\n",
       "      <td>This paper reviews the current literature arou...</td>\n",
       "      <td>Are the Dietary Guidelines for Meat, Fat, Frui...</td>\n",
       "      <td>2014.0</td>\n",
       "      <td>environmental impact; diet; food; red meat; an...</td>\n",
       "      <td>[Nutrition &amp; Dietetics]</td>\n",
       "      <td>0</td>\n",
       "      <td>0</td>\n",
       "    </tr>\n",
       "    <tr>\n",
       "      <th>1</th>\n",
       "      <td>1828097</td>\n",
       "      <td>This study investigated the effects of feeding...</td>\n",
       "      <td>Effect of Feeding System on Enteric Methane Em...</td>\n",
       "      <td>2018.0</td>\n",
       "      <td>cattle; greenhouse gas; measurements; diet; va...</td>\n",
       "      <td>[Environmental Studies]</td>\n",
       "      <td>0</td>\n",
       "      <td>0</td>\n",
       "    </tr>\n",
       "    <tr>\n",
       "      <th>2</th>\n",
       "      <td>3749996</td>\n",
       "      <td>Citrus × clementina juice obtained from fruits...</td>\n",
       "      <td>Investigating the in vitro hypoglycaemic and a...</td>\n",
       "      <td>2018.0</td>\n",
       "      <td>None</td>\n",
       "      <td>None</td>\n",
       "      <td>0</td>\n",
       "      <td>0</td>\n",
       "    </tr>\n",
       "    <tr>\n",
       "      <th>3</th>\n",
       "      <td>3474740</td>\n",
       "      <td>Ambient-cured heavyweight geopolymer concrete ...</td>\n",
       "      <td>Properties of Ambient-Cured Normal and Heavywe...</td>\n",
       "      <td>2019.0</td>\n",
       "      <td>geopolymer concrete; heavyweight geopolymer co...</td>\n",
       "      <td>[Materials Science, Multidisciplinary]</td>\n",
       "      <td>0</td>\n",
       "      <td>0</td>\n",
       "    </tr>\n",
       "    <tr>\n",
       "      <th>4</th>\n",
       "      <td>3750069</td>\n",
       "      <td>The physical properties and characteristics of...</td>\n",
       "      <td>The Characteristics and Genetic Analysis of th...</td>\n",
       "      <td>2018.0</td>\n",
       "      <td>None</td>\n",
       "      <td>None</td>\n",
       "      <td>0</td>\n",
       "      <td>0</td>\n",
       "    </tr>\n",
       "  </tbody>\n",
       "</table>\n",
       "</div>"
      ],
      "text/plain": [
       "        id                                            content  \\\n",
       "0   423122  This paper reviews the current literature arou...   \n",
       "1  1828097  This study investigated the effects of feeding...   \n",
       "2  3749996  Citrus × clementina juice obtained from fruits...   \n",
       "3  3474740  Ambient-cured heavyweight geopolymer concrete ...   \n",
       "4  3750069  The physical properties and characteristics of...   \n",
       "\n",
       "                                               title      PY  \\\n",
       "0  Are the Dietary Guidelines for Meat, Fat, Frui...  2014.0   \n",
       "1  Effect of Feeding System on Enteric Methane Em...  2018.0   \n",
       "2  Investigating the in vitro hypoglycaemic and a...  2018.0   \n",
       "3  Properties of Ambient-Cured Normal and Heavywe...  2019.0   \n",
       "4  The Characteristics and Genetic Analysis of th...  2018.0   \n",
       "\n",
       "                                      wosarticle__de  \\\n",
       "0  environmental impact; diet; food; red meat; an...   \n",
       "1  cattle; greenhouse gas; measurements; diet; va...   \n",
       "2                                               None   \n",
       "3  geopolymer concrete; heavyweight geopolymer co...   \n",
       "4                                               None   \n",
       "\n",
       "                           wosarticle__wc  relevant  seen  \n",
       "0                 [Nutrition & Dietetics]         0     0  \n",
       "1                 [Environmental Studies]         0     0  \n",
       "2                                    None         0     0  \n",
       "3  [Materials Science, Multidisciplinary]         0     0  \n",
       "4                                    None         0     0  "
      ]
     },
     "execution_count": 6,
     "metadata": {},
     "output_type": "execute_result"
    }
   ],
   "source": [
    "t0 = time.time()\n",
    "#docs = Doc.objects.filter(pk__lt=1000,query=merged_query)\n",
    "docs = Doc.objects.filter(id__in=docids)\n",
    "unseen_docs = docs.filter(\n",
    "    content__iregex='\\w',\n",
    "    wosarticle__dt__iregex='Article|Review'\n",
    ").exclude(\n",
    "    wosarticle__dt__iregex='book|proceedings|comment|retracted|editorial'\n",
    ").exclude(\n",
    "    id__in=seen_df['id']\n",
    ")\n",
    "\n",
    "unseen_df = pd.DataFrame.from_dict(list(unseen_docs.values(*columns)))\n",
    "unseen_df = unseen_df[columns]\n",
    "unseen_df['relevant'] = 0\n",
    "unseen_df['seen'] = 0\n",
    "\n",
    "print(unseen_df.shape)\n",
    "print(time.time()-t0)\n",
    "unseen_df.head()"
   ]
  },
  {
   "cell_type": "code",
   "execution_count": 7,
   "metadata": {},
   "outputs": [],
   "source": [
    "#ADDED FOR TEST\n",
    "if testing:\n",
    "    unseen_df = unseen_df.head(1000)\n",
    "    print(unseen_df.shape)"
   ]
  },
  {
   "cell_type": "markdown",
   "metadata": {},
   "source": [
    "### And we merge the two, with a column \"seen\" recording if a document has been seen or not"
   ]
  },
  {
   "cell_type": "code",
   "execution_count": 8,
   "metadata": {},
   "outputs": [
    {
     "name": "stdout",
     "output_type": "stream",
     "text": [
      "(286144, 8)\n"
     ]
    },
    {
     "data": {
      "text/html": [
       "<div>\n",
       "<style scoped>\n",
       "    .dataframe tbody tr th:only-of-type {\n",
       "        vertical-align: middle;\n",
       "    }\n",
       "\n",
       "    .dataframe tbody tr th {\n",
       "        vertical-align: top;\n",
       "    }\n",
       "\n",
       "    .dataframe thead th {\n",
       "        text-align: right;\n",
       "    }\n",
       "</style>\n",
       "<table border=\"1\" class=\"dataframe\">\n",
       "  <thead>\n",
       "    <tr style=\"text-align: right;\">\n",
       "      <th></th>\n",
       "      <th>id</th>\n",
       "      <th>content</th>\n",
       "      <th>title</th>\n",
       "      <th>PY</th>\n",
       "      <th>wosarticle__de</th>\n",
       "      <th>wosarticle__wc</th>\n",
       "      <th>relevant</th>\n",
       "      <th>seen</th>\n",
       "    </tr>\n",
       "  </thead>\n",
       "  <tbody>\n",
       "    <tr>\n",
       "      <th>0</th>\n",
       "      <td>3487494</td>\n",
       "      <td>In Cotonou, as in many expanding West African ...</td>\n",
       "      <td>Degradation of groundwater quality in expandin...</td>\n",
       "      <td>2020.0</td>\n",
       "      <td>Groundwater; Sewerage and septic tank contamin...</td>\n",
       "      <td>[Engineering, Civil; Geosciences, Multidiscipl...</td>\n",
       "      <td>0.0</td>\n",
       "      <td>0.0</td>\n",
       "    </tr>\n",
       "    <tr>\n",
       "      <th>1</th>\n",
       "      <td>3469235</td>\n",
       "      <td>Many shrimp farmers were suffering from White ...</td>\n",
       "      <td>Effects of temperature on hematological and hi...</td>\n",
       "      <td>2014.0</td>\n",
       "      <td>White Spot Syndrom Virus; Temperature; Fennero...</td>\n",
       "      <td>[Fisheries]</td>\n",
       "      <td>0.0</td>\n",
       "      <td>0.0</td>\n",
       "    </tr>\n",
       "    <tr>\n",
       "      <th>2</th>\n",
       "      <td>3412530</td>\n",
       "      <td>Big data and cloud computing are two phenomena...</td>\n",
       "      <td>A Case Study of Advancing Remote Sensing Image...</td>\n",
       "      <td>2015.0</td>\n",
       "      <td>remote sensing image analysis; object based im...</td>\n",
       "      <td>[Computer Science, Cybernetics]</td>\n",
       "      <td>0.0</td>\n",
       "      <td>0.0</td>\n",
       "    </tr>\n",
       "    <tr>\n",
       "      <th>3</th>\n",
       "      <td>3482141</td>\n",
       "      <td>Knowledge of the release of volatile organic c...</td>\n",
       "      <td>Quantitative analysis of volatile organic comp...</td>\n",
       "      <td>2014.0</td>\n",
       "      <td>L6 cells; skeletal muscle; volatile organic co...</td>\n",
       "      <td>[Biochemical Research Methods; Respiratory Sys...</td>\n",
       "      <td>0.0</td>\n",
       "      <td>0.0</td>\n",
       "    </tr>\n",
       "    <tr>\n",
       "      <th>4</th>\n",
       "      <td>3400113</td>\n",
       "      <td>Burkholderia pseudomallei, causative agent of ...</td>\n",
       "      <td>Rivers as carriers and potential sentinels for...</td>\n",
       "      <td>2018.0</td>\n",
       "      <td>None</td>\n",
       "      <td>[Multidisciplinary Sciences]</td>\n",
       "      <td>0.0</td>\n",
       "      <td>0.0</td>\n",
       "    </tr>\n",
       "    <tr>\n",
       "      <th>5</th>\n",
       "      <td>3407818</td>\n",
       "      <td>Food intake and circadian rhythms are regulate...</td>\n",
       "      <td>The effects of graded levels of calorie restri...</td>\n",
       "      <td>2016.0</td>\n",
       "      <td>calorie restriction; circadian rhythm; hunger;...</td>\n",
       "      <td>[Cell Biology; Geriatrics &amp; Gerontology]</td>\n",
       "      <td>0.0</td>\n",
       "      <td>0.0</td>\n",
       "    </tr>\n",
       "    <tr>\n",
       "      <th>6</th>\n",
       "      <td>3505798</td>\n",
       "      <td>The challenges in successful vaccination again...</td>\n",
       "      <td>Traditional and new influenza vaccines</td>\n",
       "      <td>2013.0</td>\n",
       "      <td>None</td>\n",
       "      <td>None</td>\n",
       "      <td>0.0</td>\n",
       "      <td>0.0</td>\n",
       "    </tr>\n",
       "    <tr>\n",
       "      <th>7</th>\n",
       "      <td>305736</td>\n",
       "      <td>Background and objective: Cold-induced airway ...</td>\n",
       "      <td>Transient receptor potential melastatin 8 gene...</td>\n",
       "      <td>2015.0</td>\n",
       "      <td>asthma; cold temperature; polymorphism; spirom...</td>\n",
       "      <td>[Respiratory System]</td>\n",
       "      <td>0.0</td>\n",
       "      <td>0.0</td>\n",
       "    </tr>\n",
       "    <tr>\n",
       "      <th>8</th>\n",
       "      <td>3412896</td>\n",
       "      <td>Air pollution can endanger human health, espec...</td>\n",
       "      <td>An Analysis of Factors Influencing the Relatio...</td>\n",
       "      <td>2018.0</td>\n",
       "      <td>Aerosol Optical Depth; PM10; MAIAC; MODIS; air...</td>\n",
       "      <td>[Remote Sensing]</td>\n",
       "      <td>0.0</td>\n",
       "      <td>0.0</td>\n",
       "    </tr>\n",
       "    <tr>\n",
       "      <th>9</th>\n",
       "      <td>3494232</td>\n",
       "      <td>With a high surface to volume ratio, small org...</td>\n",
       "      <td>Behavioral and Physiological Resistance to Des...</td>\n",
       "      <td>2019.0</td>\n",
       "      <td>water balance; Drosophila; humidity sensing; w...</td>\n",
       "      <td>[Entomology]</td>\n",
       "      <td>0.0</td>\n",
       "      <td>0.0</td>\n",
       "    </tr>\n",
       "  </tbody>\n",
       "</table>\n",
       "</div>"
      ],
      "text/plain": [
       "        id                                            content  \\\n",
       "0  3487494  In Cotonou, as in many expanding West African ...   \n",
       "1  3469235  Many shrimp farmers were suffering from White ...   \n",
       "2  3412530  Big data and cloud computing are two phenomena...   \n",
       "3  3482141  Knowledge of the release of volatile organic c...   \n",
       "4  3400113  Burkholderia pseudomallei, causative agent of ...   \n",
       "5  3407818  Food intake and circadian rhythms are regulate...   \n",
       "6  3505798  The challenges in successful vaccination again...   \n",
       "7   305736  Background and objective: Cold-induced airway ...   \n",
       "8  3412896  Air pollution can endanger human health, espec...   \n",
       "9  3494232  With a high surface to volume ratio, small org...   \n",
       "\n",
       "                                               title      PY  \\\n",
       "0  Degradation of groundwater quality in expandin...  2020.0   \n",
       "1  Effects of temperature on hematological and hi...  2014.0   \n",
       "2  A Case Study of Advancing Remote Sensing Image...  2015.0   \n",
       "3  Quantitative analysis of volatile organic comp...  2014.0   \n",
       "4  Rivers as carriers and potential sentinels for...  2018.0   \n",
       "5  The effects of graded levels of calorie restri...  2016.0   \n",
       "6             Traditional and new influenza vaccines  2013.0   \n",
       "7  Transient receptor potential melastatin 8 gene...  2015.0   \n",
       "8  An Analysis of Factors Influencing the Relatio...  2018.0   \n",
       "9  Behavioral and Physiological Resistance to Des...  2019.0   \n",
       "\n",
       "                                      wosarticle__de  \\\n",
       "0  Groundwater; Sewerage and septic tank contamin...   \n",
       "1  White Spot Syndrom Virus; Temperature; Fennero...   \n",
       "2  remote sensing image analysis; object based im...   \n",
       "3  L6 cells; skeletal muscle; volatile organic co...   \n",
       "4                                               None   \n",
       "5  calorie restriction; circadian rhythm; hunger;...   \n",
       "6                                               None   \n",
       "7  asthma; cold temperature; polymorphism; spirom...   \n",
       "8  Aerosol Optical Depth; PM10; MAIAC; MODIS; air...   \n",
       "9  water balance; Drosophila; humidity sensing; w...   \n",
       "\n",
       "                                      wosarticle__wc  relevant  seen  \n",
       "0  [Engineering, Civil; Geosciences, Multidiscipl...       0.0   0.0  \n",
       "1                                        [Fisheries]       0.0   0.0  \n",
       "2                    [Computer Science, Cybernetics]       0.0   0.0  \n",
       "3  [Biochemical Research Methods; Respiratory Sys...       0.0   0.0  \n",
       "4                       [Multidisciplinary Sciences]       0.0   0.0  \n",
       "5           [Cell Biology; Geriatrics & Gerontology]       0.0   0.0  \n",
       "6                                               None       0.0   0.0  \n",
       "7                               [Respiratory System]       0.0   0.0  \n",
       "8                                   [Remote Sensing]       0.0   0.0  \n",
       "9                                       [Entomology]       0.0   0.0  "
      ]
     },
     "execution_count": 8,
     "metadata": {},
     "output_type": "execute_result"
    }
   ],
   "source": [
    "django.db.connection.close()\n",
    "df = (pd.concat([seen_df,unseen_df])\n",
    "      .sort_values('id')\n",
    "      .sample(frac=1, random_state=1)\n",
    "      .reset_index(drop=True)\n",
    ")\n",
    "y = df['relevant']\n",
    "\n",
    "seen_index = df[df['seen']==1].index\n",
    "unseen_index = df[df['seen']==0].index\n",
    "\n",
    "print(df.shape)\n",
    "df.head(10)"
   ]
  },
  {
   "cell_type": "markdown",
   "metadata": {},
   "source": [
    "### We also get the assignments of these documents to categories, and add these as further columns in our dataframe\n",
    "again we get the majority ratings"
   ]
  },
  {
   "cell_type": "code",
   "execution_count": 9,
   "metadata": {},
   "outputs": [
    {
     "name": "stdout",
     "output_type": "stream",
     "text": [
      "(1038, 4)\n"
     ]
    },
    {
     "data": {
      "text/html": [
       "<div>\n",
       "<style scoped>\n",
       "    .dataframe tbody tr th:only-of-type {\n",
       "        vertical-align: middle;\n",
       "    }\n",
       "\n",
       "    .dataframe tbody tr th {\n",
       "        vertical-align: top;\n",
       "    }\n",
       "\n",
       "    .dataframe thead th {\n",
       "        text-align: right;\n",
       "    }\n",
       "</style>\n",
       "<table border=\"1\" class=\"dataframe\">\n",
       "  <thead>\n",
       "    <tr style=\"text-align: right;\">\n",
       "      <th>cname</th>\n",
       "      <th>doc__id</th>\n",
       "      <th>1 - Adaptation</th>\n",
       "      <th>1 - Impact</th>\n",
       "      <th>1 - Mitigation</th>\n",
       "    </tr>\n",
       "  </thead>\n",
       "  <tbody>\n",
       "    <tr>\n",
       "      <th>267</th>\n",
       "      <td>3538514</td>\n",
       "      <td>1.0</td>\n",
       "      <td>0.0</td>\n",
       "      <td>0.0</td>\n",
       "    </tr>\n",
       "    <tr>\n",
       "      <th>268</th>\n",
       "      <td>3540061</td>\n",
       "      <td>0.0</td>\n",
       "      <td>0.0</td>\n",
       "      <td>1.0</td>\n",
       "    </tr>\n",
       "    <tr>\n",
       "      <th>269</th>\n",
       "      <td>3541391</td>\n",
       "      <td>1.0</td>\n",
       "      <td>0.0</td>\n",
       "      <td>0.0</td>\n",
       "    </tr>\n",
       "    <tr>\n",
       "      <th>270</th>\n",
       "      <td>3545382</td>\n",
       "      <td>1.0</td>\n",
       "      <td>0.0</td>\n",
       "      <td>0.0</td>\n",
       "    </tr>\n",
       "    <tr>\n",
       "      <th>271</th>\n",
       "      <td>3546196</td>\n",
       "      <td>0.0</td>\n",
       "      <td>1.0</td>\n",
       "      <td>0.0</td>\n",
       "    </tr>\n",
       "  </tbody>\n",
       "</table>\n",
       "</div>"
      ],
      "text/plain": [
       "cname  doc__id  1 - Adaptation  1 - Impact  1 - Mitigation\n",
       "267    3538514             1.0         0.0             0.0\n",
       "268    3540061             0.0         0.0             1.0\n",
       "269    3541391             1.0         0.0             0.0\n",
       "270    3545382             1.0         0.0             0.0\n",
       "271    3546196             0.0         1.0             0.0"
      ]
     },
     "execution_count": 9,
     "metadata": {},
     "output_type": "execute_result"
    }
   ],
   "source": [
    "# first get only those ratings from the updated tags\n",
    "dudf = pd.DataFrame.from_dict(\n",
    "    DocUserCat.objects.filter(\n",
    "        doc__pk__in=updated_df['id'],category__project=p\n",
    "    ).values('user__username','doc__id','category__level','category__name')\n",
    ")\n",
    "updated_docusers = updated_dos.values_list('doc__id',\"user__username\")\n",
    "dudf = dudf[dudf[['doc__id', 'user__username']].apply(tuple, axis=1).isin(updated_docusers)]\n",
    "dudf['v'] = 1\n",
    "dudf['cname'] =  dudf['category__level'].astype(str) + \" - \" + dudf['category__name']#\n",
    "dudf = dudf.drop(columns=['category__level','category__name'])\n",
    "dudf_wide = dudf.pivot_table(index=['doc__id','user__username'],columns=\"cname\", values=\"v\").fillna(0)\n",
    "updated_gudf = dudf_wide.groupby(['doc__id']).agg(lambda x: st.mode(x)[0][0]).reset_index()\n",
    "\n",
    "\n",
    "dudf = pd.DataFrame.from_dict(\n",
    "    DocUserCat.objects.filter(\n",
    "        doc__pk__in=set(seen_df['id']) - set(updated_df['id']),category__project=p\n",
    "    ).values('user__username','doc__id','category__level','category__name')\n",
    ")\n",
    "dudf['v'] = 1\n",
    "dudf['cname'] =  dudf['category__level'].astype(str) + \" - \" + dudf['category__name']#\n",
    "dudf = dudf.drop(columns=['category__level','category__name'])\n",
    "dudf_wide = dudf.pivot_table(index=['doc__id','user__username'],columns=\"cname\", values=\"v\").fillna(0)\n",
    "gudf = dudf_wide.groupby(['doc__id']).agg(lambda x: st.mode(x)[0][0]).reset_index()\n",
    "\n",
    "#merge updated and old\n",
    "gudf = pd.concat([gudf,updated_gudf])\n",
    "\n",
    "print(gudf.shape)\n",
    "gudf.tail()"
   ]
  },
  {
   "cell_type": "markdown",
   "metadata": {},
   "source": [
    "## And merge"
   ]
  },
  {
   "cell_type": "code",
   "execution_count": 10,
   "metadata": {},
   "outputs": [
    {
     "name": "stdout",
     "output_type": "stream",
     "text": [
      "(286144, 11)\n"
     ]
    },
    {
     "data": {
      "text/html": [
       "<div>\n",
       "<style scoped>\n",
       "    .dataframe tbody tr th:only-of-type {\n",
       "        vertical-align: middle;\n",
       "    }\n",
       "\n",
       "    .dataframe tbody tr th {\n",
       "        vertical-align: top;\n",
       "    }\n",
       "\n",
       "    .dataframe thead th {\n",
       "        text-align: right;\n",
       "    }\n",
       "</style>\n",
       "<table border=\"1\" class=\"dataframe\">\n",
       "  <thead>\n",
       "    <tr style=\"text-align: right;\">\n",
       "      <th></th>\n",
       "      <th>id</th>\n",
       "      <th>content</th>\n",
       "      <th>title</th>\n",
       "      <th>PY</th>\n",
       "      <th>wosarticle__de</th>\n",
       "      <th>wosarticle__wc</th>\n",
       "      <th>relevant</th>\n",
       "      <th>seen</th>\n",
       "      <th>1 - Adaptation</th>\n",
       "      <th>1 - Impact</th>\n",
       "      <th>1 - Mitigation</th>\n",
       "    </tr>\n",
       "  </thead>\n",
       "  <tbody>\n",
       "    <tr>\n",
       "      <th>0</th>\n",
       "      <td>3487494</td>\n",
       "      <td>In Cotonou, as in many expanding West African ...</td>\n",
       "      <td>Degradation of groundwater quality in expandin...</td>\n",
       "      <td>2020.0</td>\n",
       "      <td>Groundwater; Sewerage and septic tank contamin...</td>\n",
       "      <td>[Engineering, Civil; Geosciences, Multidiscipl...</td>\n",
       "      <td>0.0</td>\n",
       "      <td>0.0</td>\n",
       "      <td>0.0</td>\n",
       "      <td>0.0</td>\n",
       "      <td>0.0</td>\n",
       "    </tr>\n",
       "    <tr>\n",
       "      <th>1</th>\n",
       "      <td>3469235</td>\n",
       "      <td>Many shrimp farmers were suffering from White ...</td>\n",
       "      <td>Effects of temperature on hematological and hi...</td>\n",
       "      <td>2014.0</td>\n",
       "      <td>White Spot Syndrom Virus; Temperature; Fennero...</td>\n",
       "      <td>[Fisheries]</td>\n",
       "      <td>0.0</td>\n",
       "      <td>0.0</td>\n",
       "      <td>0.0</td>\n",
       "      <td>0.0</td>\n",
       "      <td>0.0</td>\n",
       "    </tr>\n",
       "    <tr>\n",
       "      <th>2</th>\n",
       "      <td>3412530</td>\n",
       "      <td>Big data and cloud computing are two phenomena...</td>\n",
       "      <td>A Case Study of Advancing Remote Sensing Image...</td>\n",
       "      <td>2015.0</td>\n",
       "      <td>remote sensing image analysis; object based im...</td>\n",
       "      <td>[Computer Science, Cybernetics]</td>\n",
       "      <td>0.0</td>\n",
       "      <td>0.0</td>\n",
       "      <td>0.0</td>\n",
       "      <td>0.0</td>\n",
       "      <td>0.0</td>\n",
       "    </tr>\n",
       "    <tr>\n",
       "      <th>3</th>\n",
       "      <td>3482141</td>\n",
       "      <td>Knowledge of the release of volatile organic c...</td>\n",
       "      <td>Quantitative analysis of volatile organic comp...</td>\n",
       "      <td>2014.0</td>\n",
       "      <td>L6 cells; skeletal muscle; volatile organic co...</td>\n",
       "      <td>[Biochemical Research Methods; Respiratory Sys...</td>\n",
       "      <td>0.0</td>\n",
       "      <td>0.0</td>\n",
       "      <td>0.0</td>\n",
       "      <td>0.0</td>\n",
       "      <td>0.0</td>\n",
       "    </tr>\n",
       "    <tr>\n",
       "      <th>4</th>\n",
       "      <td>3400113</td>\n",
       "      <td>Burkholderia pseudomallei, causative agent of ...</td>\n",
       "      <td>Rivers as carriers and potential sentinels for...</td>\n",
       "      <td>2018.0</td>\n",
       "      <td>0</td>\n",
       "      <td>[Multidisciplinary Sciences]</td>\n",
       "      <td>0.0</td>\n",
       "      <td>0.0</td>\n",
       "      <td>0.0</td>\n",
       "      <td>0.0</td>\n",
       "      <td>0.0</td>\n",
       "    </tr>\n",
       "  </tbody>\n",
       "</table>\n",
       "</div>"
      ],
      "text/plain": [
       "        id                                            content  \\\n",
       "0  3487494  In Cotonou, as in many expanding West African ...   \n",
       "1  3469235  Many shrimp farmers were suffering from White ...   \n",
       "2  3412530  Big data and cloud computing are two phenomena...   \n",
       "3  3482141  Knowledge of the release of volatile organic c...   \n",
       "4  3400113  Burkholderia pseudomallei, causative agent of ...   \n",
       "\n",
       "                                               title      PY  \\\n",
       "0  Degradation of groundwater quality in expandin...  2020.0   \n",
       "1  Effects of temperature on hematological and hi...  2014.0   \n",
       "2  A Case Study of Advancing Remote Sensing Image...  2015.0   \n",
       "3  Quantitative analysis of volatile organic comp...  2014.0   \n",
       "4  Rivers as carriers and potential sentinels for...  2018.0   \n",
       "\n",
       "                                      wosarticle__de  \\\n",
       "0  Groundwater; Sewerage and septic tank contamin...   \n",
       "1  White Spot Syndrom Virus; Temperature; Fennero...   \n",
       "2  remote sensing image analysis; object based im...   \n",
       "3  L6 cells; skeletal muscle; volatile organic co...   \n",
       "4                                                  0   \n",
       "\n",
       "                                      wosarticle__wc  relevant  seen  \\\n",
       "0  [Engineering, Civil; Geosciences, Multidiscipl...       0.0   0.0   \n",
       "1                                        [Fisheries]       0.0   0.0   \n",
       "2                    [Computer Science, Cybernetics]       0.0   0.0   \n",
       "3  [Biochemical Research Methods; Respiratory Sys...       0.0   0.0   \n",
       "4                       [Multidisciplinary Sciences]       0.0   0.0   \n",
       "\n",
       "   1 - Adaptation  1 - Impact  1 - Mitigation  \n",
       "0             0.0         0.0             0.0  \n",
       "1             0.0         0.0             0.0  \n",
       "2             0.0         0.0             0.0  \n",
       "3             0.0         0.0             0.0  \n",
       "4             0.0         0.0             0.0  "
      ]
     },
     "execution_count": 10,
     "metadata": {},
     "output_type": "execute_result"
    }
   ],
   "source": [
    "df = pd.merge(df, gudf.rename(columns={\"doc__id\":\"id\"}), how=\"left\").fillna(0)\n",
    "print(df.shape)\n",
    "df.head()"
   ]
  },
  {
   "cell_type": "markdown",
   "metadata": {},
   "source": [
    "### We have a look at the distribution of relevant and not relevant documents\n"
   ]
  },
  {
   "cell_type": "code",
   "execution_count": 11,
   "metadata": {},
   "outputs": [
    {
     "data": {
      "text/plain": [
       "Text(0, 0.5, 'Number of documents')"
      ]
     },
     "execution_count": 11,
     "metadata": {},
     "output_type": "execute_result"
    },
    {
     "data": {
      "image/png": "[encoded data removed]",
      "text/plain": [
       "<Figure size 432x288 with 1 Axes>"
      ]
     },
     "metadata": {},
     "output_type": "display_data"
    }
   ],
   "source": [
    "fig, ax = plt.subplots()\n",
    "n = seen_df.shape[0]\n",
    "y = df['relevant']\n",
    "for i, (name, group) in enumerate(seen_df.groupby('relevant')):\n",
    "    ax.bar(i, group.shape[0])\n",
    "    ax.text(i, group.shape[0]+n*0.02, f'{group.shape[0]/n:.0%}',ha=\"center\")\n",
    "\n",
    "ax.set_xticks([0,1])\n",
    "ax.set_ylim(ymax=ax.get_ylim()[1]*1.05)\n",
    "ax.set_xlabel('Relevance')\n",
    "ax.set_ylabel('Number of documents')"
   ]
  },
  {
   "cell_type": "markdown",
   "metadata": {},
   "source": [
    "### Now we \"vectorize\" the data, representing each document as a weighted count of its words and phrases (bag of words and bigrams). Or if we already did this previously, then we reload the vectorized data"
   ]
  },
  {
   "cell_type": "code",
   "execution_count": 21,
   "metadata": {},
   "outputs": [
    {
     "name": "stderr",
     "output_type": "stream",
     "text": [
      "/home/galm/software/django/tmv/venv/lib/python3.6/site-packages/sklearn/feature_extraction/text.py:484: UserWarning: The parameter 'token_pattern' will not be used since 'tokenizer' is not None'\n",
      "  warnings.warn(\"The parameter 'token_pattern' will not be used\"\n",
      "/home/galm/software/django/tmv/venv/lib/python3.6/site-packages/sklearn/feature_extraction/text.py:386: UserWarning: Your stop_words may be inconsistent with your preprocessing. Tokenizing the stop words generated tokens ['make'] not in stop_words.\n",
      "  'stop_words.' % sorted(inconsistent))\n"
     ]
    },
    {
     "name": "stdout",
     "output_type": "stream",
     "text": [
      "(286144, 10000)\n"
     ]
    }
   ],
   "source": [
    "import pickle\n",
    "import scipy\n",
    "revectorize = True\n",
    "y = df['relevant']\n",
    "if revectorize:\n",
    "    vec = TfidfVectorizer(\n",
    "        ngram_range=(1,2),\n",
    "        min_df=4, max_df=0.8, strip_accents='unicode', \n",
    "        max_features=10000,\n",
    "        use_idf=1,\n",
    "        smooth_idf=1, sublinear_tf=1,\n",
    "        stop_words=\"english\",tokenizer=lu.tokenize\n",
    "    )\n",
    "    vec.fit(df.loc[seen_index,'content'].astype(str))\n",
    "    ab_X = vec.transform(df['content'].astype(str))\n",
    "    with open ('vec.pickle','wb') as f: #changed dir from data/vec.pickle to just vec.pickle\n",
    "        pickle.dump(vec, f)\n",
    "    import scipy.sparse\n",
    "    scipy.sparse.save_npz('X.npz', ab_X)\n",
    "else:\n",
    "    with open ('vec.pickle','rb') as f:\n",
    "        vec = pickle.load(f)\n",
    "    ab_X = scipy.sparse.load_npz('X.npz')#changed dir from data/vec.pickle to just vec.pickle\n",
    "    \n",
    "print(ab_X.shape)"
   ]
  },
  {
   "cell_type": "markdown",
   "metadata": {},
   "source": [
    "### We build 3 types of classifiers, and test these with k-fold cross validation"
   ]
  },
  {
   "cell_type": "code",
   "execution_count": 24,
   "metadata": {},
   "outputs": [],
   "source": [
    "def cross_validate_models(X,y,clf_models, seen_index, n_splits=10, classes=None,\n",
    "    upsample=False,roundup=False, df=None,\n",
    "    stratified_k=False, test_index=None, p_threshold=None):    \n",
    "    \n",
    "    if stratified_k:\n",
    "        label_encoder = LabelEncoder()\n",
    "        kf = StratifiedKFold(n_splits=n_splits)\n",
    "        kfs = kf.split(X[seen_index],label_encoder.fit_transform(y[seen_index]))\n",
    "    else:\n",
    "        kf = KFold(n_splits=n_splits)\n",
    "        kfs = kf.split(X[seen_index],y[seen_index])\n",
    "    i=0    \n",
    "    \n",
    "    def tpr(y_true, y_pred):\n",
    "        return roc_curve(y_true, y_pred)[1]\n",
    "    def fpr(y_true, y_pred):\n",
    "        return roc_curve(y_true, y_pred)[0]\n",
    "    def prec(y_true, y_pred):\n",
    "        return precision_recall_curve(y_true,y_pred)[0]\n",
    "    def rec(y_true, y_pred):\n",
    "        return precision_recall_curve(y_true,y_pred)[1]    \n",
    "    \n",
    "    scores = [\n",
    "        # name, function, on y when multiclas, on each y when multiclass, # proba\n",
    "        ('p',precision_score, True, True, False),\n",
    "        ('r',recall_score, True, True, False),\n",
    "        ('f1', f1_score, True, True, False),\n",
    "        ('e', accuracy_score, True, True, False),\n",
    "        ('i', None, False, False, False),\n",
    "        ('auc', roc_auc_score, True, True, True),\n",
    "        ('tpr', tpr, False, True, True),\n",
    "        ('fpr', fpr, False, True, True),\n",
    "        ('prec', prec, False, True, True),\n",
    "        ('rec', rec, False, True, True)\n",
    "    ]    \n",
    "    \n",
    "    if classes:\n",
    "        scores += [\n",
    "            ('cov_err', coverage_error, True, False, False),\n",
    "            ('LRAP', label_ranking_average_precision_score, True, False, False),\n",
    "            ('LRL', label_ranking_loss, True, False, False)\n",
    "        ]    \n",
    "        \n",
    "    for model in clf_models:\n",
    "        for m in scores:\n",
    "            model[m[0]] = []\n",
    "        metrics = ['e']\n",
    "        if classes:\n",
    "            for j, y_class in enumerate(classes):\n",
    "                for m in scores:\n",
    "                    if m[1]:\n",
    "                        model[f'{m[0]}\\n{y_class}'] = []                \n",
    "                        \n",
    "                metrics += [f'p\\n{y_class}', f'r\\n{y_class}']    \n",
    "                \n",
    "    if test_index is not None:\n",
    "        test_preds = []    \n",
    "    for k_train, k_test in kfs:\n",
    "        k_train = seen_index[k_train]\n",
    "        k_test = seen_index[k_test]\n",
    "        if test_index is not None:\n",
    "            k_test = test_index\n",
    "        if upsample:\n",
    "            ros = RandomOverSampler(random_state=42)\n",
    "            if classes:\n",
    "                lp = LabelPowerset()\n",
    "                yt = lp.transform(y)\n",
    "                X_train, y_resampled = ros.fit_resample(X[k_train],yt[k_train])\n",
    "                y_train = lp.inverse_transform(y_resampled).todense()\n",
    "            else:\n",
    "                X_train, y_train = ros.fit_resample(X[k_train],y[k_train].todense())\n",
    "        else:\n",
    "            X_train = X[k_train]\n",
    "            y_train = y[k_train]\n",
    "        i+=1\n",
    "        print(i)\n",
    "        for model in clf_models:\n",
    "            clf = model['model']\n",
    "            model['i'].append(i)\n",
    "            #clf = SVC(kernel='rbf',probability=True)\n",
    "            clf.fit(X_train,y_train)\n",
    "            predictions = clf.predict(X[k_test])\n",
    "            try:\n",
    "                predictions_proba = clf.predict_proba(X[k_test])\n",
    "            except:\n",
    "                predictions_proba = predictions\n",
    "                print(\"WARNING! Can't predict probabilities with this model, just using binary predictions\")\n",
    "                \n",
    "            if hasattr(predictions_proba,\"todense\"):\n",
    "                predictions_proba = predictions_proba.todense()\n",
    "            if hasattr(predictions,\"todense\"):\n",
    "                predictions = predictions.todense()\n",
    "            if test_index is not None:\n",
    "                test_preds.append(predictions_proba)\n",
    "            if p_threshold is not None:\n",
    "                predictions = np.where(predictions_proba>=p_threshold,1,0)[:,1]           \n",
    "            \n",
    "            if classes:\n",
    "                if roundup:\n",
    "                    for j, c in enumerate(predictions_proba.argmax(axis=1)):\n",
    "                        predictions[j,c] = 1\n",
    "                for m in scores:\n",
    "                    if m[4]:\n",
    "                        y_pred = predictions_proba\n",
    "                    else:\n",
    "                        y_pred = predictions                    \n",
    "                    if not m[1] or not m[2]:\n",
    "                        continue\n",
    "                    try:\n",
    "                        model[m[0]].append(m[1](y[k_test],y_pred,average=\"weighted\"))\n",
    "                    except TypeError:\n",
    "                        model[m[0]].append(m[1](y[k_test],y_pred))\n",
    "                    except ValueError:\n",
    "                        pass\n",
    "                    \n",
    "                for j, y_class in enumerate(classes):\n",
    "                    # if y[k_train,i].sum() == 0:\n",
    "                    #     print(\"no labels for {y_class}\")\n",
    "                    for m in scores:\n",
    "                        if not m[1]:\n",
    "                            continue\n",
    "                        if m[3]: # if do this metric on each class\n",
    "                            if m[4]: # if use probabilities\n",
    "                                y_pred = predictions_proba\n",
    "                            else:\n",
    "                                y_pred = predictions\n",
    "                            try:\n",
    "                                model[f'{m[0]}\\n{y_class}'].append(m[1](y[k_test,j],y_pred[:,j]))\n",
    "                            except:\n",
    "                                model[f'{m[0]}\\n{y_class}'].append(None)\n",
    "                    if df is not None:\n",
    "                        df.loc[k_test,f\"{y_class} - k_prediction\"] = predictions_proba[:,j]\n",
    "                        df.loc[k_test,f\"{y_class} - k_prediction_binary\"] = predictions[:,j]\n",
    "            else:\n",
    "                for m in scores:\n",
    "                    if not m[1]:\n",
    "                        continue\n",
    "                    model[m[0]].append(m[1](y[k_test],predictions))\n",
    "                if df is not None:\n",
    "                    df.loc[k_test, \"y_k_prediction\"] = predictions_proba[:,1]    \n",
    "                    \n",
    "    if classes:\n",
    "        if df is not None:\n",
    "            return clf_models, metrics, df\n",
    "        return clf_models, metrics\n",
    "    else:\n",
    "        if df is not None:\n",
    "            return clf_models, df\n",
    "        elif test_index is not None:\n",
    "            return clf_models, np.array(test_preds)\n",
    "        return clf_models"
   ]
  },
  {
   "cell_type": "code",
   "execution_count": 27,
   "metadata": {},
   "outputs": [
    {
     "name": "stdout",
     "output_type": "stream",
     "text": [
      "1\n",
      "2\n",
      "3\n",
      "4\n",
      "5\n",
      "6\n",
      "7\n",
      "8\n",
      "9\n",
      "10\n"
     ]
    }
   ],
   "source": [
    "from sklearn.ensemble import RandomForestClassifier\n",
    "from sklearn.model_selection import KFold\n",
    "from importlib import reload  \n",
    "import scoping.utils.learning_utils as lu\n",
    "reload(scoping.utils.learning_utils)\n",
    "\n",
    "\n",
    "\n",
    "#NB: keep the preferred model last if you want to use the y_k prediction as it overwrites with every new model\n",
    "models = [\n",
    "    {\n",
    "        'title':\"Neural Net\",\n",
    "        'model': MLPClassifier(\n",
    "            solver='lbfgs', \n",
    "            alpha=0.1,\n",
    "            hidden_layer_sizes=(10), \n",
    "            random_state=2020\n",
    "        )\n",
    "    },\n",
    "    {\n",
    "        'title': 'Bayes', \n",
    "        'model': MultinomialNB(alpha=0.1)     \n",
    "    },\n",
    "    {\n",
    "        'title': 'RandForest',\n",
    "        'model': RandomForestClassifier(n_estimators=1000, max_depth=None,\n",
    "                                        max_features=\"sqrt\", min_samples_split=2, random_state= 2020)\n",
    "    },\n",
    "    {\n",
    "        'title': 'SVM-rbf',\n",
    "        'model': SVC(kernel='rbf',class_weight='balanced',probability=True, random_state= 2020)\n",
    "    },\n",
    "]\n",
    "\n",
    "models, df = lu.cross_validate_models(ab_X, y, models, seen_index,df=df)"
   ]
  },
  {
   "cell_type": "code",
   "execution_count": 28,
   "metadata": {},
   "outputs": [
    {
     "data": {
      "image/png": "[encoded data removed]",
      "text/plain": [
       "<Figure size 1000x625 with 4 Axes>"
      ]
     },
     "metadata": {},
     "output_type": "display_data"
    }
   ],
   "source": [
    "fig, axs = plt.subplots(1, len(models),dpi=125,figsize=(8,5),sharey=True)              \n",
    "lu.plot_model_output(models,  ['p','r','e'], fig, axs)\n",
    "plt.xlabel(['precision', 'recall', 'accuracy'])\n",
    "plt.show()"
   ]
  },
  {
   "cell_type": "code",
   "execution_count": 18,
   "metadata": {},
   "outputs": [],
   "source": [
    "model_df = pd.DataFrame(models)\n",
    "model_df.to_csv(f\"Ar&Rev_models_relevance_{now}.csv\",index=False) #removed doctables/ from dir"
   ]
  },
  {
   "cell_type": "markdown",
   "metadata": {},
   "source": [
    "### We can choose the best performing model (for our purposes) and fit it on our unseen data, in order to predict the probability that our unseen documents are relevant"
   ]
  },
  {
   "cell_type": "code",
   "execution_count": 29,
   "metadata": {},
   "outputs": [],
   "source": [
    "clf = SVC(kernel='rbf',class_weight='balanced',probability=True)\n",
    "\n",
    "y = df['relevant']\n",
    "\n",
    "clf.fit(ab_X[seen_index],y[seen_index])\n",
    "\n",
    "y_pred = clf.predict_proba(ab_X[unseen_index])"
   ]
  },
  {
   "cell_type": "code",
   "execution_count": 31,
   "metadata": {},
   "outputs": [
    {
     "name": "stderr",
     "output_type": "stream",
     "text": [
      "/home/galm/software/django/tmv/venv/lib/python3.6/site-packages/pandas/core/indexes/range.py:720: FutureWarning: Support for multi-dimensional indexing (e.g. `obj[:, None]`) is deprecated and will be removed in a future version.  Convert to a numpy array before indexing instead.\n",
      "  return super().__getitem__(key)\n",
      "/home/galm/software/django/tmv/venv/lib/python3.6/site-packages/matplotlib/cbook/__init__.py:1402: FutureWarning: Support for multi-dimensional indexing (e.g. `obj[:, None]`) is deprecated and will be removed in a future version.  Convert to a numpy array before indexing instead.\n",
      "  ndim = x[:, None].ndim\n",
      "/home/galm/software/django/tmv/venv/lib/python3.6/site-packages/matplotlib/axes/_base.py:278: FutureWarning: Support for multi-dimensional indexing (e.g. `obj[:, None]`) is deprecated and will be removed in a future version.  Convert to a numpy array before indexing instead.\n",
      "  y = y[:, np.newaxis]\n"
     ]
    },
    {
     "name": "stdout",
     "output_type": "stream",
     "text": [
      "15967 out of 282414 documents are predicted to be relevant\n"
     ]
    },
    {
     "data": {
      "image/png": "[encoded data removed]",
      "text/plain": [
       "<Figure size 432x288 with 1 Axes>"
      ]
     },
     "metadata": {},
     "output_type": "display_data"
    }
   ],
   "source": [
    "plt.close()\n",
    "\n",
    "threshold = 0.33\n",
    "\n",
    "df['0 - relevance - prediction'] = None\n",
    "df.loc[unseen_index,'0 - relevance - prediction'] = y_pred[:,1]\n",
    "\n",
    "predicted_index = df[df['0 - relevance - prediction']>threshold].index\n",
    "\n",
    "fig, ax = plt.subplots()\n",
    "\n",
    "pdf = df.sort_values('0 - relevance - prediction').reset_index(drop=True)\n",
    "ax.plot(pdf.index,pdf['0 - relevance - prediction'])\n",
    "ax.axhline(threshold,linestyle=\"--\",color=\"grey\")\n",
    "\n",
    "rel = df[pdf['0 - relevance - prediction']>threshold].shape[0]\n",
    "tot = pdf[pdf['0 - relevance - prediction'].notna()].shape[0]\n",
    "\n",
    "\n",
    "print(f\"{rel} out of {tot} documents are predicted to be relevant\")\n",
    "\n",
    "df[['id','0 - relevance - prediction']].to_csv(f'predictions_{now}.csv',index=False)#removed doctables/ from dir\n",
    "\n",
    "plt.show()"
   ]
  },
  {
   "cell_type": "markdown",
   "metadata": {},
   "source": [
    "### Saving the outcome"
   ]
  },
  {
   "cell_type": "code",
   "execution_count": 109,
   "metadata": {},
   "outputs": [
    {
     "data": {
      "text/plain": [
       "(15728, 23)"
      ]
     },
     "execution_count": 109,
     "metadata": {},
     "output_type": "execute_result"
    }
   ],
   "source": [
    "#Added to write relevant docs to csv\n",
    "#threshold = 0.33 # set if you didn't set it above\n",
    "RelevantDocs  = df[(df['0 - relevance - prediction'] >= threshold) | (df['relevant'] == 1)]\n",
    "RelevantDocs[['id', 'PY', 'title', 'content']].to_csv(f'{now}_Ar&REv_PredictedRelevantSVM.csv', index = False)\n",
    "\n",
    "RelevantDocs.shape"
   ]
  },
  {
   "cell_type": "code",
   "execution_count": 110,
   "metadata": {},
   "outputs": [
    {
     "name": "stderr",
     "output_type": "stream",
     "text": [
      "/home/galm/software/django/tmv/venv/lib/python3.6/site-packages/pandas/core/indexing.py:1765: SettingWithCopyWarning: \n",
      "A value is trying to be set on a copy of a slice from a DataFrame.\n",
      "Try using .loc[row_indexer,col_indexer] = value instead\n",
      "\n",
      "See the caveats in the documentation: https://pandas.pydata.org/pandas-docs/stable/user_guide/indexing.html#returning-a-view-versus-a-copy\n",
      "  isetter(loc, value)\n"
     ]
    },
    {
     "data": {
      "text/html": [
       "<div>\n",
       "<style scoped>\n",
       "    .dataframe tbody tr th:only-of-type {\n",
       "        vertical-align: middle;\n",
       "    }\n",
       "\n",
       "    .dataframe tbody tr th {\n",
       "        vertical-align: top;\n",
       "    }\n",
       "\n",
       "    .dataframe thead th {\n",
       "        text-align: right;\n",
       "    }\n",
       "</style>\n",
       "<table border=\"1\" class=\"dataframe\">\n",
       "  <thead>\n",
       "    <tr style=\"text-align: right;\">\n",
       "      <th></th>\n",
       "      <th>id</th>\n",
       "      <th>label</th>\n",
       "      <th>prediction</th>\n",
       "    </tr>\n",
       "  </thead>\n",
       "  <tbody>\n",
       "    <tr>\n",
       "      <th>0</th>\n",
       "      <td>3487494</td>\n",
       "      <td>NaN</td>\n",
       "      <td>0.137359</td>\n",
       "    </tr>\n",
       "    <tr>\n",
       "      <th>1</th>\n",
       "      <td>3469235</td>\n",
       "      <td>NaN</td>\n",
       "      <td>0.0329321</td>\n",
       "    </tr>\n",
       "    <tr>\n",
       "      <th>2</th>\n",
       "      <td>3412530</td>\n",
       "      <td>NaN</td>\n",
       "      <td>0.0235021</td>\n",
       "    </tr>\n",
       "    <tr>\n",
       "      <th>3</th>\n",
       "      <td>3482141</td>\n",
       "      <td>NaN</td>\n",
       "      <td>0.0041195</td>\n",
       "    </tr>\n",
       "    <tr>\n",
       "      <th>4</th>\n",
       "      <td>3400113</td>\n",
       "      <td>NaN</td>\n",
       "      <td>0.0395413</td>\n",
       "    </tr>\n",
       "  </tbody>\n",
       "</table>\n",
       "</div>"
      ],
      "text/plain": [
       "        id  label prediction\n",
       "0  3487494    NaN   0.137359\n",
       "1  3469235    NaN  0.0329321\n",
       "2  3412530    NaN  0.0235021\n",
       "3  3482141    NaN  0.0041195\n",
       "4  3400113    NaN  0.0395413"
      ]
     },
     "execution_count": 110,
     "metadata": {},
     "output_type": "execute_result"
    }
   ],
   "source": [
    "#writing a smaller DF with just the IDs, human-made labels, and machine prediction\n",
    "outdf = df[['id', 'relevant', 'seen', '0 - relevance - prediction']]\n",
    "outdf.loc[outdf['seen'] ==0, 'relevant'] = None\n",
    "outdf = outdf[['id', 'relevant', '0 - relevance - prediction']]\n",
    "outdf.columns = ['id', 'label', 'prediction']\n",
    "\n",
    "outdf.to_csv(f'IdLabelPrediction_{now}.csv', index=False)\n",
    "outdf.head()"
   ]
  },
  {
   "cell_type": "code",
   "execution_count": null,
   "metadata": {},
   "outputs": [],
   "source": [
    "#create a new query that can be used for topic modelling for example\n",
    "newq, created = Query.objects.get_or_create(\n",
    "    project=p,\n",
    "    creator=User.objects.get(username=\"eeajs@leeds.ac.uk\"),\n",
    "    title=\"The final run v2\"\n",
    ")\n",
    "\n",
    "T = Doc.query.through\n",
    "dqs = [T(doc_id=did, query=newq) for did in list(RelevantDocs['id'])]\n",
    "T.objects.bulk_create(dqs)\n",
    "newq.r_count = newq.doc_set.count()\n",
    "newq.save()"
   ]
  },
  {
   "cell_type": "code",
   "execution_count": null,
   "metadata": {},
   "outputs": [],
   "source": [
    "# Create a tag of positvely predicted so we can screen based on those if we want\n",
    "tag, created = Tag.objects.get_or_create(\n",
    "    title=\"positively predicted\".format(now),\n",
    "    query=q\n",
    ")\n",
    "tag.save()\n",
    "\n",
    "for i, row in RelevantDocs.iterrows(): #using the index of the newly created dataframe on the full df\n",
    "    d = Doc.objects.get(pk=row['id'])\n",
    "    d.tag.add(tag)\n",
    "tag.update_tag()"
   ]
  },
  {
   "cell_type": "markdown",
   "metadata": {},
   "source": [
    "### Evaluation of model"
   ]
  },
  {
   "cell_type": "code",
   "execution_count": 32,
   "metadata": {},
   "outputs": [
    {
     "data": {
      "text/plain": [
       "[[182, 0.0, 0.0],\n",
       " [566, 0.6179475918606353, 0.11949551685081776],\n",
       " [950, 0.7081581803030902, 0.1396121718320223],\n",
       " [1335, 0.7243714821763603, 0.06473857788978693],\n",
       " [1719, 0.7098519929321103, 0.02757115482645143],\n",
       " [2103, 0.7411267962611803, 0.03521074186725423],\n",
       " [2488, 0.7451168002884642, 0.011495977455316282],\n",
       " [2872, 0.7501256159593435, 0.04363709069566326],\n",
       " [3256, 0.7646086115002426, 0.038195337864363806],\n",
       " [3641, 0.7593833753383701, 0.024078278397352555]]"
      ]
     },
     "execution_count": 32,
     "metadata": {},
     "output_type": "execute_result"
    }
   ],
   "source": [
    "#SIMPLE EXAMPLE TO GET AN IDEA FOR HOW MUCH ADDED TRAINING DATA ADDS\n",
    "#Requires re-training so will take a while\n",
    "from sklearn.model_selection import cross_val_score\n",
    "from sklearn import metrics\n",
    "\n",
    "#clf = SVC(kernel='rbf',class_weight='balanced',probability=True)\n",
    "\n",
    "#y = df['relevant']\n",
    "\n",
    "#WITH A RANDOM SAMPLE\n",
    "scores = []\n",
    "steps = np.linspace(0.05,1,10,endpoint=True)\n",
    "\n",
    "#basically: take a random sample from the relevance column, use the index to create a matching sample from ab_x for different sizes\n",
    "for n in steps:\n",
    "    ysample = y[seen_index].sample(n=math.floor(y[seen_index].shape[0]*n))\n",
    "    score = cross_val_score(clf,\n",
    "                            ab_X[ysample.index],\n",
    "                            ysample, \n",
    "                            cv=5,  scoring='f1')\n",
    "    scores.append([len(ysample), score.mean(), score.std()*2])\n",
    "\n",
    "scores"
   ]
  },
  {
   "cell_type": "code",
   "execution_count": 33,
   "metadata": {},
   "outputs": [
    {
     "data": {
      "image/png": "[encoded data removed]",
      "text/plain": [
       "<Figure size 720x432 with 1 Axes>"
      ]
     },
     "metadata": {},
     "output_type": "display_data"
    }
   ],
   "source": [
    "plt.close()\n",
    "fig, ax = plt.subplots(figsize=(10,6))\n",
    "\n",
    "xplot = [score[0] for score in scores]\n",
    "yplot = [score[1] for score in scores]\n",
    "yerr = [score[2] for score in scores]\n",
    "\n",
    "ax.plot(xplot, yplot, 'k-o')\n",
    "\n",
    "ax.fill_between(xplot,np.subtract(yplot,yerr), np.add(yplot, yerr),\n",
    "                 color='gray', alpha=0.2)\n",
    "\n",
    "ax.set_ylabel('f1 score')\n",
    "ax.set_xlabel('Number of documents in sample')\n",
    "ax.set_title('f1 scores for increasing sizes of test set', fontsize=14)\n",
    "ax.grid()\n",
    "\n",
    "plt.show()"
   ]
  },
  {
   "cell_type": "code",
   "execution_count": 34,
   "metadata": {},
   "outputs": [
    {
     "data": {
      "image/png": "[encoded data removed]",
      "text/plain": [
       "<Figure size 1000x625 with 4 Axes>"
      ]
     },
     "metadata": {},
     "output_type": "display_data"
    }
   ],
   "source": [
    "#Using the original k-fold crossvalidation: Area under curve plots\n",
    "from scipy import interp\n",
    "fig = plt.figure(dpi=125, figsize=(8,5))\n",
    "for j, model in enumerate(models):\n",
    "    ax = fig.add_subplot(2,3,j+1)\n",
    "    mean_fpr = np.linspace(0, 1, 100)\n",
    "    mean_auc = np.mean(model[f'auc'])\n",
    "    std_auc = np.std(model[f'auc'])\n",
    "    tprs = []\n",
    "    for i in range(len(model['i'])):\n",
    "        viz = ax.plot(\n",
    "            model[f'fpr'][i],\n",
    "            model[f'tpr'][i],\n",
    "            lw=0.5,\n",
    "            alpha=0.5,\n",
    "            color=f\"C1\"\n",
    "        )\n",
    "        interp_tpr = interp(mean_fpr, model[f'fpr'][i], model[f'tpr'][i])\n",
    "        interp_tpr[0] = 0.0\n",
    "        tprs.append(interp_tpr)\n",
    "        \n",
    "    mean_tpr = np.mean(tprs, axis=0)\n",
    "    mean_tpr[-1] = 1.0\n",
    "    ax.plot(mean_fpr, mean_tpr, color='b',\n",
    "    label=r'Mean ROC (AUC = %0.2f $\\pm$ %0.2f)' % (mean_auc, std_auc),\n",
    "    lw=1, alpha=.8)\n",
    "    ax.plot([0, 1], [0, 1], linestyle='--', lw=1, color='r',\n",
    "        label='Chance', alpha=.8)\n",
    "\n",
    "    ax.legend(fontsize=5)\n",
    "    ax.set_aspect(\"equal\")\n",
    "    ax.set_title(model['title'],fontsize=8)\n",
    "    ax.set_ylabel('True positive rate')\n",
    "    ax.set_xlabel('False positive rate')\n",
    "    \n",
    "    std_tpr = np.std(tprs, axis=0)\n",
    "    tprs_upper = np.minimum(mean_tpr + std_tpr, 1)\n",
    "    tprs_lower = np.maximum(mean_tpr - std_tpr, 0)\n",
    "    ax.fill_between(mean_fpr, tprs_lower, tprs_upper, color='grey', alpha=.2,\n",
    "                    label=r'$\\pm$ 1 std. dev.')\n",
    "    \n",
    "        \n",
    "fig.tight_layout()"
   ]
  },
  {
   "cell_type": "code",
   "execution_count": 35,
   "metadata": {},
   "outputs": [
    {
     "data": {
      "image/png": "[encoded data removed]",
      "text/plain": [
       "<Figure size 1000x625 with 4 Axes>"
      ]
     },
     "metadata": {},
     "output_type": "display_data"
    }
   ],
   "source": [
    "#Precission-recall plots \n",
    "from scipy import interp\n",
    "fig = plt.figure(dpi=125, figsize=(8,5))\n",
    "for j, model in enumerate(models):\n",
    "    ax = fig.add_subplot(2,3,j+1)\n",
    "    mean_fpr = np.linspace(0, 1, 100)\n",
    "    mean_auc = np.mean(model[f'auc'])\n",
    "    std_auc = np.std(model[f'auc'])\n",
    "    tprs = []\n",
    "    for i in range(len(model['i'])):\n",
    "        viz = ax.plot(\n",
    "            model[f'rec'][i],\n",
    "            model[f'prec'][i],\n",
    "            lw=0.5,\n",
    "            alpha=0.5,\n",
    "            color=f\"C1\"\n",
    "        )\n",
    "    ax.set_ylabel('precision')\n",
    "    ax.set_xlabel('recall')\n",
    "    ax.set_title(model['title'],fontsize=8)\n",
    "        \n",
    "fig.tight_layout()"
   ]
  },
  {
   "cell_type": "code",
   "execution_count": 36,
   "metadata": {},
   "outputs": [
    {
     "data": {
      "image/png": "[encoded data removed]",
      "text/plain": [
       "<Figure size 900x600 with 1 Axes>"
      ]
     },
     "metadata": {},
     "output_type": "display_data"
    }
   ],
   "source": [
    "from sklearn.metrics import f1_score, auc\n",
    "\n",
    "#predict probabilities\n",
    "#lr_probs = clf.predict_proba(testX)\n",
    "#r_probs = lr_probs[:, 1] #keep positive outcomes\n",
    "\n",
    "fig, ax = plt.subplots(dpi=150)\n",
    "\n",
    "lr_probs = df.loc[seen_index,'y_k_prediction']\n",
    "lr_true = df.loc[seen_index,'relevant']\n",
    "\n",
    "# predict class values\n",
    "#yhat = clf.predict(testX)\n",
    "\n",
    "# summarize scores\n",
    "lr_precision, lr_recall, _ = lr_precision, lr_recall, thresholds = precision_recall_curve(lr_true, lr_probs)\n",
    "\n",
    "#lr_f1, lr_auc = f1_score(lr_true, lr_probs), auc(lr_true, lr_probs)\n",
    "#print('For sample: f1=%.3f auc=%.3f' % (lr_f1, lr_auc))\n",
    "\n",
    "# plot the precision-recall curves\n",
    "no_skill = len(lr_true[lr_true==1]) / len(lr_true)\n",
    "plt.plot([0, 1], [no_skill, no_skill], linestyle='--', label='No Skill')\n",
    "plt.plot(lr_recall, lr_precision, marker='.', label='SVM')\n",
    "# axis labels\n",
    "plt.xlabel('Recall')\n",
    "plt.ylabel('Precision')\n",
    "# show the legend\n",
    "plt.legend()\n",
    "# show the plot\n",
    "plt.show() "
   ]
  },
  {
   "cell_type": "code",
   "execution_count": 37,
   "metadata": {},
   "outputs": [
    {
     "data": {
      "text/plain": [
       "[<matplotlib.lines.Line2D at 0x7fd395b462b0>]"
      ]
     },
     "execution_count": 37,
     "metadata": {},
     "output_type": "execute_result"
    },
    {
     "data": {
      "image/png": "[encoded data removed]",
      "text/plain": [
       "<Figure size 432x288 with 1 Axes>"
      ]
     },
     "metadata": {},
     "output_type": "display_data"
    }
   ],
   "source": [
    "plt.plot(thresholds,lr_precision[:-1])"
   ]
  },
  {
   "cell_type": "code",
   "execution_count": 52,
   "metadata": {},
   "outputs": [
    {
     "data": {
      "text/plain": [
       "[<matplotlib.lines.Line2D at 0x7fd397ae7550>]"
      ]
     },
     "execution_count": 52,
     "metadata": {},
     "output_type": "execute_result"
    },
    {
     "data": {
      "image/png": "[encoded data removed]",
      "text/plain": [
       "<Figure size 432x288 with 1 Axes>"
      ]
     },
     "metadata": {},
     "output_type": "display_data"
    }
   ],
   "source": [
    "plt.plot(thresholds,lr_recall[:-1])"
   ]
  },
  {
   "cell_type": "code",
   "execution_count": 86,
   "metadata": {},
   "outputs": [
    {
     "data": {
      "image/png": "[encoded data removed]",
      "text/plain": [
       "<Figure size 960x720 with 1 Axes>"
      ]
     },
     "metadata": {},
     "output_type": "display_data"
    }
   ],
   "source": [
    "#If we want to play with the thresholds, we can use this function to see what the added/removed data looks like\n",
    "import seaborn as sns\n",
    "\n",
    "def precision_recall_bins(lr_true, lr_probs, bt):    \n",
    "    fig, ax = plt.subplots(dpi=150)    \n",
    "    categories = []\n",
    "    \n",
    "    for i in range(len(bt)-1):\n",
    "        categories.append((bt[i+1],bt[i]))    \n",
    "        \n",
    "        l = 0\n",
    "    for i,c in enumerate(categories):\n",
    "        y_thresh_pred = np.where(lr_probs>c[0],1,0)\n",
    "        y_bin_pred = np.where(np.logical_and(lr_probs<=c[1],lr_probs>c[0]),1,0)        \n",
    "        \n",
    "        bin_p = precision_score(lr_true,y_bin_pred)\n",
    "        thresh_p = precision_score(lr_true,y_thresh_pred)   \n",
    "        thresh_r = recall_score(lr_true,y_thresh_pred)           \n",
    "        width = y_bin_pred.sum()/lr_true.shape[0]        \n",
    "        \n",
    "        if i==0:\n",
    "            rl = \"Relevant\"\n",
    "            il = \"Irrelevant\"\n",
    "        else:\n",
    "            rl=None\n",
    "            il=None\n",
    "            \n",
    "        ax.bar(l, 1-bin_p,bottom=bin_p, width=width, align=\"edge\",color=\"#fc8d59\",ec=\"grey\",alpha=0.5,label=il)\n",
    "        ax.bar(l, bin_p, width=width, align=\"edge\",color=\"#91bfdb\",ec=\"grey\",alpha=0.5,label=rl)        \n",
    "        \n",
    "        ly = 1.15+0.2*i        \n",
    "        ax.annotate(\n",
    "            f\"$p>{c[0]}$ \\nrecall: {thresh_r:.0%}\\nprecision: {thresh_p:.0%}\",\n",
    "            (l+width,ly),(0,ly),\n",
    "            arrowprops=dict(facecolor='black', shrink=0.04,width=0.2,headwidth=4),\n",
    "            va=\"bottom\", fontsize=6\n",
    "        )\n",
    "        \n",
    "        l += width    \n",
    "        \n",
    "        sns.despine()    \n",
    "        \n",
    "        ax.spines['left'].set_bounds(0, 1)    \n",
    "        \n",
    "        ax.set_ylim(ymax=ly)\n",
    "    ax.set_yticks([t for t in ax.get_yticks() if t <=1])\n",
    "    ax.set_ylabel(\"Bin composition\")\n",
    "    ax.set_xlabel(\"Cumulative proportion of documents at threshold\")    \n",
    "    ax.legend(loc=\"right\")    \n",
    "    fig.tight_layout()\n",
    "    \n",
    "precision_recall_bins(lr_true, lr_probs, [1,0.68, 0.5, 0.35, 0]) #Start with 1, end with 0 so we see whole dataset"
   ]
  },
  {
   "cell_type": "code",
   "execution_count": 87,
   "metadata": {},
   "outputs": [
    {
     "data": {
      "image/png": "[encoded data removed]",
      "text/plain": [
       "<Figure size 960x720 with 1 Axes>"
      ]
     },
     "metadata": {},
     "output_type": "display_data"
    }
   ],
   "source": [
    " precision_recall_bins(lr_true, lr_probs, [1,0.35, 0])"
   ]
  },
  {
   "cell_type": "code",
   "execution_count": 60,
   "metadata": {},
   "outputs": [
    {
     "data": {
      "text/plain": [
       "[<matplotlib.lines.Line2D at 0x7fd3a83079e8>]"
      ]
     },
     "execution_count": 60,
     "metadata": {},
     "output_type": "execute_result"
    },
    {
     "data": {
      "image/png": "[encoded data removed]",
      "text/plain": [
       "<Figure size 432x288 with 1 Axes>"
      ]
     },
     "metadata": {},
     "output_type": "display_data"
    }
   ],
   "source": [
    "plt.plot(thresholds,lr_recall[:-1])"
   ]
  },
  {
   "cell_type": "code",
   "execution_count": 61,
   "metadata": {},
   "outputs": [
    {
     "data": {
      "image/png": "[encoded data removed]",
      "text/plain": [
       "<Figure size 432x288 with 1 Axes>"
      ]
     },
     "metadata": {},
     "output_type": "display_data"
    }
   ],
   "source": [
    "from sklearn.metrics import f1_score, auc\n",
    "\n",
    "#predict probabilities\n",
    "#lr_probs = clf.predict_proba(testX)\n",
    "#r_probs = lr_probs[:, 1] #keep positive outcomes\n",
    "\n",
    "lr_probs = df.loc[seen_index,'y_k_prediction']\n",
    "lr_true = df.loc[seen_index,'relevant']\n",
    "\n",
    "# predict class values\n",
    "#yhat = clf.predict(testX)\n",
    "\n",
    "# summarize scores\n",
    "lr_precision, lr_recall, _ = lr_precision, lr_recall, thresholds = precision_recall_curve(lr_true, lr_probs)\n",
    "\n",
    "#lr_f1, lr_auc = f1_score(lr_true, lr_probs), auc(lr_true, lr_probs)\n",
    "#print('For sample: f1=%.3f auc=%.3f' % (lr_f1, lr_auc))\n",
    "\n",
    "# plot the precision-recall curves\n",
    "no_skill = len(lr_true[lr_true==1]) / len(lr_true)\n",
    "plt.plot([0, 1], [no_skill, no_skill], linestyle='--', label='No Skill')\n",
    "plt.plot(lr_recall, lr_precision, marker='.', label='SVM')\n",
    "# axis labels\n",
    "plt.xlabel('Recall')\n",
    "plt.ylabel('Precision')\n",
    "# show the legend\n",
    "plt.legend()\n",
    "# show the plot\n",
    "plt.show() "
   ]
  },
  {
   "cell_type": "code",
   "execution_count": 62,
   "metadata": {},
   "outputs": [
    {
     "data": {
      "text/plain": [
       "[<matplotlib.lines.Line2D at 0x7fd3940bc1d0>]"
      ]
     },
     "execution_count": 62,
     "metadata": {},
     "output_type": "execute_result"
    },
    {
     "data": {
      "image/png": "[encoded data removed]",
      "text/plain": [
       "<Figure size 432x288 with 1 Axes>"
      ]
     },
     "metadata": {},
     "output_type": "display_data"
    }
   ],
   "source": [
    "plt.plot(thresholds,lr_precision[:-1])"
   ]
  },
  {
   "cell_type": "markdown",
   "metadata": {},
   "source": [
    "### Getting false positives/-negatives for a given threshold"
   ]
  },
  {
   "cell_type": "code",
   "execution_count": 63,
   "metadata": {},
   "outputs": [
    {
     "data": {
      "text/html": [
       "<div>\n",
       "<style scoped>\n",
       "    .dataframe tbody tr th:only-of-type {\n",
       "        vertical-align: middle;\n",
       "    }\n",
       "\n",
       "    .dataframe tbody tr th {\n",
       "        vertical-align: top;\n",
       "    }\n",
       "\n",
       "    .dataframe thead th {\n",
       "        text-align: right;\n",
       "    }\n",
       "</style>\n",
       "<table border=\"1\" class=\"dataframe\">\n",
       "  <thead>\n",
       "    <tr style=\"text-align: right;\">\n",
       "      <th></th>\n",
       "      <th>id</th>\n",
       "      <th>content</th>\n",
       "      <th>title</th>\n",
       "      <th>PY</th>\n",
       "      <th>wosarticle__de</th>\n",
       "      <th>wosarticle__wc</th>\n",
       "      <th>relevant</th>\n",
       "      <th>seen</th>\n",
       "      <th>1 - Adaptation</th>\n",
       "      <th>1 - Impact</th>\n",
       "      <th>1 - Mitigation</th>\n",
       "      <th>y_k_prediction</th>\n",
       "      <th>0 - relevance - prediction</th>\n",
       "      <th>categories</th>\n",
       "      <th>1 - Mitigation - k_prediction</th>\n",
       "      <th>1 - Mitigation - k_prediction_binary</th>\n",
       "      <th>1 - Adaptation - k_prediction</th>\n",
       "      <th>1 - Adaptation - k_prediction_binary</th>\n",
       "      <th>1 - Impact - k_prediction</th>\n",
       "      <th>1 - Impact - k_prediction_binary</th>\n",
       "    </tr>\n",
       "  </thead>\n",
       "  <tbody>\n",
       "    <tr>\n",
       "      <th>77011</th>\n",
       "      <td>23858</td>\n",
       "      <td>Background: Bangladesh is one of the countries...</td>\n",
       "      <td>Knowledge and perception about climate change ...</td>\n",
       "      <td>2016.0</td>\n",
       "      <td>Climate change; Health; Knowledge; Perception;...</td>\n",
       "      <td>[Public, Environmental &amp; Occupational Health]</td>\n",
       "      <td>1.0</td>\n",
       "      <td>1.0</td>\n",
       "      <td>0.0</td>\n",
       "      <td>1.0</td>\n",
       "      <td>0.0</td>\n",
       "      <td>0.999993</td>\n",
       "      <td>None</td>\n",
       "      <td>1.0</td>\n",
       "      <td>0.005590</td>\n",
       "      <td>0.0</td>\n",
       "      <td>0.358464</td>\n",
       "      <td>0.0</td>\n",
       "      <td>0.900085</td>\n",
       "      <td>1.0</td>\n",
       "    </tr>\n",
       "    <tr>\n",
       "      <th>68515</th>\n",
       "      <td>1002682</td>\n",
       "      <td>Global climate change is anticipated to raise ...</td>\n",
       "      <td>Projecting future climate change impacts on he...</td>\n",
       "      <td>2018.0</td>\n",
       "      <td>Climate change; Heat-related mortality; Urban ...</td>\n",
       "      <td>[Environmental Sciences; Public, Environmental...</td>\n",
       "      <td>1.0</td>\n",
       "      <td>1.0</td>\n",
       "      <td>0.0</td>\n",
       "      <td>1.0</td>\n",
       "      <td>0.0</td>\n",
       "      <td>0.999992</td>\n",
       "      <td>None</td>\n",
       "      <td>1.0</td>\n",
       "      <td>0.079722</td>\n",
       "      <td>0.0</td>\n",
       "      <td>0.057289</td>\n",
       "      <td>0.0</td>\n",
       "      <td>0.954213</td>\n",
       "      <td>1.0</td>\n",
       "    </tr>\n",
       "    <tr>\n",
       "      <th>239562</th>\n",
       "      <td>99183</td>\n",
       "      <td>Background: Bangladesh is facing the unavoidab...</td>\n",
       "      <td>Climate change and health in Bangladesh: a bas...</td>\n",
       "      <td>2016.0</td>\n",
       "      <td>climate change; health; adaptation; household;...</td>\n",
       "      <td>[Public, Environmental &amp; Occupational Health]</td>\n",
       "      <td>1.0</td>\n",
       "      <td>1.0</td>\n",
       "      <td>0.0</td>\n",
       "      <td>1.0</td>\n",
       "      <td>0.0</td>\n",
       "      <td>0.999981</td>\n",
       "      <td>None</td>\n",
       "      <td>1.0</td>\n",
       "      <td>0.008808</td>\n",
       "      <td>0.0</td>\n",
       "      <td>0.318379</td>\n",
       "      <td>0.0</td>\n",
       "      <td>0.939441</td>\n",
       "      <td>1.0</td>\n",
       "    </tr>\n",
       "    <tr>\n",
       "      <th>113711</th>\n",
       "      <td>564666</td>\n",
       "      <td>This study explored the impact of weather vari...</td>\n",
       "      <td>Weather factors influencing the occurrence of ...</td>\n",
       "      <td>2013.0</td>\n",
       "      <td>0</td>\n",
       "      <td>[Parasitology; Tropical Medicine]</td>\n",
       "      <td>1.0</td>\n",
       "      <td>1.0</td>\n",
       "      <td>0.0</td>\n",
       "      <td>1.0</td>\n",
       "      <td>0.0</td>\n",
       "      <td>0.997332</td>\n",
       "      <td>None</td>\n",
       "      <td>1.0</td>\n",
       "      <td>0.001760</td>\n",
       "      <td>0.0</td>\n",
       "      <td>0.014812</td>\n",
       "      <td>0.0</td>\n",
       "      <td>0.995427</td>\n",
       "      <td>1.0</td>\n",
       "    </tr>\n",
       "    <tr>\n",
       "      <th>150026</th>\n",
       "      <td>3424027</td>\n",
       "      <td>The effects of exposure to air pollutants on h...</td>\n",
       "      <td>Exposure to NO2 and children hospitalization d...</td>\n",
       "      <td>2018.0</td>\n",
       "      <td>Air pollutants; Nitrogen dioxide; Particulate ...</td>\n",
       "      <td>[Public, Environmental &amp; Occupational Health]</td>\n",
       "      <td>1.0</td>\n",
       "      <td>1.0</td>\n",
       "      <td>0.0</td>\n",
       "      <td>1.0</td>\n",
       "      <td>0.0</td>\n",
       "      <td>0.997243</td>\n",
       "      <td>None</td>\n",
       "      <td>1.0</td>\n",
       "      <td>0.140585</td>\n",
       "      <td>0.0</td>\n",
       "      <td>0.005221</td>\n",
       "      <td>0.0</td>\n",
       "      <td>0.988550</td>\n",
       "      <td>1.0</td>\n",
       "    </tr>\n",
       "  </tbody>\n",
       "</table>\n",
       "</div>"
      ],
      "text/plain": [
       "             id                                            content  \\\n",
       "77011     23858  Background: Bangladesh is one of the countries...   \n",
       "68515   1002682  Global climate change is anticipated to raise ...   \n",
       "239562    99183  Background: Bangladesh is facing the unavoidab...   \n",
       "113711   564666  This study explored the impact of weather vari...   \n",
       "150026  3424027  The effects of exposure to air pollutants on h...   \n",
       "\n",
       "                                                    title      PY  \\\n",
       "77011   Knowledge and perception about climate change ...  2016.0   \n",
       "68515   Projecting future climate change impacts on he...  2018.0   \n",
       "239562  Climate change and health in Bangladesh: a bas...  2016.0   \n",
       "113711  Weather factors influencing the occurrence of ...  2013.0   \n",
       "150026  Exposure to NO2 and children hospitalization d...  2018.0   \n",
       "\n",
       "                                           wosarticle__de  \\\n",
       "77011   Climate change; Health; Knowledge; Perception;...   \n",
       "68515   Climate change; Heat-related mortality; Urban ...   \n",
       "239562  climate change; health; adaptation; household;...   \n",
       "113711                                                  0   \n",
       "150026  Air pollutants; Nitrogen dioxide; Particulate ...   \n",
       "\n",
       "                                           wosarticle__wc  relevant  seen  \\\n",
       "77011       [Public, Environmental & Occupational Health]       1.0   1.0   \n",
       "68515   [Environmental Sciences; Public, Environmental...       1.0   1.0   \n",
       "239562      [Public, Environmental & Occupational Health]       1.0   1.0   \n",
       "113711                  [Parasitology; Tropical Medicine]       1.0   1.0   \n",
       "150026      [Public, Environmental & Occupational Health]       1.0   1.0   \n",
       "\n",
       "        1 - Adaptation  1 - Impact  1 - Mitigation  y_k_prediction  \\\n",
       "77011              0.0         1.0             0.0        0.999993   \n",
       "68515              0.0         1.0             0.0        0.999992   \n",
       "239562             0.0         1.0             0.0        0.999981   \n",
       "113711             0.0         1.0             0.0        0.997332   \n",
       "150026             0.0         1.0             0.0        0.997243   \n",
       "\n",
       "       0 - relevance - prediction  categories  1 - Mitigation - k_prediction  \\\n",
       "77011                        None         1.0                       0.005590   \n",
       "68515                        None         1.0                       0.079722   \n",
       "239562                       None         1.0                       0.008808   \n",
       "113711                       None         1.0                       0.001760   \n",
       "150026                       None         1.0                       0.140585   \n",
       "\n",
       "        1 - Mitigation - k_prediction_binary  1 - Adaptation - k_prediction  \\\n",
       "77011                                    0.0                       0.358464   \n",
       "68515                                    0.0                       0.057289   \n",
       "239562                                   0.0                       0.318379   \n",
       "113711                                   0.0                       0.014812   \n",
       "150026                                   0.0                       0.005221   \n",
       "\n",
       "        1 - Adaptation - k_prediction_binary  1 - Impact - k_prediction  \\\n",
       "77011                                    0.0                   0.900085   \n",
       "68515                                    0.0                   0.954213   \n",
       "239562                                   0.0                   0.939441   \n",
       "113711                                   0.0                   0.995427   \n",
       "150026                                   0.0                   0.988550   \n",
       "\n",
       "        1 - Impact - k_prediction_binary  \n",
       "77011                                1.0  \n",
       "68515                                1.0  \n",
       "239562                               1.0  \n",
       "113711                               1.0  \n",
       "150026                               1.0  "
      ]
     },
     "execution_count": 63,
     "metadata": {},
     "output_type": "execute_result"
    }
   ],
   "source": [
    "#highest predicted\n",
    "df.sort_values(\"y_k_prediction\",ascending=False).head()"
   ]
  },
  {
   "cell_type": "code",
   "execution_count": 66,
   "metadata": {},
   "outputs": [
    {
     "name": "stdout",
     "output_type": "stream",
     "text": [
      "Threshold: 0.36, precision: 0.7, recall: 0.83\n"
     ]
    }
   ],
   "source": [
    "#playing with the threshold (kind of irrelevant given additional analysis above, but easy reference)\n",
    "threshold = 0.36\n",
    "likely = np.where(df['y_k_prediction']>threshold,1,0)\n",
    "p = precision_score(df.loc[seen_index,\"relevant\"],likely[seen_index])\n",
    "r = recall_score(df.loc[seen_index,\"relevant\"],likely[seen_index])\n",
    "\n",
    "print(f\"Threshold: {threshold}, precision: {p:.2g}, recall: {r:.2g}\")"
   ]
  },
  {
   "cell_type": "code",
   "execution_count": 67,
   "metadata": {
    "scrolled": true
   },
   "outputs": [
    {
     "name": "stdout",
     "output_type": "stream",
     "text": [
      "(327, 20)\n",
      "\n",
      "Landscape diversity and associated coping strategies during food shortage periods: evidence from the Sudano-Sahelian region of Burkina Faso\n",
      "The importance of forest resources for rural communities' livelihoods has increasingly been recognized over the last three decades. Forests provide food, generate incomes, provide supporting (nutrient cycling, pollination), and regulating (climate, diseases, water regulation and purification) services for agriculture, in addition to their aesthetic, cultural and spiritual role. However, most of the studies on forest resource use do not focus on the role of landscape organization in addressing the impact of climate variability and the risk of food insecurity. This study aims to examine the contribution of woodlands and trees towards decreasing the risk of food insecurity and the importance of landscape structure and composition in coping with food shortages. It took place in two villages in Burkina Faso, on both ends of the woodlands and tree-cover spectrum. We demonstrate that in both landscapes, ecosystem goods, such as shea nuts and fuelwood, represent a safety net for households during food shortage periods. We demonstrate that households shape their adaptive strategies differently depending on the resources available and the structure of the landscape. People living in a landscape with a savannah matrix (Sorobouly) rely on fuelwood trade to purchase cereals, while those living in a landscape with a parkland matrix (Kalembouly) rely on shea nuts. Agricultural, environmental and climate change policies that reinforce the rights of the most vulnerable to access key resources provided by these landscapes and development programs which assure their sustainable use will simultaneously enhance food security and increase their adaptive capacity in the face of climate change and variability.\n",
      "776289\n",
      "0.3603356460117221\n",
      "<QuerySet [{'user__username': 'alan.dangour@lshtm.ac.uk', 'relevant': 2, 'finish': datetime.datetime(2020, 6, 16, 9, 8, 59, 893384, tzinfo=<UTC>), 'tag__title': 'PredictedRelevant2'}]>\n",
      "\n",
      "A METEOROLOGICAL MONITORING NETWORK TO INVESTIGATE CLIMATE CHANGE IN TOWNS: SIX MEDITERRANEAN URBAN CASE STUDIES\n",
      "The study of urban climate change has to take into account two components: global warming and microclimate variability due to urban growth. The present article tries to quantify the global and local components in six Italian towns over the last fifty years: Milano, Bologna, Roma, Napoli, Bari and Palermo. Historical temperature series measured in the city centre and in the suburbs of the towns have been investigated: the Climatological Normals 1961-1990 and 1971-2000 have been compared with the mean data of the last 15 years (2001-2015). Everywhere the mean temperatures have been higher in the city centre than in the suburbs and both have progressively raised over time. Conversely, the differences between city centre temperatures and suburban ones have decreased. Mean temperature differences between the two kinds of monitoring sites can be considered as a first rough estimate of the urban contribution to local warming up. To better analyse the local effects of urban warming and their relation with health and welfare of urban residents, a quantitative spatial analysis of hot extreme events in Milano has been performed, as Milano is subject to stable atmospheric conditions in more than 60% of days per year. Such conditions contribute to the accumulation of waste heat generated by urban energy usage. Dry and moist heat waves have been treated, resulting in quite different spatial distribution of such events, as a strict effect of built and green areas in urban texture.\n",
      "2348929\n",
      "0.3642964652838126\n",
      "<QuerySet [{'user__username': 'eeajs@leeds.ac.uk', 'relevant': 2, 'finish': datetime.datetime(2020, 6, 9, 14, 26, 2, 64164, tzinfo=<UTC>), 'tag__title': 'positively predicted'}]>\n",
      "\n",
      "Mosquito-transmitted viruses - the great Brazilian challenge\n",
      "Arboviruses pose a serious threat to public health worldwide, overloading the healthcare system and causing economic losses. These viruses form a very diverse group, and in Brazil, arboviruses belonging to the families Flaviviridae and Togaviridae are predominant. Unfortunately, the number of arboviruses increases in proportion with factors such as deforestation, poor sanitation, climate changes, and introduction of new viruses like Chikungunya virus and Zika virus. In Brazil, dengue is endemic, along with the presence of other arboviruses. The situation is complicated by the scarcity of diagnostic infrastructure and the absence of approved vaccines for these diseases. Disease control, thus, relies solely on vector control. Therefore, enhanced clinical knowledge and improved general awareness about these arboviruses are indispensable to tackle diagnostic inadequacies. (C) 2016 Sociedade Brasileira de Microbiologia. Published by Elsevier Editora Ltda.\n",
      "1524796\n",
      "0.3665306041087044\n",
      "<QuerySet [{'user__username': 'eeajs@leeds.ac.uk', 'relevant': 2, 'finish': datetime.datetime(2020, 6, 9, 13, 48, 9, 532285, tzinfo=<UTC>), 'tag__title': 'positively predicted'}]>\n"
     ]
    }
   ],
   "source": [
    "#print false positives just above the border\n",
    "#threshold = 0.33\n",
    "fp = df[(df['relevant']==0) & (df[f'y_k_prediction']>threshold)]\n",
    "print(fp.shape)\n",
    "django.db.connection.close()\n",
    "for i, row in fp.sort_values('y_k_prediction',ascending=True).head(3).iterrows():\n",
    "    d = Doc.objects.get(pk=row['id'])\n",
    "    print()\n",
    "    print(row['title'])\n",
    "    print(row['content'])\n",
    "    print(row['id'])\n",
    "    print(row['y_k_prediction'])\n",
    "    print(d.docownership_set.filter(query=qid).values('user__username','relevant','finish','tag__title'))"
   ]
  },
  {
   "cell_type": "code",
   "execution_count": 68,
   "metadata": {
    "scrolled": true
   },
   "outputs": [
    {
     "name": "stdout",
     "output_type": "stream",
     "text": [
      "(221, 20)\n",
      "\n",
      "Climate change impacts on human health over Europe through its effect on air quality\n",
      "This review examines the current literature on the effects of future emissions and climate change on particulate matter (PM) and O-3 air quality and on the consequent health impacts, with a focus on Europe. There is considerable literature on the effects of climate change on O-3 but fewer studies on the effects of climate change on PM concentrations. Under the latest Intergovernmental Panel on Climate Change (IPCC) 5th assessment report (AR5) Representative Concentration Pathways (RCPs), background O-3 entering Europe is expected to decrease under most scenarios due to higher water vapour concentrations in a warmer climate. However, under the extreme pathway RCP8.5 higher (more than double) methane (CH4) abundances lead to increases in background O-3 that offset the O-3 decrease due to climate change especially for the 2100 period. Regionally, in polluted areas with high levels of nitrogen oxides (NOx), elevated surface temperatures and humidities yield increases in surface O-3 - termed the O-3 climate penalty - especially in southern Europe. The O-3 response is larger for metrics that represent the higher end of the O-3 distribution, such as daily maximum O-3. Future changes in PM concentrations due to climate change are much less certain, although several recent studies also suggest a PM climate penalty due to high temperatures and humidity and reduced precipitation in northern mid-latitude land regions in 2100. A larger number of studies have examined both future climate and emissions changes under the RCP scenarios. Under these pathways the impact of emission changes on air quality out to the 2050s will be larger than that due to climate change, because of large reductions in emissions of O-3 and PM pollutant precursor emissions and the more limited climate change response itself. Climate change will also affect climate extreme events such as heatwaves. Air pollution episodes are associated with stagnation events and sometimes heat waves. Air quality during the 2003 heatwave over Europe has been examined in numerous studies and mechanisms for enhancing O-3 have been identified. There are few studies on health effects associated with climate change impacts alone on air quality, but these report higher O-3-related health burdens in polluted populated regions and greater PM2.5 health burdens in these emission regions. Studies that examine the combined impacts of climate change and anthropogenic emissions change under the RCP scenarios report reductions in global and European premature O-3-respiratory related and PM mortalities arising from the large decreases in precursor emissions. Under RCP 8.5 the large increase in CH4 leads to global and European excess O-3-respiratory related mortalities in 2100. For future health effects, besides uncertainty in future O-3 and particularly PM concentrations, there is also uncertainty in risk estimates such as effect modification by temperature on pollutant-response relationships and potential future adaptation that would alter exposure risk.\n",
      "773950\n",
      "0.9885907600754558\n",
      "<QuerySet [{'user__username': 'eeajs@leeds.ac.uk', 'relevant': 2, 'finish': datetime.datetime(2020, 6, 22, 21, 19, 19, 1088, tzinfo=<UTC>), 'tag__title': 'false positives2020-06-16'}, {'user__username': 'eeajs@leeds.ac.uk', 'relevant': 2, 'finish': datetime.datetime(2020, 6, 9, 12, 4, 58, 330715, tzinfo=<UTC>), 'tag__title': 'positively predicted'}]>\n",
      "\n",
      "Climate change and human health: Risks and responses\n",
      "Climate change is one of the biggest global health threats of the 21st century. Sensitive to shifts in weather and climate patterns, all human populations are affected by the direct and indirect health impacts of climate change. These impacts include exposure to extreme weather events, environmental and ecological disruptions, and even the social responses to climate change and variability. Some groups may be more vulnerable than others due to their high levels of exposure and sensitivity, poverty, and the weaknesses of public health systems in their region. Because climate change is complex and place-specific, vulnerable populations experience health challenges for different reasons. Some factors act as generic causes of vulnerability, such as age, gender, education, current health status, geographic location and environment, physical infrastructure and socioeconomic condition. Given the severity of these risks, the health effects of rapidly changing climate are commanding greater policy attention and government action. A public health response to climate change refers to any short- or long-term strategies that can reduce adverse health impacts or enhance resilience to observed or expected changes in climate and associated extremes. Generally, it operates on two levels: Building climate resilience and implementing adaptation actions. However, any public health response must first overcome the uncertainties of future climate and socioeconomic conditions as well as financial constraints, institutional arrangements, and individual cognitive limits. The current research on climate change and human health shows the scientific community is deepening our understanding the possible health effects and risks of our changing climate. In China, multisectoral and multidisciplinary responses to address the health impacts of climate change are necessary. This will require the close collaboration of individuals, communities, governments, and the research community. In particular, key research projects and methods will need to be developed. First, the regional health risks of climate change should be estimated with a focus on how the geographic range and disease burdens will change with changing weather patterns. Second, the thresholds and the time of emergence of dangerous health consequences caused by climate change should be calculated. Third, a method of detecting and attributing the health effects caused by climate change and variability should be adopted. Fourth, a forecast of how climate change may affect the functioning of health systems and infrastructure should be envisioned. And finally, a method for integrating the uneven patterns of climate change into adaptation planning. The international community has begun addressing some of these issues. Launched at the UN conference on Sustainable Development (Rio+20) in 2012, Future Earth is an international research programme that will develop comprehensive knowledge for responding to challenges posed by global environmental change and create transformative opportunities toward global sustainability. The Chinese National Committee for Future Earth (CNC-FE) should make full use of international resources and facilitate collaboration between domestic health sectors and meteorological departments. The government's response should include estimating the health implications of mitigation and adaptation measures when designing government policies, conducting climate change and health impact, vulnerability and adaptation assessments, tracking the progress of health and climate change, identifying opportunities to address the adaptation gap in the nation's public health sector, and finally, building climate resilience into China's health systems.\n",
      "2521508\n",
      "0.9849708382837734\n",
      "<QuerySet [{'user__username': 'alan.dangour@lshtm.ac.uk', 'relevant': 0, 'finish': None, 'tag__title': 'PredictedRelevant2'}, {'user__username': 'eeajs@leeds.ac.uk', 'relevant': 2, 'finish': datetime.datetime(2020, 6, 9, 14, 38, 25, 71888, tzinfo=<UTC>), 'tag__title': 'positively predicted'}]>\n",
      "\n",
      "Assessment of spatial variations of particulate matter (PM10 and PM2.5) in Bahrain identified by air quality index (AQI)\n",
      "The rapid urbanization, industrialization, modernization, and the frequent Middle Eastern dust storms have negatively impacted the ambient air quality in Bahrain. The objective of this study is to identify the most critical atmospheric air pollutants with emphasis on their potential risk to health based on calculated AQI (air quality index) values using EPA approach. The air quality datasets of particulate matters (PM10 and PM2.5), ozone (O-3), sulfur dioxide (SO2), nitrogen dioxide (NO2), and carbon monoxide (CO) were measured in January 2012 and August 2012 using five mobile air quality monitoring stations located at different governorates. The results of this study demonstrated that PM10 and PM2.5 are the most critical air pollutants in Bahrain with PM2.5 prevailing during January 2012 and PM10 prevailing during August 2012. The corresponding AQI categories were utilized to evaluate spatial variability of particulate matters in five governorates. The impact of meteorological factors such as ambient air temperature, wind speed, relative humidity, and total precipitation on ambient air quality were discussed. The analysis demonstrated that the highest PM10 concentrations were observed in the Northern Governorate while the highest PM2.5 concentrations were observed in the Capital, Central, and Northern Governorates during August 2012. It was observed that the levels of PM2.5 pollution were higher within proximity of the industrial zone. The results suggested that the average PM2.5/PM10 ratio in August 2012 was lower than in January 2012 due to the Aeolian processes. This study concludes that higher wind speed, total precipitation, relative humidity rates, and lower ambient air temperature in January 2012 assisted with the dissipation of particulate matter thus lowering the pollution levels of both PM10 and PM2.5 in comparison to August 2012.\n",
      "1668164\n",
      "0.9847857781004125\n",
      "<QuerySet [{'user__username': 'alan.dangour@lshtm.ac.uk', 'relevant': 2, 'finish': datetime.datetime(2020, 6, 9, 11, 31, 57, 874749, tzinfo=<UTC>), 'tag__title': 'positively predicted'}]>\n"
     ]
    }
   ],
   "source": [
    "#False postives\n",
    "fp = df[(df['relevant']==0) & (df[f'y_k_prediction']>0.5)]\n",
    "print(fp.shape)\n",
    "django.db.connection.close()\n",
    "\n",
    "#print highest scoring ones\n",
    "for i, row in fp.sort_values('y_k_prediction',ascending=False).head(3).iterrows():\n",
    "    d = Doc.objects.get(pk=row['id'])\n",
    "    print()\n",
    "    print(row['title'])\n",
    "    print(row['content'])\n",
    "    print(row['id'])\n",
    "    print(row['y_k_prediction'])\n",
    "    print(d.docownership_set.filter(query=qid).values('user__username','relevant','finish','tag__title'))"
   ]
  },
  {
   "cell_type": "code",
   "execution_count": 69,
   "metadata": {
    "scrolled": true
   },
   "outputs": [
    {
     "name": "stdout",
     "output_type": "stream",
     "text": [
      "(221, 20)\n",
      "\n",
      "Genetic Improvement of Maize in India: Retrospect and Prospects\n",
      "Maize (Zea mays L.) is the third most important crop of country after rice and wheat and is cultivated round the year. Its grain is used as feed, food and industrial raw material. Enormous progress has been made during last six decades to enhance yield potential through genetic improvement and alleviate effects due to various biotic-and abiotic-stresses. This review presents an overview of strategies followed in genetic improvement of maize and assesses their impact on productivity and production of the crop. A diverse range of indigenous and exotic germplasm and breeding material have been utilized. Breeding programme has been very vibrant and various strategies viz., composite breeding, double cross, three way cross and single-cross hybrid breeding have been adopted in cultivar development to enhance productivity across a range of production ecologies. Since 2000, more than 165 high-yielding cultivars of different maturity periods and types [field corn, sweet corn, baby corn and quality protein maize] having adaptation to different agro-ecological zones have been released. Development of cultivars having tolerance to abiotic-stresses (water and temperature extremes) and resistance to diseases has been a priority area in maize improvement. Both conventional and molecular approaches have been and continue to be used in development of disease resistant, stress adapted and nutritionally superior cultivars. In order to realize full potential of improved cultivars, agronomic research has targeted several management interventions like plant density, mineral fertilization, water management, resource conservation and various maize-based cropping systems across different ecologies. Improved products have been delivered to farmers by both public and private sectors involved in maize seed production and distribution. As a result, area under improved cultivars has been increasing consistently, and currently approximately 65 % of maize area is under improved cultivars (mostly hybrids). Adoption of high-yielding cultivars, improved production technology and increased demand of maize resulted in increased production (from 1.7 to 24.4 million ton) and productivity (from 547 to 2583 kg/ha) from 1950-1951 to 2013-2014. Future prospects of maize cultivation and improvement strategies in context of climate change and in providing nutritional security are also discussed in this review.\n",
      "1738598\n",
      "0.013188630241265204\n",
      "<QuerySet [{'user__username': 'eeajs@leeds.ac.uk', 'relevant': 1, 'finish': datetime.datetime(2020, 6, 7, 12, 34, 35, 566894, tzinfo=<UTC>), 'tag__title': 'false negatives'}, {'user__username': 'eeajs@leeds.ac.uk', 'relevant': 1, 'finish': datetime.datetime(2020, 5, 31, 21, 46, 15, 617395, tzinfo=<UTC>), 'tag__title': 'Adaptation'}]>\n",
      "\n",
      "Environmental influence of gaseous emissions from self-heating coal waste dumps in Silesia, Poland\n",
      "Gaseous emissions from seven self-heating coal waste dumps in two large coal mining basins, Upper and Lower Silesia (Poland), were investigated by gas chromatography (GC-FID/TCD), and the results were correlated with on-site thermal activity, stage of self-heating as assessed by thermal mapping, efflorescences, and surface and subsurface temperatures. Though typical gases at sites without thermal activity are dominated by atmospheric nitrogen and oxygen, methane and carbon dioxide are present in concentrations that many times exceed atmospheric values. On average, their concentrations are 42.7-7160ppm, respectively. These are levels considered harmful to health and show that coal waste fire can be dangerous for some years after extinction. At thermally active sites, concentrations of CH4 and CO2 are much higher and reach 5640-51,976ppm (aver.), respectively. A good substrate-product correlation between CO2 and CH4 concentrations indicates rapid in-dump CH4 oxidation with only insignificant amounts of CO formed. Other gas components include hydrogen, and C-3-C-6 saturated and unsaturated hydrocarbons. Decreasing oxygen content in the gases is temperature-dependent, and O-2 removal rapidly increased at>70 degrees C. Emission differences between both basins are minor and most probably reflect the higher maturity of coal waste organic matter in the Lower Silesia dumps causing its higher resistance to temperature, or/and a higher degree of overburning there.\n",
      "2258521\n",
      "0.01852262322757921\n",
      "<QuerySet []>\n",
      "\n",
      "Role of building material in thermal comfort in tropical climates - A review\n",
      "Changing climatic scenario and raising temperature is likely to subject nearly 60% of the working populations in India to thermal discomfort in their workplaces. Half of the total energy produced in the developed world is used to heat, cool, ventilate and control humidity in buildings, to meet the increasing thermal comfort demands of the occupants. Indoor workplaces many times cannot offer thermal comfort to workers attributable to the location, processes involved and resource constraints that may pose a negative effect on worker's health, their ability to Function effectively and also on their work productivity. In most situations, mechanical cooling devices offer solutions that are neither environment friendly nor energy sustainable. These mechanical devices are non-Functional and cannot offer thermal comfort without energy input. Hence utilization of advanced building materials and passive technologies in buildings may offer the solution for thermal comfort demands, substantially reduce the energy demand, impact on the environment and carbon footprint of building stock worldwide. This also could offer a sustainable solution in the context of predicted raising temperatures and constraints in energy availability especially in the developing world. The review particularly identified certain materials such as VIPs, PCMs, ACC, polymer skin, with good thermal properties with a potential to be incorporated in different parts of the building envelope to enhance thermal comfort. Light colored external surfaces, reflective paints, window treatments and roof gardens are also discussed as preferred options to help reduce the heat load of the building. (C) 2015 Elsevier Ltd. All rights reserved.\n",
      "1024008\n",
      "0.027840910239850497\n",
      "<QuerySet [{'user__username': 'eeajs@leeds.ac.uk', 'relevant': 1, 'finish': datetime.datetime(2020, 6, 26, 17, 51, 48, 742658, tzinfo=<UTC>), 'tag__title': 'Categories false neg 2020-06-23 09:51:49.823661'}, {'user__username': 'eeajs@leeds.ac.uk', 'relevant': 1, 'finish': datetime.datetime(2020, 6, 7, 12, 19, 49, 789401, tzinfo=<UTC>), 'tag__title': 'false negatives'}, {'user__username': 'eeajs@leeds.ac.uk', 'relevant': 1, 'finish': datetime.datetime(2020, 5, 16, 21, 9, 0, 25202, tzinfo=<UTC>), 'tag__title': 'Climate2'}]>\n"
     ]
    }
   ],
   "source": [
    "#False negatives\n",
    "fn = df[(df['relevant']==1) & (df[f'y_k_prediction']<0.5)]\n",
    "print(fn.shape)\n",
    "django.db.connection.close()\n",
    "for i, row in fn.sort_values('y_k_prediction',ascending=True).head(3).iterrows():\n",
    "    d = Doc.objects.get(pk=row['id'])\n",
    "    print()\n",
    "    print(row['title'])\n",
    "    print(row['content'])\n",
    "    print(row['id'])\n",
    "    print(row['y_k_prediction'])\n",
    "    print(d.docownership_set.filter(query=qid).values('user__username','relevant','finish','tag__title'))"
   ]
  },
  {
   "cell_type": "code",
   "execution_count": null,
   "metadata": {},
   "outputs": [],
   "source": [
    "#create a tag so I can check them out on the platform\n",
    "tempq = merged_query #8510\n",
    "\n",
    "tag, created = Tag.objects.get_or_create(\n",
    "    title=f\"false negatives{now}\".format(now),\n",
    "    query=tempq\n",
    ")\n",
    "tag.save()\n",
    "\n",
    "for i, row in fn.sort_values('y_k_prediction',ascending=True).head(20).iterrows(): #using the index of the newly created dataframe on the full df\n",
    "    d = Doc.objects.get(pk=row['id'])\n",
    "    d.tag.add(tag)\n",
    "tag.update_tag()"
   ]
  },
  {
   "cell_type": "code",
   "execution_count": 92,
   "metadata": {},
   "outputs": [],
   "source": [
    "tag, created = Tag.objects.get_or_create(\n",
    "    title=f\"false positives{now}\".format(now),\n",
    "    query=tempq\n",
    ")\n",
    "tag.save()\n",
    "\n",
    "for i, row in fp.sort_values('y_k_prediction',ascending=False).head(20).iterrows():\n",
    "    d = Doc.objects.get(pk=row['id'])\n",
    "    d.tag.add(tag)\n",
    "tag.update_tag()"
   ]
  },
  {
   "cell_type": "markdown",
   "metadata": {},
   "source": [
    "# Now we want to look at impact, mitigation and adaptation"
   ]
  },
  {
   "cell_type": "code",
   "execution_count": 70,
   "metadata": {},
   "outputs": [
    {
     "name": "stdout",
     "output_type": "stream",
     "text": [
      "seen documents: 3641\n",
      "seen mitigation documents: 160.0\n",
      "seen adaptation documents 198.0\n",
      "seen impact documents 762.0\n",
      "seen in multiple 128\n",
      "seen non-mit/ad documents 2649\n"
     ]
    }
   ],
   "source": [
    "df['categories'] = df['1 - Mitigation'] + df['1 - Adaptation'] + df['1 - Impact']\n",
    "print(\"seen documents:\",df.loc[df['seen']==1,].shape[0])\n",
    "print(\"seen mitigation documents:\", df.loc[df['seen']==1,'1 - Mitigation'].sum())\n",
    "print(\"seen adaptation documents\", df.loc[df['seen']==1,'1 - Adaptation'].sum())\n",
    "print(\"seen impact documents\", df.loc[df['seen']==1,'1 - Impact'].sum())\n",
    "print(\"seen in multiple\", df.loc[df['categories']>=2,].shape[0])\n",
    "print(\"seen non-mit/ad documents\",df.loc[(df['seen']==1) & (df['categories']==0),].shape[0])"
   ]
  },
  {
   "cell_type": "code",
   "execution_count": 85,
   "metadata": {},
   "outputs": [
    {
     "data": {
      "text/plain": [
       "<matplotlib.legend.Legend at 0x7fd3a9e82048>"
      ]
     },
     "execution_count": 85,
     "metadata": {},
     "output_type": "execute_result"
    },
    {
     "data": {
      "image/png": "[encoded data removed]",
      "text/plain": [
       "<Figure size 960x720 with 1 Axes>"
      ]
     },
     "metadata": {},
     "output_type": "display_data"
    }
   ],
   "source": [
    "fig, ax = plt.subplots(dpi=150)\n",
    "\n",
    "mitigation = df.loc[df['seen']==1,'1 - Mitigation'].sum()\n",
    "adaptation = df.loc[df['seen']==1,'1 - Adaptation'].sum()\n",
    "impact = df.loc[df['seen']==1,'1 - Impact'].sum()\n",
    "overlap = df.loc[df['categories']>=2,].shape[0]\n",
    "nonmitad = df.loc[(df['seen']==1) & (df['categories']==0),].shape[0]\n",
    "\n",
    "lw = 1\n",
    "alpha=0.5\n",
    "ec = \"grey\"\n",
    "\n",
    "ax.bar(\n",
    "    0,mitigation,\n",
    "    alpha=alpha, label=\"Mitigation\",\n",
    "    lw=lw, edgecolor=ec, tick_label = str(mitigation)\n",
    ")\n",
    "ax.bar(\n",
    "    0,adaptation,bottom=mitigation-overlap/3,\n",
    "    alpha=alpha, label=\"Adaptation\",\n",
    "    lw=lw, edgecolor=ec\n",
    ")\n",
    "ax.bar(\n",
    "    0,impact,bottom=mitigation-2*overlap/3+adaptation ,\n",
    "    alpha=alpha, label=\"impact\",\n",
    "    lw=lw, edgecolor=ec\n",
    ")\n",
    "ax.bar(\n",
    "    0,nonmitad,bottom=mitigation-overlap+adaptation+impact,\n",
    "    alpha=alpha, label=\"Not relevant\",\n",
    "    lw=lw, edgecolor=ec,\n",
    ")\n",
    "\n",
    "ax.legend()"
   ]
  },
  {
   "cell_type": "markdown",
   "metadata": {},
   "source": [
    "## We want to do multiclass prediction now\n",
    "\n",
    "so we name the classes and create a matrix of class labels"
   ]
  },
  {
   "cell_type": "code",
   "execution_count": 72,
   "metadata": {},
   "outputs": [
    {
     "name": "stdout",
     "output_type": "stream",
     "text": [
      "(286144, 3)\n"
     ]
    }
   ],
   "source": [
    "classes = [\"1 - Mitigation\",\"1 - Adaptation\", \"1 - Impact\"]\n",
    "y = np.matrix(df[classes])\n",
    "print(y.shape)\n",
    "\n",
    "rel_index = df.loc[df[\"relevant\"]==1,].index"
   ]
  },
  {
   "cell_type": "markdown",
   "metadata": {},
   "source": [
    "and cross validate a model to see how well we can predict"
   ]
  },
  {
   "cell_type": "code",
   "execution_count": 47,
   "metadata": {},
   "outputs": [
    {
     "name": "stdout",
     "output_type": "stream",
     "text": [
      "1\n",
      "2\n",
      "3\n",
      "4\n",
      "5\n",
      "6\n",
      "7\n",
      "8\n",
      "9\n",
      "10\n"
     ]
    }
   ],
   "source": [
    "from importlib import reload  \n",
    "import scoping.utils.learning_utils as lu\n",
    "reload(scoping.utils.learning_utils)\n",
    "\n",
    "from sklearn.model_selection import KFold\n",
    "multimodels = [\n",
    "    {\n",
    "        'title': 'One vs rest SVC balanced', \n",
    "        'model': OneVsRestClassifier(SVC(kernel='linear', class_weight=\"balanced\", probability=True))\n",
    "    },\n",
    "]\n",
    "\n",
    "multimodels, metrics, df = lu.cross_validate_models(ab_X, y, multimodels, rel_index, classes=classes, df=df)\n"
   ]
  },
  {
   "cell_type": "code",
   "execution_count": 48,
   "metadata": {},
   "outputs": [
    {
     "data": {
      "image/png": "[encoded data removed]",
      "text/plain": [
       "<Figure size 1000x625 with 1 Axes>"
      ]
     },
     "metadata": {},
     "output_type": "display_data"
    }
   ],
   "source": [
    "fig, axs = plt.subplots(1, len(multimodels),dpi=125,figsize=(8,5),sharey=True)              \n",
    "lu.plot_model_output(multimodels, metrics, fig, [axs])\n",
    "plt.show()"
   ]
  },
  {
   "cell_type": "code",
   "execution_count": 49,
   "metadata": {
    "scrolled": true
   },
   "outputs": [
    {
     "name": "stdout",
     "output_type": "stream",
     "text": [
      "e\n",
      "1 - Mitigation  - 0.9334134065431251\n",
      "[0.925531914893617, 0.9354838709677419, 0.9247311827956989, 0.946236559139785, 0.956989247311828, 0.8494623655913979, 0.956989247311828, 0.967741935483871, 0.9032258064516129, 0.967741935483871]\n",
      "\n",
      "p\n",
      "1 - Mitigation  - 0.8296929970614181\n",
      "[0.7142857142857143, 0.8461538461538461, 0.8461538461538461, 0.8, 0.9473684210526315, 0.7692307692307693, 1.0, 0.8888888888888888, 0.6666666666666666, 0.8181818181818182]\n",
      "\n",
      "r\n",
      "1 - Mitigation  - 0.7061529891676951\n",
      "[0.5, 0.7333333333333333, 0.6875, 0.7272727272727273, 0.8571428571428571, 0.47619047619047616, 0.7647058823529411, 0.8, 0.6153846153846154, 0.9]\n",
      "\n",
      "e\n",
      "1 - Adaptation  - 0.8872683596431022\n",
      "[0.8404255319148937, 0.956989247311828, 0.9139784946236559, 0.8924731182795699, 0.8602150537634409, 0.8924731182795699, 0.8602150537634409, 0.8709677419354839, 0.8709677419354839, 0.9139784946236559]\n",
      "\n",
      "p\n",
      "1 - Adaptation  - 0.6813471250971251\n",
      "[0.6923076923076923, 0.875, 0.5, 0.9090909090909091, 0.5384615384615384, 0.5555555555555556, 0.625, 0.5555555555555556, 0.75, 0.8125]\n",
      "\n",
      "r\n",
      "1 - Adaptation  - 0.5913904069786423\n",
      "[0.45, 0.875, 0.625, 0.7142857142857143, 0.5, 0.45454545454545453, 0.5882352941176471, 0.38461538461538464, 0.6, 0.7222222222222222]\n",
      "\n",
      "r\n",
      "1 - Impact  - 0.9408441802894024\n",
      "[0.9620253164556962, 0.9315068493150684, 0.9864864864864865, 0.9264705882352942, 0.9264705882352942, 0.9428571428571428, 0.9102564102564102, 0.9473684210526315, 0.9166666666666666, 0.9583333333333334]\n",
      "\n",
      "p\n",
      "1 - Impact  - 0.9152721460102543\n",
      "[0.95, 0.9315068493150684, 0.948051948051948, 0.8873239436619719, 0.9402985074626866, 0.8461538461538461, 0.9726027397260274, 0.8888888888888888, 0.88, 0.9078947368421053]\n",
      "\n",
      "r\n",
      "1 - Impact  - 0.9408441802894024\n",
      "[0.9620253164556962, 0.9315068493150684, 0.9864864864864865, 0.9264705882352942, 0.9264705882352942, 0.9428571428571428, 0.9102564102564102, 0.9473684210526315, 0.9166666666666666, 0.9583333333333334]\n",
      "\n"
     ]
    }
   ],
   "source": [
    "descriptives = [ #'e', 'p', 'r', \n",
    "                'e\\n1 - Mitigation', 'p\\n1 - Mitigation', 'r\\n1 - Mitigation',\n",
    "                'e\\n1 - Adaptation', 'p\\n1 - Adaptation', 'r\\n1 - Adaptation',\n",
    "                'r\\n1 - Impact', 'p\\n1 - Impact', 'r\\n1 - Impact'\n",
    "               ]\n",
    "for des in descriptives:\n",
    "    print(f'{des}  - {statistics.mean(multimodels[0][des])}')\n",
    "    print(multimodels[0][des])\n",
    "    print()"
   ]
  },
  {
   "cell_type": "code",
   "execution_count": 73,
   "metadata": {},
   "outputs": [
    {
     "data": {
      "image/png": "[encoded data removed]",
      "text/plain": [
       "<Figure size 1500x900 with 1 Axes>"
      ]
     },
     "metadata": {},
     "output_type": "display_data"
    }
   ],
   "source": [
    "#With better formatting and the overall relevance included in one graph\n",
    "\n",
    "boxplotdf = pd.DataFrame()\n",
    "boxplotdf['Category'] = descriptives\n",
    "gendf = pd.DataFrame({'Category' : ['e\\n1 - Relevance', 'p\\n1 - Relevance', 'r\\n1 - Relevance']})\n",
    "\n",
    "#get scores as list\n",
    "boxplotdf['Scores'] = [multimodels[0][des] for des in boxplotdf['Category']]\n",
    "gendf['Scores'] = [models[len(models)-1][des] for des in ['e', 'p', 'r']]\n",
    "\n",
    "#merge the general and the multi-model\n",
    "boxplotdf = pd.concat([gendf, boxplotdf], axis=0, ignore_index=True).reset_index()\n",
    "\n",
    "#make a new row for each in list (basically: unfold the list to new variable, add new variable as column & drop old column)\n",
    "s = boxplotdf.apply(lambda x: pd.Series(x['Scores']),axis=1).stack().reset_index(level=1, drop=True)\n",
    "s.name = 'Scores'\n",
    "boxplotdf = boxplotdf.drop('Scores', axis=1).join(s)\n",
    "\n",
    "#Get the category and the metric separately\n",
    "new = boxplotdf[\"Category\"].str.split(\"\\n1 - \", n = 1, expand = True)\n",
    "boxplotdf[\"Metric\"]= new[0]\n",
    "boxplotdf.drop(columns =[\"Category\"], inplace = True) \n",
    "boxplotdf[\"Category\"]= new[1] \n",
    "\n",
    "#rename\n",
    "di = {'e': \"Accuracy\",\n",
    "      'p': \"Precision\",\n",
    "      'r': \"Recall\"}\n",
    "boxplotdf.replace({\"Metric\": di}, inplace=True)\n",
    "\n",
    "#plot \n",
    "sns.set(style=\"whitegrid\")\n",
    "fig, ax = plt.subplots(figsize=(10,6),dpi=150)\n",
    "ax = sns.boxplot(x=\"Category\", y=\"Scores\", hue=\"Metric\",\n",
    "                 data=boxplotdf, palette=\"Set2\", linewidth = 2)\n",
    "\n",
    "ax = sns.swarmplot(x=\"Category\", y=\"Scores\", hue=\"Metric\", dodge=True, #add points\n",
    "                   data=boxplotdf, color=\"grey\", alpha = 0.75, size=4\n",
    "                  ) \n",
    "\n",
    "\n",
    "ax.set_ylabel('Score', fontsize = 10, weight = 'bold')\n",
    "ax.set_xlabel('Classifier', fontsize = 10, weight = 'bold')\n",
    "\n",
    "title = 'Performance of Category Classifier '\n",
    "subtitle = 'Accuracy, precision and recall per classifier for 10 k-fold cross-validation'\n",
    "ax.text(x=0.5, y=1.1, s=title, fontsize=12, weight='bold', ha='center', va='bottom', transform=ax.transAxes)\n",
    "ax.text(x=0.5, y=1.05, s=subtitle, fontsize=10, alpha=0.75, ha='center', va='bottom', transform=ax.transAxes)\n",
    "\n",
    "handles, labels = ax.get_legend_handles_labels()\n",
    "#l = plt.legend()\n",
    "ax.legend(handles[0:3], labels[0:3],\n",
    "          fontsize=10, title_fontsize='10', loc = 'lower left',\n",
    "          facecolor = 'white', edgecolor='grey')\n",
    "\n",
    "\n",
    "fig.tight_layout(rect=[0, 0, 1, 0.98])\n",
    "fig.savefig(f'{title}_{subtitle}.png')\n"
   ]
  },
  {
   "cell_type": "code",
   "execution_count": 79,
   "metadata": {},
   "outputs": [
    {
     "name": "stdout",
     "output_type": "stream",
     "text": [
      "e\n",
      "1 - Mitigation - - 0.9334134065431251\n",
      "\n",
      "p\n",
      "1 - Mitigation - - 0.8296929970614181\n",
      "\n",
      "r\n",
      "1 - Mitigation - - 0.7061529891676951\n",
      "\n",
      "e\n",
      "1 - Adaptation - - 0.8872683596431022\n",
      "\n",
      "p\n",
      "1 - Adaptation - - 0.6813471250971251\n",
      "\n",
      "r\n",
      "1 - Adaptation - - 0.5913904069786423\n",
      "\n",
      "r\n",
      "1 - Impact - - 0.9408441802894024\n",
      "\n",
      "p\n",
      "1 - Impact - - 0.9152721460102543\n",
      "\n",
      "r\n",
      "1 - Impact - - 0.9408441802894024\n",
      "\n",
      "- - - - - \n",
      "e - - 0.7680393502630977\n",
      "\n",
      "p - - 0.8736272197034055\n",
      "\n",
      "r - - 0.8553955168667864\n",
      "\n"
     ]
    },
    {
     "data": {
      "text/plain": [
       "0.9408441802894024"
      ]
     },
     "execution_count": 79,
     "metadata": {},
     "output_type": "execute_result"
    }
   ],
   "source": [
    "for des in descriptives: \n",
    "    print(f'{des} - - {statistics.mean(multimodels[0][des])}')\n",
    "    print()\n",
    "    \n",
    "print ('- - - - - ')\n",
    "for des in ['e', 'p', 'r']:\n",
    "    print(f'{des} - - {statistics.mean(multimodels[0][des])}')\n",
    "    print()\n",
    "    \n",
    "statistics.mean(multimodels[0]['r\\n1 - Impact'])"
   ]
  },
  {
   "cell_type": "code",
   "execution_count": 80,
   "metadata": {},
   "outputs": [
    {
     "data": {
      "text/html": [
       "<div>\n",
       "<style scoped>\n",
       "    .dataframe tbody tr th:only-of-type {\n",
       "        vertical-align: middle;\n",
       "    }\n",
       "\n",
       "    .dataframe tbody tr th {\n",
       "        vertical-align: top;\n",
       "    }\n",
       "\n",
       "    .dataframe thead th {\n",
       "        text-align: right;\n",
       "    }\n",
       "</style>\n",
       "<table border=\"1\" class=\"dataframe\">\n",
       "  <thead>\n",
       "    <tr style=\"text-align: right;\">\n",
       "      <th></th>\n",
       "      <th>Category</th>\n",
       "      <th>Scores</th>\n",
       "    </tr>\n",
       "  </thead>\n",
       "  <tbody>\n",
       "    <tr>\n",
       "      <th>0</th>\n",
       "      <td>e\\n1 - Relevance</td>\n",
       "      <td>0.838356</td>\n",
       "    </tr>\n",
       "    <tr>\n",
       "      <th>0</th>\n",
       "      <td>e\\n1 - Relevance</td>\n",
       "      <td>0.862637</td>\n",
       "    </tr>\n",
       "    <tr>\n",
       "      <th>0</th>\n",
       "      <td>e\\n1 - Relevance</td>\n",
       "      <td>0.870879</td>\n",
       "    </tr>\n",
       "    <tr>\n",
       "      <th>0</th>\n",
       "      <td>e\\n1 - Relevance</td>\n",
       "      <td>0.857143</td>\n",
       "    </tr>\n",
       "    <tr>\n",
       "      <th>0</th>\n",
       "      <td>e\\n1 - Relevance</td>\n",
       "      <td>0.879121</td>\n",
       "    </tr>\n",
       "    <tr>\n",
       "      <th>...</th>\n",
       "      <td>...</td>\n",
       "      <td>...</td>\n",
       "    </tr>\n",
       "    <tr>\n",
       "      <th>11</th>\n",
       "      <td>r\\n1 - Impact</td>\n",
       "      <td>0.942857</td>\n",
       "    </tr>\n",
       "    <tr>\n",
       "      <th>11</th>\n",
       "      <td>r\\n1 - Impact</td>\n",
       "      <td>0.910256</td>\n",
       "    </tr>\n",
       "    <tr>\n",
       "      <th>11</th>\n",
       "      <td>r\\n1 - Impact</td>\n",
       "      <td>0.947368</td>\n",
       "    </tr>\n",
       "    <tr>\n",
       "      <th>11</th>\n",
       "      <td>r\\n1 - Impact</td>\n",
       "      <td>0.916667</td>\n",
       "    </tr>\n",
       "    <tr>\n",
       "      <th>11</th>\n",
       "      <td>r\\n1 - Impact</td>\n",
       "      <td>0.958333</td>\n",
       "    </tr>\n",
       "  </tbody>\n",
       "</table>\n",
       "<p>120 rows × 2 columns</p>\n",
       "</div>"
      ],
      "text/plain": [
       "            Category    Scores\n",
       "0   e\\n1 - Relevance  0.838356\n",
       "0   e\\n1 - Relevance  0.862637\n",
       "0   e\\n1 - Relevance  0.870879\n",
       "0   e\\n1 - Relevance  0.857143\n",
       "0   e\\n1 - Relevance  0.879121\n",
       "..               ...       ...\n",
       "11     r\\n1 - Impact  0.942857\n",
       "11     r\\n1 - Impact  0.910256\n",
       "11     r\\n1 - Impact  0.947368\n",
       "11     r\\n1 - Impact  0.916667\n",
       "11     r\\n1 - Impact  0.958333\n",
       "\n",
       "[120 rows x 2 columns]"
      ]
     },
     "execution_count": 80,
     "metadata": {},
     "output_type": "execute_result"
    }
   ],
   "source": [
    "boxplotdf = pd.DataFrame()\n",
    "boxplotdf['Category'] = descriptives\n",
    "gendf = pd.DataFrame({'Category' : ['e\\n1 - Relevance', 'p\\n1 - Relevance', 'r\\n1 - Relevance']})\n",
    "\n",
    "#get scores as list\n",
    "boxplotdf['Scores'] = [multimodels[0][des] for des in boxplotdf['Category']]\n",
    "gendf['Scores'] = [models[0][des] for des in ['e', 'p', 'r']]\n",
    "\n",
    "#merge the general and the multi-model\n",
    "boxplotdf = pd.concat([gendf, boxplotdf], axis=0, ignore_index = True)\n",
    "\n",
    "#make a new row for each in list (basically: unfold the list to new variable, add new variable as column & drop old column)\n",
    "s = boxplotdf.apply(lambda x: pd.Series(x['Scores']),axis=1).stack().reset_index(level=1, drop=True)\n",
    "s.name = 'Scores'\n",
    "boxplotdf = boxplotdf.drop('Scores', axis=1).join(s)\n",
    "\n",
    "boxplotdf"
   ]
  },
  {
   "cell_type": "code",
   "execution_count": 81,
   "metadata": {
    "scrolled": true
   },
   "outputs": [
    {
     "name": "stderr",
     "output_type": "stream",
     "text": [
      "/home/galm/software/django/tmv/venv/lib/python3.6/site-packages/sklearn/model_selection/_validation.py:552: FitFailedWarning: Estimator fit failed. The score on this train-test partition for these parameters will be set to nan. Details: \n",
      "Traceback (most recent call last):\n",
      "  File \"/home/galm/software/django/tmv/venv/lib/python3.6/site-packages/sklearn/model_selection/_validation.py\", line 531, in _fit_and_score\n",
      "    estimator.fit(X_train, y_train, **fit_params)\n",
      "  File \"/home/galm/software/django/tmv/venv/lib/python3.6/site-packages/sklearn/svm/_base.py\", line 162, in fit\n",
      "    accept_large_sparse=False)\n",
      "  File \"/home/galm/software/django/tmv/venv/lib/python3.6/site-packages/sklearn/base.py\", line 432, in _validate_data\n",
      "    X, y = check_X_y(X, y, **check_params)\n",
      "  File \"/home/galm/software/django/tmv/venv/lib/python3.6/site-packages/sklearn/utils/validation.py\", line 73, in inner_f\n",
      "    return f(**kwargs)\n",
      "  File \"/home/galm/software/django/tmv/venv/lib/python3.6/site-packages/sklearn/utils/validation.py\", line 808, in check_X_y\n",
      "    y = column_or_1d(y, warn=True)\n",
      "  File \"/home/galm/software/django/tmv/venv/lib/python3.6/site-packages/sklearn/utils/validation.py\", line 73, in inner_f\n",
      "    return f(**kwargs)\n",
      "  File \"/home/galm/software/django/tmv/venv/lib/python3.6/site-packages/sklearn/utils/validation.py\", line 848, in column_or_1d\n",
      "    \"got an array of shape {} instead.\".format(shape))\n",
      "ValueError: y should be a 1d array, got an array of shape (2912, 3) instead.\n",
      "\n",
      "  FitFailedWarning)\n",
      "/home/galm/software/django/tmv/venv/lib/python3.6/site-packages/sklearn/model_selection/_validation.py:552: FitFailedWarning: Estimator fit failed. The score on this train-test partition for these parameters will be set to nan. Details: \n",
      "Traceback (most recent call last):\n",
      "  File \"/home/galm/software/django/tmv/venv/lib/python3.6/site-packages/sklearn/model_selection/_validation.py\", line 531, in _fit_and_score\n",
      "    estimator.fit(X_train, y_train, **fit_params)\n",
      "  File \"/home/galm/software/django/tmv/venv/lib/python3.6/site-packages/sklearn/svm/_base.py\", line 162, in fit\n",
      "    accept_large_sparse=False)\n",
      "  File \"/home/galm/software/django/tmv/venv/lib/python3.6/site-packages/sklearn/base.py\", line 432, in _validate_data\n",
      "    X, y = check_X_y(X, y, **check_params)\n",
      "  File \"/home/galm/software/django/tmv/venv/lib/python3.6/site-packages/sklearn/utils/validation.py\", line 73, in inner_f\n",
      "    return f(**kwargs)\n",
      "  File \"/home/galm/software/django/tmv/venv/lib/python3.6/site-packages/sklearn/utils/validation.py\", line 808, in check_X_y\n",
      "    y = column_or_1d(y, warn=True)\n",
      "  File \"/home/galm/software/django/tmv/venv/lib/python3.6/site-packages/sklearn/utils/validation.py\", line 73, in inner_f\n",
      "    return f(**kwargs)\n",
      "  File \"/home/galm/software/django/tmv/venv/lib/python3.6/site-packages/sklearn/utils/validation.py\", line 848, in column_or_1d\n",
      "    \"got an array of shape {} instead.\".format(shape))\n",
      "ValueError: y should be a 1d array, got an array of shape (2913, 3) instead.\n",
      "\n",
      "  FitFailedWarning)\n"
     ]
    },
    {
     "data": {
      "text/plain": [
       "array([nan, nan, nan, nan, nan])"
      ]
     },
     "execution_count": 81,
     "metadata": {},
     "output_type": "execute_result"
    }
   ],
   "source": [
    "from sklearn.model_selection import cross_val_score\n",
    "cross_val_score(clf, ab_X[seen_index],y[seen_index], cv=5, scoring='recall_samples')"
   ]
  },
  {
   "cell_type": "markdown",
   "metadata": {},
   "source": [
    "## Multi-matrix"
   ]
  },
  {
   "cell_type": "code",
   "execution_count": 84,
   "metadata": {
    "scrolled": false
   },
   "outputs": [
    {
     "name": "stdout",
     "output_type": "stream",
     "text": [
      "['1 - Mitigation - k_prediction_binary', '1 - Adaptation - k_prediction_binary', '1 - Impact - k_prediction_binary']\n"
     ]
    },
    {
     "data": {
      "text/plain": [
       "<bound method Figure.show of <Figure size 1000x1000 with 2 Axes>>"
      ]
     },
     "execution_count": 84,
     "metadata": {},
     "output_type": "execute_result"
    },
    {
     "data": {
      "image/png": "[encoded data removed]",
      "text/plain": [
       "<Figure size 1000x1000 with 2 Axes>"
      ]
     },
     "metadata": {},
     "output_type": "display_data"
    }
   ],
   "source": [
    "import seaborn as sns\n",
    "sns.reset_defaults()\n",
    "classes = [\"1 - Mitigation\",\"1 - Adaptation\", \"1 - Impact\"]\n",
    "cols = [f\"{c} - k_prediction_binary\" for c in classes]\n",
    "print(cols)\n",
    "y_pred = np.array(list(df.loc[seen_index,cols].values))\n",
    "   \n",
    "y_true = y[seen_index]\n",
    "\n",
    "confusion_matrix = np.zeros(shape=(len(classes)+1,len(classes)+1),dtype=float)\n",
    "\n",
    "norm = True\n",
    "\n",
    "for j, c in enumerate(classes): #rows\n",
    "    for k, c in enumerate(classes): #cols\n",
    "        n = 0\n",
    "        for i in range(len(seen_index)):\n",
    "            if j==k:\n",
    "                if y_true[i,j]+y_pred[i,k]==2:\n",
    "                    n+=1\n",
    "            else:\n",
    "                if y_pred[i,j]+y_true[i,k]==2 and y_pred[i,k]+y_true[i,k]!=2:\n",
    "                    n+=1/y_pred[i,].sum()\n",
    "        confusion_matrix[j,k]=n\n",
    "        \n",
    "    sums_pred = y_pred.sum(axis=1).ravel()\n",
    "    confusion_matrix[k+1,j]=y_true[np.argwhere(sums_pred==0).ravel(),j].sum()\n",
    "    sums_true = y_true.sum(axis=1).ravel()\n",
    "    confusion_matrix[j,k+1]=y_pred[np.argwhere(sums_true==0).ravel(),j].sum()\n",
    "    confusion_matrix[j+1,k+1] = y_pred[np.argwhere(sums_true+sums_pred==0)].shape[0]\n",
    "\n",
    "\n",
    "if norm is not False:\n",
    "    confusion_matrix = confusion_matrix/confusion_matrix.sum(axis=0,keepdims=True)\n",
    "\n",
    "\n",
    "fig, ax = plt.subplots(dpi=125, figsize=(8,8))\n",
    "\n",
    "\n",
    "if norm is not False:\n",
    "    mat = ax.imshow(confusion_matrix, cmap=\"Blues\", vmin=0, vmax=1, origin=\"lower\")\n",
    "else:\n",
    "    mat = ax.imshow(confusion_matrix, cmap=\"Blues\",origin=\"lower\")\n",
    "    \n",
    "classes = classes + [\"None\"]\n",
    "for j, c in enumerate(classes):\n",
    "    for k, c in enumerate(classes):\n",
    "        n  = confusion_matrix[j,k]\n",
    "        if n > np.max(confusion_matrix)/2:\n",
    "            color=\"#d9d9d9\"\n",
    "        else:\n",
    "            color=\"#949680\"\n",
    "        if norm is not False:\n",
    "            ax.text(k,j, f\"{confusion_matrix[j,k]:.0%}\",ha=\"center\",color=color)\n",
    "        else:\n",
    "            ax.text(k,j, f\"{confusion_matrix[j,k]:.1f}\",ha=\"center\",color=color)\n",
    "\n",
    "    if j < len(classes)-1:    \n",
    "        ax.text(j,len(classes)-0.25,f\"{y_true[:,j].sum():,.0f}\",ha=\"center\",va=\"center\")\n",
    "        ax.text(len(classes)-0.25, j, f\"{y_pred[:,j].sum():,.0f}\",ha=\"center\",va=\"center\")\n",
    "        \n",
    "ax.set_xticks(list(range(len(classes))))\n",
    "ax.set_xticklabels([x.replace(\"12 - \",\"\") for x in classes],rotation=45,ha=\"right\")\n",
    "\n",
    "ax.set_yticks(list(range(len(classes))))\n",
    "ax.set_yticklabels([x.replace(\"12 - \",\"\") for x in classes],ha=\"right\")\n",
    "ax.set_xlabel(\"True value\", fontsize = 10, weight = 'bold')\n",
    "ax.set_ylabel(\"Predicted value\", fontsize = 10, weight = 'bold')\n",
    "\n",
    "#ax.set_xlim(xmax=len(classes)+1)\n",
    "\n",
    "cbar = fig.colorbar(mat, ax=ax, pad=0.15, shrink = 0.5)\n",
    "if norm is not False:\n",
    "    cbar.set_label(\"% of True values\")\n",
    "    \n",
    "title = \"Confusion matrix for predicted categories\"\n",
    "ax.text(x=0.5, y=1.1, s=title, fontsize=12, weight='bold', ha='center', va='bottom', transform=ax.transAxes)\n",
    "\n",
    "fig.tight_layout(rect=[0, 0, 1, 0.98])\n",
    "fig.savefig(f'confusion_matrix.png')\n",
    "fig.show"
   ]
  },
  {
   "cell_type": "code",
   "execution_count": 101,
   "metadata": {},
   "outputs": [],
   "source": [
    "model_df = pd.DataFrame(multimodels)\n",
    "#model_df.to_csv(f\"multimodels_adaptation_mitigation_{now}.csv\",index=False)"
   ]
  },
  {
   "cell_type": "markdown",
   "metadata": {},
   "source": [
    "### Fitting multi-class"
   ]
  },
  {
   "cell_type": "code",
   "execution_count": 126,
   "metadata": {},
   "outputs": [],
   "source": [
    "predicted_index = df[df['0 - relevance - prediction']>0.33].index\n",
    "LabeledRelevant_index = df[df['relevant']==1].index\n",
    "\n",
    "clf = OneVsRestClassifier(SVC(kernel='linear', class_weight=\"balanced\", probability=True))\n",
    "classes = [\"1 - Mitigation\",\"1 - Adaptation\", \"1 - Impact\"]\n",
    "y = np.matrix(df[classes])\n",
    "y.shape\n",
    "\n",
    "clf.fit(ab_X[seen_index],y[seen_index]) #fit on the labeled as relevant data\n",
    "predictions = clf.predict_proba(ab_X[predicted_index]) #get probability scores for those predicted to be relevant\n",
    "binary = clf.predict(ab_X[predicted_index]) #get binary scores too"
   ]
  },
  {
   "cell_type": "code",
   "execution_count": 128,
   "metadata": {},
   "outputs": [],
   "source": [
    "#Add predictions to the dataframe or nan if no prediction\n",
    "for i,c in enumerate(classes):\n",
    "    df[f\"{c} - prediction\"] = np.NaN\n",
    "    \n",
    "    df.loc[predicted_index, f\"{c} - prediction\"] = predictions[:, i]"
   ]
  },
  {
   "cell_type": "code",
   "execution_count": 129,
   "metadata": {
    "scrolled": true
   },
   "outputs": [
    {
     "name": "stdout",
     "output_type": "stream",
     "text": [
      "(3281, 23)\n"
     ]
    },
    {
     "data": {
      "text/html": [
       "<div>\n",
       "<style scoped>\n",
       "    .dataframe tbody tr th:only-of-type {\n",
       "        vertical-align: middle;\n",
       "    }\n",
       "\n",
       "    .dataframe tbody tr th {\n",
       "        vertical-align: top;\n",
       "    }\n",
       "\n",
       "    .dataframe thead th {\n",
       "        text-align: right;\n",
       "    }\n",
       "</style>\n",
       "<table border=\"1\" class=\"dataframe\">\n",
       "  <thead>\n",
       "    <tr style=\"text-align: right;\">\n",
       "      <th></th>\n",
       "      <th>id</th>\n",
       "      <th>content</th>\n",
       "      <th>title</th>\n",
       "      <th>PY</th>\n",
       "      <th>wosarticle__de</th>\n",
       "      <th>wosarticle__wc</th>\n",
       "      <th>relevant</th>\n",
       "      <th>seen</th>\n",
       "      <th>1 - Adaptation</th>\n",
       "      <th>1 - Impact</th>\n",
       "      <th>...</th>\n",
       "      <th>categories</th>\n",
       "      <th>1 - Mitigation - k_prediction</th>\n",
       "      <th>1 - Mitigation - k_prediction_binary</th>\n",
       "      <th>1 - Adaptation - k_prediction</th>\n",
       "      <th>1 - Adaptation - k_prediction_binary</th>\n",
       "      <th>1 - Impact - k_prediction</th>\n",
       "      <th>1 - Impact - k_prediction_binary</th>\n",
       "      <th>1 - Mitigation - prediction</th>\n",
       "      <th>1 - Adaptation - prediction</th>\n",
       "      <th>1 - Impact - prediction</th>\n",
       "    </tr>\n",
       "  </thead>\n",
       "  <tbody>\n",
       "    <tr>\n",
       "      <th>23</th>\n",
       "      <td>229038</td>\n",
       "      <td>Objective: Climate change is expected to cause...</td>\n",
       "      <td>Forecasted Impact of Climate Change on Infecti...</td>\n",
       "      <td>2016.0</td>\n",
       "      <td>infectious disease medicine; emergency prepare...</td>\n",
       "      <td>[Public, Environmental &amp; Occupational Health]</td>\n",
       "      <td>0.0</td>\n",
       "      <td>0.0</td>\n",
       "      <td>0.0</td>\n",
       "      <td>0.0</td>\n",
       "      <td>...</td>\n",
       "      <td>0.0</td>\n",
       "      <td>NaN</td>\n",
       "      <td>NaN</td>\n",
       "      <td>NaN</td>\n",
       "      <td>NaN</td>\n",
       "      <td>NaN</td>\n",
       "      <td>NaN</td>\n",
       "      <td>0.002406</td>\n",
       "      <td>0.200001</td>\n",
       "      <td>0.608046</td>\n",
       "    </tr>\n",
       "    <tr>\n",
       "      <th>31</th>\n",
       "      <td>119515</td>\n",
       "      <td>Water is recognized to pose some very urgent q...</td>\n",
       "      <td>Water and justice: Towards an ethics of water ...</td>\n",
       "      <td>2013.0</td>\n",
       "      <td>0</td>\n",
       "      <td>0</td>\n",
       "      <td>0.0</td>\n",
       "      <td>0.0</td>\n",
       "      <td>0.0</td>\n",
       "      <td>0.0</td>\n",
       "      <td>...</td>\n",
       "      <td>0.0</td>\n",
       "      <td>NaN</td>\n",
       "      <td>NaN</td>\n",
       "      <td>NaN</td>\n",
       "      <td>NaN</td>\n",
       "      <td>NaN</td>\n",
       "      <td>NaN</td>\n",
       "      <td>0.029100</td>\n",
       "      <td>0.106526</td>\n",
       "      <td>0.260609</td>\n",
       "    </tr>\n",
       "    <tr>\n",
       "      <th>122</th>\n",
       "      <td>3479297</td>\n",
       "      <td>Objective:Individuals exposed to natural disas...</td>\n",
       "      <td>Challenges Faced and Support Received: Older A...</td>\n",
       "      <td>2017.0</td>\n",
       "      <td>Hurricane Sandy; older adults; qualitative; di...</td>\n",
       "      <td>[Public, Environmental &amp; Occupational Health]</td>\n",
       "      <td>0.0</td>\n",
       "      <td>0.0</td>\n",
       "      <td>0.0</td>\n",
       "      <td>0.0</td>\n",
       "      <td>...</td>\n",
       "      <td>0.0</td>\n",
       "      <td>NaN</td>\n",
       "      <td>NaN</td>\n",
       "      <td>NaN</td>\n",
       "      <td>NaN</td>\n",
       "      <td>NaN</td>\n",
       "      <td>NaN</td>\n",
       "      <td>0.007990</td>\n",
       "      <td>0.585607</td>\n",
       "      <td>0.239867</td>\n",
       "    </tr>\n",
       "    <tr>\n",
       "      <th>130</th>\n",
       "      <td>3473785</td>\n",
       "      <td>A rapid review of literature was conducted to ...</td>\n",
       "      <td>Evidence for the value of health promotion int...</td>\n",
       "      <td>2017.0</td>\n",
       "      <td>health-promoting environments; evidence; globa...</td>\n",
       "      <td>[Health Policy &amp; Services; Public, Environment...</td>\n",
       "      <td>0.0</td>\n",
       "      <td>0.0</td>\n",
       "      <td>0.0</td>\n",
       "      <td>0.0</td>\n",
       "      <td>...</td>\n",
       "      <td>0.0</td>\n",
       "      <td>NaN</td>\n",
       "      <td>NaN</td>\n",
       "      <td>NaN</td>\n",
       "      <td>NaN</td>\n",
       "      <td>NaN</td>\n",
       "      <td>NaN</td>\n",
       "      <td>0.004042</td>\n",
       "      <td>0.350849</td>\n",
       "      <td>0.137286</td>\n",
       "    </tr>\n",
       "    <tr>\n",
       "      <th>150</th>\n",
       "      <td>3369215</td>\n",
       "      <td>Objectives: Older adults exposed to natural di...</td>\n",
       "      <td>Exposure to Hurricane Sandy, neighborhood coll...</td>\n",
       "      <td>2017.0</td>\n",
       "      <td>PTSD; Hurricane Sandy; older adults; collectiv...</td>\n",
       "      <td>[Geriatrics &amp; Gerontology; Gerontology; Psychi...</td>\n",
       "      <td>0.0</td>\n",
       "      <td>0.0</td>\n",
       "      <td>0.0</td>\n",
       "      <td>0.0</td>\n",
       "      <td>...</td>\n",
       "      <td>0.0</td>\n",
       "      <td>NaN</td>\n",
       "      <td>NaN</td>\n",
       "      <td>NaN</td>\n",
       "      <td>NaN</td>\n",
       "      <td>NaN</td>\n",
       "      <td>NaN</td>\n",
       "      <td>0.007627</td>\n",
       "      <td>0.198261</td>\n",
       "      <td>0.702334</td>\n",
       "    </tr>\n",
       "    <tr>\n",
       "      <th>171</th>\n",
       "      <td>1282303</td>\n",
       "      <td>Small-scale farmers are highly threatened by c...</td>\n",
       "      <td>Risk perception and decision-making: do farmer...</td>\n",
       "      <td>2018.0</td>\n",
       "      <td>0</td>\n",
       "      <td>[Environmental Sciences; Meteorology &amp; Atmosph...</td>\n",
       "      <td>0.0</td>\n",
       "      <td>0.0</td>\n",
       "      <td>0.0</td>\n",
       "      <td>0.0</td>\n",
       "      <td>...</td>\n",
       "      <td>0.0</td>\n",
       "      <td>NaN</td>\n",
       "      <td>NaN</td>\n",
       "      <td>NaN</td>\n",
       "      <td>NaN</td>\n",
       "      <td>NaN</td>\n",
       "      <td>NaN</td>\n",
       "      <td>0.006769</td>\n",
       "      <td>0.912043</td>\n",
       "      <td>0.092545</td>\n",
       "    </tr>\n",
       "    <tr>\n",
       "      <th>300</th>\n",
       "      <td>1622298</td>\n",
       "      <td>This study analyzed the vulnerability to flood...</td>\n",
       "      <td>Spatial Analysis of Vulnerability to Flooding ...</td>\n",
       "      <td>2015.0</td>\n",
       "      <td>vulnerability; flooding; Port Harcourt; Nigeria</td>\n",
       "      <td>[Social Sciences, Interdisciplinary]</td>\n",
       "      <td>0.0</td>\n",
       "      <td>0.0</td>\n",
       "      <td>0.0</td>\n",
       "      <td>0.0</td>\n",
       "      <td>...</td>\n",
       "      <td>0.0</td>\n",
       "      <td>NaN</td>\n",
       "      <td>NaN</td>\n",
       "      <td>NaN</td>\n",
       "      <td>NaN</td>\n",
       "      <td>NaN</td>\n",
       "      <td>NaN</td>\n",
       "      <td>0.020289</td>\n",
       "      <td>0.145293</td>\n",
       "      <td>0.544039</td>\n",
       "    </tr>\n",
       "    <tr>\n",
       "      <th>505</th>\n",
       "      <td>3311260</td>\n",
       "      <td>Latina immigrant women in the U.S. are at incr...</td>\n",
       "      <td>\"Se vale llorar y se vale reir\": Latina Immigr...</td>\n",
       "      <td>2020.0</td>\n",
       "      <td>Latina; Immigrant; Migration; Mental health; S...</td>\n",
       "      <td>[Public, Environmental &amp; Occupational Health]</td>\n",
       "      <td>0.0</td>\n",
       "      <td>0.0</td>\n",
       "      <td>0.0</td>\n",
       "      <td>0.0</td>\n",
       "      <td>...</td>\n",
       "      <td>0.0</td>\n",
       "      <td>NaN</td>\n",
       "      <td>NaN</td>\n",
       "      <td>NaN</td>\n",
       "      <td>NaN</td>\n",
       "      <td>NaN</td>\n",
       "      <td>NaN</td>\n",
       "      <td>0.008080</td>\n",
       "      <td>0.287744</td>\n",
       "      <td>0.265694</td>\n",
       "    </tr>\n",
       "    <tr>\n",
       "      <th>515</th>\n",
       "      <td>144497</td>\n",
       "      <td>Background: Leptospirosis is a globally import...</td>\n",
       "      <td>Knowledge, perceptions, and environmental risk...</td>\n",
       "      <td>2014.0</td>\n",
       "      <td>Leptospirosis; KAP (knowledge, attitude, perce...</td>\n",
       "      <td>[Public, Environmental &amp; Occupational Health; ...</td>\n",
       "      <td>0.0</td>\n",
       "      <td>0.0</td>\n",
       "      <td>0.0</td>\n",
       "      <td>0.0</td>\n",
       "      <td>...</td>\n",
       "      <td>0.0</td>\n",
       "      <td>NaN</td>\n",
       "      <td>NaN</td>\n",
       "      <td>NaN</td>\n",
       "      <td>NaN</td>\n",
       "      <td>NaN</td>\n",
       "      <td>NaN</td>\n",
       "      <td>0.041718</td>\n",
       "      <td>0.243867</td>\n",
       "      <td>0.515445</td>\n",
       "    </tr>\n",
       "    <tr>\n",
       "      <th>603</th>\n",
       "      <td>3313547</td>\n",
       "      <td>The authors of this article interviewed reside...</td>\n",
       "      <td>Perceptions of air pollution by the inhabitant...</td>\n",
       "      <td>2019.0</td>\n",
       "      <td>air pollution; perceptions; urban health; Came...</td>\n",
       "      <td>[Public, Environmental &amp; Occupational Health]</td>\n",
       "      <td>0.0</td>\n",
       "      <td>0.0</td>\n",
       "      <td>0.0</td>\n",
       "      <td>0.0</td>\n",
       "      <td>...</td>\n",
       "      <td>0.0</td>\n",
       "      <td>NaN</td>\n",
       "      <td>NaN</td>\n",
       "      <td>NaN</td>\n",
       "      <td>NaN</td>\n",
       "      <td>NaN</td>\n",
       "      <td>NaN</td>\n",
       "      <td>0.155351</td>\n",
       "      <td>0.363665</td>\n",
       "      <td>0.262606</td>\n",
       "    </tr>\n",
       "    <tr>\n",
       "      <th>660</th>\n",
       "      <td>1745817</td>\n",
       "      <td>The Mapuche communities have the highest level...</td>\n",
       "      <td>Impacts of Climate Change in the Andean Foothi...</td>\n",
       "      <td>2016.0</td>\n",
       "      <td>Climate change; Mapuche; indigenous livelihood...</td>\n",
       "      <td>[Development Studies]</td>\n",
       "      <td>0.0</td>\n",
       "      <td>0.0</td>\n",
       "      <td>0.0</td>\n",
       "      <td>0.0</td>\n",
       "      <td>...</td>\n",
       "      <td>0.0</td>\n",
       "      <td>NaN</td>\n",
       "      <td>NaN</td>\n",
       "      <td>NaN</td>\n",
       "      <td>NaN</td>\n",
       "      <td>NaN</td>\n",
       "      <td>NaN</td>\n",
       "      <td>0.008215</td>\n",
       "      <td>0.803146</td>\n",
       "      <td>0.305091</td>\n",
       "    </tr>\n",
       "    <tr>\n",
       "      <th>675</th>\n",
       "      <td>785610</td>\n",
       "      <td>Recent events in the USA have highlighted a la...</td>\n",
       "      <td>Enhancing resilience to coastal flooding from ...</td>\n",
       "      <td>2017.0</td>\n",
       "      <td>0</td>\n",
       "      <td>[Geosciences, Multidisciplinary; Meteorology &amp;...</td>\n",
       "      <td>0.0</td>\n",
       "      <td>0.0</td>\n",
       "      <td>0.0</td>\n",
       "      <td>0.0</td>\n",
       "      <td>...</td>\n",
       "      <td>0.0</td>\n",
       "      <td>NaN</td>\n",
       "      <td>NaN</td>\n",
       "      <td>NaN</td>\n",
       "      <td>NaN</td>\n",
       "      <td>NaN</td>\n",
       "      <td>NaN</td>\n",
       "      <td>0.023276</td>\n",
       "      <td>0.476712</td>\n",
       "      <td>0.681791</td>\n",
       "    </tr>\n",
       "    <tr>\n",
       "      <th>729</th>\n",
       "      <td>2336953</td>\n",
       "      <td>The number of natural catastrophes that affect...</td>\n",
       "      <td>From Deterministic to Probabilistic Forecasts:...</td>\n",
       "      <td>2018.0</td>\n",
       "      <td>floods; urban river basins; Shift-Target appro...</td>\n",
       "      <td>[Geosciences, Multidisciplinary]</td>\n",
       "      <td>0.0</td>\n",
       "      <td>0.0</td>\n",
       "      <td>0.0</td>\n",
       "      <td>0.0</td>\n",
       "      <td>...</td>\n",
       "      <td>0.0</td>\n",
       "      <td>NaN</td>\n",
       "      <td>NaN</td>\n",
       "      <td>NaN</td>\n",
       "      <td>NaN</td>\n",
       "      <td>NaN</td>\n",
       "      <td>NaN</td>\n",
       "      <td>0.026217</td>\n",
       "      <td>0.291552</td>\n",
       "      <td>0.183465</td>\n",
       "    </tr>\n",
       "    <tr>\n",
       "      <th>748</th>\n",
       "      <td>2491824</td>\n",
       "      <td>Hurricane Sandy in late October 2012 drove bef...</td>\n",
       "      <td>Directional Analysis of the Storm Surge from H...</td>\n",
       "      <td>2015.0</td>\n",
       "      <td>0</td>\n",
       "      <td>[Multidisciplinary Sciences]</td>\n",
       "      <td>0.0</td>\n",
       "      <td>0.0</td>\n",
       "      <td>0.0</td>\n",
       "      <td>0.0</td>\n",
       "      <td>...</td>\n",
       "      <td>0.0</td>\n",
       "      <td>NaN</td>\n",
       "      <td>NaN</td>\n",
       "      <td>NaN</td>\n",
       "      <td>NaN</td>\n",
       "      <td>NaN</td>\n",
       "      <td>NaN</td>\n",
       "      <td>0.005243</td>\n",
       "      <td>0.118396</td>\n",
       "      <td>0.458053</td>\n",
       "    </tr>\n",
       "    <tr>\n",
       "      <th>840</th>\n",
       "      <td>3752993</td>\n",
       "      <td>Alongside a mean global rise in temperature, c...</td>\n",
       "      <td>An analytical heat wave definition based on th...</td>\n",
       "      <td>2020.0</td>\n",
       "      <td>0</td>\n",
       "      <td>0</td>\n",
       "      <td>0.0</td>\n",
       "      <td>0.0</td>\n",
       "      <td>0.0</td>\n",
       "      <td>0.0</td>\n",
       "      <td>...</td>\n",
       "      <td>0.0</td>\n",
       "      <td>NaN</td>\n",
       "      <td>NaN</td>\n",
       "      <td>NaN</td>\n",
       "      <td>NaN</td>\n",
       "      <td>NaN</td>\n",
       "      <td>NaN</td>\n",
       "      <td>0.002183</td>\n",
       "      <td>0.130543</td>\n",
       "      <td>0.070106</td>\n",
       "    </tr>\n",
       "    <tr>\n",
       "      <th>1020</th>\n",
       "      <td>2307172</td>\n",
       "      <td>Many cities and countries have implemented hea...</td>\n",
       "      <td>The Use of a Quasi-Experimental Study on the M...</td>\n",
       "      <td>2019.0</td>\n",
       "      <td>hot temperature; mortality; heat waves; extrem...</td>\n",
       "      <td>[Environmental Sciences; Public, Environmental...</td>\n",
       "      <td>0.0</td>\n",
       "      <td>0.0</td>\n",
       "      <td>0.0</td>\n",
       "      <td>0.0</td>\n",
       "      <td>...</td>\n",
       "      <td>0.0</td>\n",
       "      <td>NaN</td>\n",
       "      <td>NaN</td>\n",
       "      <td>NaN</td>\n",
       "      <td>NaN</td>\n",
       "      <td>NaN</td>\n",
       "      <td>NaN</td>\n",
       "      <td>0.021399</td>\n",
       "      <td>0.735677</td>\n",
       "      <td>0.943624</td>\n",
       "    </tr>\n",
       "    <tr>\n",
       "      <th>1149</th>\n",
       "      <td>424540</td>\n",
       "      <td>Wildfires take a heavy toll on human health wo...</td>\n",
       "      <td>Non-Accidental Health Impacts of Wildfire Smoke</td>\n",
       "      <td>2014.0</td>\n",
       "      <td>wildfires emissions; wildfire exposure; health...</td>\n",
       "      <td>[Environmental Sciences; Public, Environmental...</td>\n",
       "      <td>0.0</td>\n",
       "      <td>0.0</td>\n",
       "      <td>0.0</td>\n",
       "      <td>0.0</td>\n",
       "      <td>...</td>\n",
       "      <td>0.0</td>\n",
       "      <td>NaN</td>\n",
       "      <td>NaN</td>\n",
       "      <td>NaN</td>\n",
       "      <td>NaN</td>\n",
       "      <td>NaN</td>\n",
       "      <td>NaN</td>\n",
       "      <td>0.057469</td>\n",
       "      <td>0.135953</td>\n",
       "      <td>0.961718</td>\n",
       "    </tr>\n",
       "    <tr>\n",
       "      <th>1193</th>\n",
       "      <td>2359780</td>\n",
       "      <td>Weather and climate have substantial effects o...</td>\n",
       "      <td>Characterizing Spatial Variability of Climate-...</td>\n",
       "      <td>2019.0</td>\n",
       "      <td>0</td>\n",
       "      <td>[Environmental Sciences; Public, Environmental...</td>\n",
       "      <td>0.0</td>\n",
       "      <td>0.0</td>\n",
       "      <td>0.0</td>\n",
       "      <td>0.0</td>\n",
       "      <td>...</td>\n",
       "      <td>0.0</td>\n",
       "      <td>NaN</td>\n",
       "      <td>NaN</td>\n",
       "      <td>NaN</td>\n",
       "      <td>NaN</td>\n",
       "      <td>NaN</td>\n",
       "      <td>NaN</td>\n",
       "      <td>0.081349</td>\n",
       "      <td>0.137531</td>\n",
       "      <td>0.993211</td>\n",
       "    </tr>\n",
       "    <tr>\n",
       "      <th>1195</th>\n",
       "      <td>3285708</td>\n",
       "      <td>The predicted extreme temperatures of globalwa...</td>\n",
       "      <td>Linking green infrastructure to urban heat and...</td>\n",
       "      <td>2020.0</td>\n",
       "      <td>Ecosystem services; Landsat; Surface temperatu...</td>\n",
       "      <td>[Environmental Sciences]</td>\n",
       "      <td>0.0</td>\n",
       "      <td>0.0</td>\n",
       "      <td>0.0</td>\n",
       "      <td>0.0</td>\n",
       "      <td>...</td>\n",
       "      <td>0.0</td>\n",
       "      <td>NaN</td>\n",
       "      <td>NaN</td>\n",
       "      <td>NaN</td>\n",
       "      <td>NaN</td>\n",
       "      <td>NaN</td>\n",
       "      <td>NaN</td>\n",
       "      <td>0.007698</td>\n",
       "      <td>0.169009</td>\n",
       "      <td>0.161636</td>\n",
       "    </tr>\n",
       "    <tr>\n",
       "      <th>1312</th>\n",
       "      <td>2480504</td>\n",
       "      <td>(1) Background: Climate change is on the rise ...</td>\n",
       "      <td>Securing Horticulture in a Changing Climate-A ...</td>\n",
       "      <td>2019.0</td>\n",
       "      <td>bolting; climate change; flower advancement; f...</td>\n",
       "      <td>[Horticulture]</td>\n",
       "      <td>0.0</td>\n",
       "      <td>0.0</td>\n",
       "      <td>0.0</td>\n",
       "      <td>0.0</td>\n",
       "      <td>...</td>\n",
       "      <td>0.0</td>\n",
       "      <td>NaN</td>\n",
       "      <td>NaN</td>\n",
       "      <td>NaN</td>\n",
       "      <td>NaN</td>\n",
       "      <td>NaN</td>\n",
       "      <td>NaN</td>\n",
       "      <td>0.019212</td>\n",
       "      <td>0.120092</td>\n",
       "      <td>0.688085</td>\n",
       "    </tr>\n",
       "  </tbody>\n",
       "</table>\n",
       "<p>20 rows × 23 columns</p>\n",
       "</div>"
      ],
      "text/plain": [
       "           id                                            content  \\\n",
       "23     229038  Objective: Climate change is expected to cause...   \n",
       "31     119515  Water is recognized to pose some very urgent q...   \n",
       "122   3479297  Objective:Individuals exposed to natural disas...   \n",
       "130   3473785  A rapid review of literature was conducted to ...   \n",
       "150   3369215  Objectives: Older adults exposed to natural di...   \n",
       "171   1282303  Small-scale farmers are highly threatened by c...   \n",
       "300   1622298  This study analyzed the vulnerability to flood...   \n",
       "505   3311260  Latina immigrant women in the U.S. are at incr...   \n",
       "515    144497  Background: Leptospirosis is a globally import...   \n",
       "603   3313547  The authors of this article interviewed reside...   \n",
       "660   1745817  The Mapuche communities have the highest level...   \n",
       "675    785610  Recent events in the USA have highlighted a la...   \n",
       "729   2336953  The number of natural catastrophes that affect...   \n",
       "748   2491824  Hurricane Sandy in late October 2012 drove bef...   \n",
       "840   3752993  Alongside a mean global rise in temperature, c...   \n",
       "1020  2307172  Many cities and countries have implemented hea...   \n",
       "1149   424540  Wildfires take a heavy toll on human health wo...   \n",
       "1193  2359780  Weather and climate have substantial effects o...   \n",
       "1195  3285708  The predicted extreme temperatures of globalwa...   \n",
       "1312  2480504  (1) Background: Climate change is on the rise ...   \n",
       "\n",
       "                                                  title      PY  \\\n",
       "23    Forecasted Impact of Climate Change on Infecti...  2016.0   \n",
       "31    Water and justice: Towards an ethics of water ...  2013.0   \n",
       "122   Challenges Faced and Support Received: Older A...  2017.0   \n",
       "130   Evidence for the value of health promotion int...  2017.0   \n",
       "150   Exposure to Hurricane Sandy, neighborhood coll...  2017.0   \n",
       "171   Risk perception and decision-making: do farmer...  2018.0   \n",
       "300   Spatial Analysis of Vulnerability to Flooding ...  2015.0   \n",
       "505   \"Se vale llorar y se vale reir\": Latina Immigr...  2020.0   \n",
       "515   Knowledge, perceptions, and environmental risk...  2014.0   \n",
       "603   Perceptions of air pollution by the inhabitant...  2019.0   \n",
       "660   Impacts of Climate Change in the Andean Foothi...  2016.0   \n",
       "675   Enhancing resilience to coastal flooding from ...  2017.0   \n",
       "729   From Deterministic to Probabilistic Forecasts:...  2018.0   \n",
       "748   Directional Analysis of the Storm Surge from H...  2015.0   \n",
       "840   An analytical heat wave definition based on th...  2020.0   \n",
       "1020  The Use of a Quasi-Experimental Study on the M...  2019.0   \n",
       "1149    Non-Accidental Health Impacts of Wildfire Smoke  2014.0   \n",
       "1193  Characterizing Spatial Variability of Climate-...  2019.0   \n",
       "1195  Linking green infrastructure to urban heat and...  2020.0   \n",
       "1312  Securing Horticulture in a Changing Climate-A ...  2019.0   \n",
       "\n",
       "                                         wosarticle__de  \\\n",
       "23    infectious disease medicine; emergency prepare...   \n",
       "31                                                    0   \n",
       "122   Hurricane Sandy; older adults; qualitative; di...   \n",
       "130   health-promoting environments; evidence; globa...   \n",
       "150   PTSD; Hurricane Sandy; older adults; collectiv...   \n",
       "171                                                   0   \n",
       "300     vulnerability; flooding; Port Harcourt; Nigeria   \n",
       "505   Latina; Immigrant; Migration; Mental health; S...   \n",
       "515   Leptospirosis; KAP (knowledge, attitude, perce...   \n",
       "603   air pollution; perceptions; urban health; Came...   \n",
       "660   Climate change; Mapuche; indigenous livelihood...   \n",
       "675                                                   0   \n",
       "729   floods; urban river basins; Shift-Target appro...   \n",
       "748                                                   0   \n",
       "840                                                   0   \n",
       "1020  hot temperature; mortality; heat waves; extrem...   \n",
       "1149  wildfires emissions; wildfire exposure; health...   \n",
       "1193                                                  0   \n",
       "1195  Ecosystem services; Landsat; Surface temperatu...   \n",
       "1312  bolting; climate change; flower advancement; f...   \n",
       "\n",
       "                                         wosarticle__wc  relevant  seen  \\\n",
       "23        [Public, Environmental & Occupational Health]       0.0   0.0   \n",
       "31                                                    0       0.0   0.0   \n",
       "122       [Public, Environmental & Occupational Health]       0.0   0.0   \n",
       "130   [Health Policy & Services; Public, Environment...       0.0   0.0   \n",
       "150   [Geriatrics & Gerontology; Gerontology; Psychi...       0.0   0.0   \n",
       "171   [Environmental Sciences; Meteorology & Atmosph...       0.0   0.0   \n",
       "300                [Social Sciences, Interdisciplinary]       0.0   0.0   \n",
       "505       [Public, Environmental & Occupational Health]       0.0   0.0   \n",
       "515   [Public, Environmental & Occupational Health; ...       0.0   0.0   \n",
       "603       [Public, Environmental & Occupational Health]       0.0   0.0   \n",
       "660                               [Development Studies]       0.0   0.0   \n",
       "675   [Geosciences, Multidisciplinary; Meteorology &...       0.0   0.0   \n",
       "729                    [Geosciences, Multidisciplinary]       0.0   0.0   \n",
       "748                        [Multidisciplinary Sciences]       0.0   0.0   \n",
       "840                                                   0       0.0   0.0   \n",
       "1020  [Environmental Sciences; Public, Environmental...       0.0   0.0   \n",
       "1149  [Environmental Sciences; Public, Environmental...       0.0   0.0   \n",
       "1193  [Environmental Sciences; Public, Environmental...       0.0   0.0   \n",
       "1195                           [Environmental Sciences]       0.0   0.0   \n",
       "1312                                     [Horticulture]       0.0   0.0   \n",
       "\n",
       "      1 - Adaptation  1 - Impact  ...  categories  \\\n",
       "23               0.0         0.0  ...         0.0   \n",
       "31               0.0         0.0  ...         0.0   \n",
       "122              0.0         0.0  ...         0.0   \n",
       "130              0.0         0.0  ...         0.0   \n",
       "150              0.0         0.0  ...         0.0   \n",
       "171              0.0         0.0  ...         0.0   \n",
       "300              0.0         0.0  ...         0.0   \n",
       "505              0.0         0.0  ...         0.0   \n",
       "515              0.0         0.0  ...         0.0   \n",
       "603              0.0         0.0  ...         0.0   \n",
       "660              0.0         0.0  ...         0.0   \n",
       "675              0.0         0.0  ...         0.0   \n",
       "729              0.0         0.0  ...         0.0   \n",
       "748              0.0         0.0  ...         0.0   \n",
       "840              0.0         0.0  ...         0.0   \n",
       "1020             0.0         0.0  ...         0.0   \n",
       "1149             0.0         0.0  ...         0.0   \n",
       "1193             0.0         0.0  ...         0.0   \n",
       "1195             0.0         0.0  ...         0.0   \n",
       "1312             0.0         0.0  ...         0.0   \n",
       "\n",
       "      1 - Mitigation - k_prediction 1 - Mitigation - k_prediction_binary  \\\n",
       "23                              NaN                                  NaN   \n",
       "31                              NaN                                  NaN   \n",
       "122                             NaN                                  NaN   \n",
       "130                             NaN                                  NaN   \n",
       "150                             NaN                                  NaN   \n",
       "171                             NaN                                  NaN   \n",
       "300                             NaN                                  NaN   \n",
       "505                             NaN                                  NaN   \n",
       "515                             NaN                                  NaN   \n",
       "603                             NaN                                  NaN   \n",
       "660                             NaN                                  NaN   \n",
       "675                             NaN                                  NaN   \n",
       "729                             NaN                                  NaN   \n",
       "748                             NaN                                  NaN   \n",
       "840                             NaN                                  NaN   \n",
       "1020                            NaN                                  NaN   \n",
       "1149                            NaN                                  NaN   \n",
       "1193                            NaN                                  NaN   \n",
       "1195                            NaN                                  NaN   \n",
       "1312                            NaN                                  NaN   \n",
       "\n",
       "      1 - Adaptation - k_prediction  1 - Adaptation - k_prediction_binary  \\\n",
       "23                              NaN                                   NaN   \n",
       "31                              NaN                                   NaN   \n",
       "122                             NaN                                   NaN   \n",
       "130                             NaN                                   NaN   \n",
       "150                             NaN                                   NaN   \n",
       "171                             NaN                                   NaN   \n",
       "300                             NaN                                   NaN   \n",
       "505                             NaN                                   NaN   \n",
       "515                             NaN                                   NaN   \n",
       "603                             NaN                                   NaN   \n",
       "660                             NaN                                   NaN   \n",
       "675                             NaN                                   NaN   \n",
       "729                             NaN                                   NaN   \n",
       "748                             NaN                                   NaN   \n",
       "840                             NaN                                   NaN   \n",
       "1020                            NaN                                   NaN   \n",
       "1149                            NaN                                   NaN   \n",
       "1193                            NaN                                   NaN   \n",
       "1195                            NaN                                   NaN   \n",
       "1312                            NaN                                   NaN   \n",
       "\n",
       "      1 - Impact - k_prediction  1 - Impact - k_prediction_binary  \\\n",
       "23                          NaN                               NaN   \n",
       "31                          NaN                               NaN   \n",
       "122                         NaN                               NaN   \n",
       "130                         NaN                               NaN   \n",
       "150                         NaN                               NaN   \n",
       "171                         NaN                               NaN   \n",
       "300                         NaN                               NaN   \n",
       "505                         NaN                               NaN   \n",
       "515                         NaN                               NaN   \n",
       "603                         NaN                               NaN   \n",
       "660                         NaN                               NaN   \n",
       "675                         NaN                               NaN   \n",
       "729                         NaN                               NaN   \n",
       "748                         NaN                               NaN   \n",
       "840                         NaN                               NaN   \n",
       "1020                        NaN                               NaN   \n",
       "1149                        NaN                               NaN   \n",
       "1193                        NaN                               NaN   \n",
       "1195                        NaN                               NaN   \n",
       "1312                        NaN                               NaN   \n",
       "\n",
       "      1 - Mitigation - prediction  1 - Adaptation - prediction  \\\n",
       "23                       0.002406                     0.200001   \n",
       "31                       0.029100                     0.106526   \n",
       "122                      0.007990                     0.585607   \n",
       "130                      0.004042                     0.350849   \n",
       "150                      0.007627                     0.198261   \n",
       "171                      0.006769                     0.912043   \n",
       "300                      0.020289                     0.145293   \n",
       "505                      0.008080                     0.287744   \n",
       "515                      0.041718                     0.243867   \n",
       "603                      0.155351                     0.363665   \n",
       "660                      0.008215                     0.803146   \n",
       "675                      0.023276                     0.476712   \n",
       "729                      0.026217                     0.291552   \n",
       "748                      0.005243                     0.118396   \n",
       "840                      0.002183                     0.130543   \n",
       "1020                     0.021399                     0.735677   \n",
       "1149                     0.057469                     0.135953   \n",
       "1193                     0.081349                     0.137531   \n",
       "1195                     0.007698                     0.169009   \n",
       "1312                     0.019212                     0.120092   \n",
       "\n",
       "      1 - Impact - prediction  \n",
       "23                   0.608046  \n",
       "31                   0.260609  \n",
       "122                  0.239867  \n",
       "130                  0.137286  \n",
       "150                  0.702334  \n",
       "171                  0.092545  \n",
       "300                  0.544039  \n",
       "505                  0.265694  \n",
       "515                  0.515445  \n",
       "603                  0.262606  \n",
       "660                  0.305091  \n",
       "675                  0.681791  \n",
       "729                  0.183465  \n",
       "748                  0.458053  \n",
       "840                  0.070106  \n",
       "1020                 0.943624  \n",
       "1149                 0.961718  \n",
       "1193                 0.993211  \n",
       "1195                 0.161636  \n",
       "1312                 0.688085  \n",
       "\n",
       "[20 rows x 23 columns]"
      ]
     },
     "execution_count": 129,
     "metadata": {},
     "output_type": "execute_result"
    }
   ],
   "source": [
    "#Check\n",
    "print(df[df['1 - Adaptation - prediction'] > .1].shape)\n",
    "df[df['1 - Adaptation - prediction'] > .1].head(20)"
   ]
  },
  {
   "cell_type": "markdown",
   "metadata": {},
   "source": [
    "### False positives & Negatives\n",
    "First, let's look into the high number of adaptation docs being classified as impact"
   ]
  },
  {
   "cell_type": "code",
   "execution_count": 130,
   "metadata": {
    "scrolled": true
   },
   "outputs": [
    {
     "name": "stdout",
     "output_type": "stream",
     "text": [
      "\n"
     ]
    },
    {
     "data": {
      "text/markdown": [
       "**Exploring the role of forest resources in reducing community vulnerability to the heat effects of climate change**"
      ],
      "text/plain": [
       "<IPython.core.display.Markdown object>"
      ]
     },
     "metadata": {},
     "output_type": "display_data"
    },
    {
     "name": "stdout",
     "output_type": "stream",
     "text": [
      "While the growing literature on forest ecosystem services has examined the value and significance of a range of services, our understanding of the health-related benefits of ecosystem services from forests is still limited. To characterize the role of forest resources in reducing community vulnerability to the heat effects of climate change, a general index of heat vulnerability (HEVI) was developed through Principle Components Analysis (PCA) and subsequently used within ANVOA and Poisson regression to assess the relationship between the amount and type of forest resources (species, management regime, spatial pattern) and a county's vulnerability to the heat effects of climate change. Results of the ANOVA showed significant differences in the extent and characteristics of forests among counties experiencing different levels of heat vulnerability. The Poisson regression using county heat mortality as the dependent variable found forest characteristics to have a significant influence on heat mortality when other determinants of vulnerability were controlled. A negative and significant relationship was specifically found between forest area and heat related mortality, which supports the hypothesis that the extent of forest coverage helps to alleviate vulnerability associated with heat effects. These findings have important implications for understanding the role of forest ecosystem services in reducing a community's vulnerability to the heat effects of climate change. Findings will also be useful in guiding land use planning and preserving desirable forest characteristics to help communities adapt to climate change. (C) 2015 Elsevier B.V. All rights reserved.\n"
     ]
    },
    {
     "data": {
      "text/markdown": [
       "*Impact prediction: 0.988821596232408 -- Adaptation prediction: 0.40813219661968386*"
      ],
      "text/plain": [
       "<IPython.core.display.Markdown object>"
      ]
     },
     "metadata": {},
     "output_type": "display_data"
    },
    {
     "name": "stdout",
     "output_type": "stream",
     "text": [
      "\n"
     ]
    },
    {
     "data": {
      "text/markdown": [
       "**Modification of Heat-Related Mortality in an Elderly Urban Population by Vegetation (Urban Green) and Proximity to Water (Urban Blue): Evidence from Lisbon, Portugal**"
      ],
      "text/plain": [
       "<IPython.core.display.Markdown object>"
      ]
     },
     "metadata": {},
     "output_type": "display_data"
    },
    {
     "name": "stdout",
     "output_type": "stream",
     "text": [
      "BACKGROUND: Urban populations are highly vulnerable to the adverse effects of heat, with heat-related mortality showing intra-urban variations that are likely due to differences in urban characteristics and socioeconomic status. OBJECTIVES: We investigated the influence of urban green and urban blue, that is, urban vegetation and water bodies, on heat-related excess mortality in the elderly >65 years old in Lisbon, Portugal, between 1998 and 2008. METHODS: We used remotely sensed data and geographic information to determine the amount of urban vegetation and the distance to bodies of water (the Atlantic Ocean and the Tagus Estuary). Poisson generalized additive models were fitted, allowing for the interaction between equivalent temperature [universal thermal climate index (UTCI)] and quartiles of urban greenness [classified using the Normalized Difference Vegetation Index (NDVI)] and proximity to water (<= 4 km vs. >4 km), while adjusting for potential confounders. RESULTS: The association between mortality and a 1 degrees C increase in UTCI above the 99th percentile (24.8 degrees C) was stronger for areas in the lowest NDVI quartile (14.7% higher; 95% CI: 1.9, 17.5%) than for areas in the highest quartile (3.0%; 95% CI: 2.0, 4.0%). In areas >4 km from water, a 1 degrees C increase in UTCI above the 99th percentile was associated with a 7.1% increase in mortality (95% CI: 6.2, 8.1%), whereas in areas <= 4 km from water, the estimated increase in mortality was only 2.1% (95% CI: 1.2, 3.0%). CONCLUSIONS: Urban green and blue appeared to have a mitigating effect on heat-related mortality in the elderly population in Lisbon. Increasing the amount of vegetation may be a good strategy to counteract the adverse effects of heat in urban areas. Our findings also suggest potential benefits of urban blue that may be present several kilometers from a body of water.\n"
     ]
    },
    {
     "data": {
      "text/markdown": [
       "*Impact prediction: 0.9876950006044775 -- Adaptation prediction: 0.04418344431726213*"
      ],
      "text/plain": [
       "<IPython.core.display.Markdown object>"
      ]
     },
     "metadata": {},
     "output_type": "display_data"
    },
    {
     "name": "stdout",
     "output_type": "stream",
     "text": [
      "\n"
     ]
    },
    {
     "data": {
      "text/markdown": [
       "**Analysis of clinical malaria disease patterns and trends in Vietnam 2009-2015**"
      ],
      "text/plain": [
       "<IPython.core.display.Markdown object>"
      ]
     },
     "metadata": {},
     "output_type": "display_data"
    },
    {
     "name": "stdout",
     "output_type": "stream",
     "text": [
      "Background: Viet Nam has made tremendous progress towards reducing mortality and morbidity associated with malaria in recent years. Despite the success in malaria control, there has been a recent increase in cases in some provinces. In order to understand the changing malaria dynamics in Viet Nam and measure progress towards elimination, the aim of this study was to describe and quantify spatial and temporal trends of malaria by species at district level across the country. Methods: Malaria case reports at the Viet Nam National Institute of Malariology, Parasitology, and Entomology were reviewed for the period of January 2009 to December 2015. The population of each district was obtained from the Population and Housing Census-2009. A multivariate (insecticide-treated mosquito nets [ITN], indoor residual spraying [IRS], maximum temperature), zero-inflated, Poisson regression model was developed with spatial and spatiotemporal random effects modelled using a conditional autoregressive prior structure, and with posterior parameters estimated using Bayesian Markov chain Monte Carlo simulation with Gibbs sampling. Covariates included in the models were coverage of intervention (ITN and IRS) and maximum temperature. Results: There was a total of 57,713 Plasmodium falciparum and 32,386 Plasmodium vivax cases during the study period. The ratio of P. falciparum to P. vivax decreased from 4.3 (81.0% P. falciparum; 11,121 cases) in 2009 to 0.8 (45.0% P. falciparum; 3325 cases) in 2015. Coverage of ITN was associated with decreased P. falciparum incidence, with a 1.1% (95% credible interval [CrI] 0.009%, 1.2%) decrease in incidence for 1% increase in the ITN coverage, but this was not the case for P. vivax, nor was it the case for IRS coverage. Maximum temperature was associated with increased incidence of both species, with a 4% (95% CrI 3.5%, 4.3%) and 1.6% (95% CrI 0.9%, 2.0%) increase in P. falciparum and P. vivax incidence for a temperature increase of 1 degrees C, respectively. Temporal trends of P. falciparum and P. vivax incidence were significantly higher than the national average in Central and Central-Southern districts. Conclusion: Interventions (ITN distribution) and environmental factors (increased temperature) were associated with incidence of P. falciparum and P. vivax during the study period. The factors reviewed were not exhaustive, however the data suggest distribution of resources can be targeted to areas and times of increased malaria transmission. Additionally, changing distribution of the two predominant malaria species in Viet Nam will require different programmatic approaches for control and elimination.\n"
     ]
    },
    {
     "data": {
      "text/markdown": [
       "*Impact prediction: 0.9876447495044232 -- Adaptation prediction: 0.014866312973916926*"
      ],
      "text/plain": [
       "<IPython.core.display.Markdown object>"
      ]
     },
     "metadata": {},
     "output_type": "display_data"
    },
    {
     "name": "stdout",
     "output_type": "stream",
     "text": [
      "\n"
     ]
    },
    {
     "data": {
      "text/markdown": [
       "**Baseline drivers of lymphatic filariasis in Burkina Faso**"
      ],
      "text/plain": [
       "<IPython.core.display.Markdown object>"
      ]
     },
     "metadata": {},
     "output_type": "display_data"
    },
    {
     "name": "stdout",
     "output_type": "stream",
     "text": [
      "Lymphatic filariasis (LF) is a parasitic disease that is endemic throughout sub-Saharan Africa, infecting approximately 40 million people. In Burkina Faso, mass drug administration (MDA) for LF with ivermectin and albendazole has been ongoing since 2001, and by 2006 all endemic health districts were receiving MDA with a therapeutic coverage of at least 65%. As MDA activities scale down, the focus is now on targeting areas where LF transmission persists with alternative elimination strategies. This study explored the relationship between village-level, baseline LF prevalence data collected in 2000 with publicly available meteorological, environmental and demographic variables in order to determine the factors that influence the geographical distribution of the disease. A fitted multiple logistic regression model indicated that the length of the rainy season, variability in normalized difference vegetation index (NDVI) and population density were significantly positively associated with LF prevalence, whereas total annual rainfall, average June-September temperature, mean NDVI, elevation and the area of cotton crops were significantly negatively associated. This model was used to produce a baseline LF risk map for Burkina Faso. An extended model which incorporated potential socio-demographic risk factors also indicated a significant positive relationship between LF prevalence and wealth. In overlaying the baseline LF risk map with the number of MDA rounds, plus an insecticide-treated net (ITN) ownership measure, the central southern area of the country was highlighted as an area where baseline LF prevalence was high and ITN coverage relatively low (<50%), while at least 10 rounds of MDA had been undertaken, suggesting that more concentrated efforts will be needed to eliminate the disease in these areas.\n"
     ]
    },
    {
     "data": {
      "text/markdown": [
       "*Impact prediction: 0.9837931562793839 -- Adaptation prediction: 0.10562732946485374*"
      ],
      "text/plain": [
       "<IPython.core.display.Markdown object>"
      ]
     },
     "metadata": {},
     "output_type": "display_data"
    },
    {
     "name": "stdout",
     "output_type": "stream",
     "text": [
      "\n"
     ]
    },
    {
     "data": {
      "text/markdown": [
       "**The current status of malaria epidemiology in Bolifamba, atypical Cameroonian rainforest zone: an assessment of intervention strategies and seasonal variations**"
      ],
      "text/plain": [
       "<IPython.core.display.Markdown object>"
      ]
     },
     "metadata": {},
     "output_type": "display_data"
    },
    {
     "name": "stdout",
     "output_type": "stream",
     "text": [
      "Background: Global malaria has been on the decline over the past decade due to expansion of interventions. The present study aimed at determining the current status of malaria epidemiology in the context of sustained interventions and seasonal variations in Bolifamba, which represents a typical semi-urban malaria endemic community in the Cameroonian rainforest. Methods: A monthly cross-sectional survey was carried out in Bolifamba, a multi ethnic semi-urban locality on the eastern flanks of Mt Cameroon, for a year during which blood samples were collected from participants and examined for malaria parasites by microscopy. Correlation analysis of seasonal/monthly malaria prevalence was done with weather data from Ekona, a nearby village with a meteorological station. Intervention strategy such as use of Insecticide Treated Bed Net (ITBN) and risk factors such as duration of stay in the locality, age and housing type were also investigated. Results: The results revealed a malaria prevalence of 38.3 % in the rainy season, which was significantly higher than 24.4 % observed in the dry season (P < 0.0001). A high prevalence of asymptomatic malaria which was more than double the prevalence of symptomatic malaria on a monthly basis was observed, 30.7 % vs 17.8 % in the rainy and dry season respectively (p < 0.0001) and asymptomatic malaria was significantly associated with anemia (p < 0.005). April was the peak month of malaria prevalence and coincided with peak periods of both asymptomatic and symptomatic malaria. The Plasmodium falciparum parasite rates in the 2- up to 10-years age group (PfPR((2-10))) was 40.8 %. The regular use of ITBN was significantly associated with low prevalence of 31.7 % as opposed to irregular or non-usage of ITBN 38.2 % (p < 0.05). Log of parasite load was found to initially increase to 2.49 with less than 5 years of stay, and decreased gradually with increasing duration of stay in the locality (p = 0.046). Climatic factors were significantly and positively associated with monthly malaria prevalence and the strongest predictors of malaria prevalence were rainfall and minimum temperature with r values of 0.563 and 0.6 respectively. Conclusions: The study highlights the role of seasonal change in modifying malaria prevalence during the year and the beneficial effect of ITBN. It also underscores a sublime problem of asymptomatic malaria associated with anemia, and indicates that partial immunity is acquired with prolonged stay in Bolifamba. This preliminary result is the basis of ongoing work to identify the antigens involved in acquired immunity.\n"
     ]
    },
    {
     "data": {
      "text/markdown": [
       "*Impact prediction: 0.9830870103744226 -- Adaptation prediction: 0.0216149466006877*"
      ],
      "text/plain": [
       "<IPython.core.display.Markdown object>"
      ]
     },
     "metadata": {},
     "output_type": "display_data"
    }
   ],
   "source": [
    "#Just because I got tired of getting the titles confused, import markdown display\n",
    "from IPython.display import Markdown, display\n",
    "def printmd(string): \n",
    "    display(Markdown(string))\n",
    "    \n",
    "confusion = df[\n",
    "   (df['1 - Adaptation'] == 1) \n",
    "   & (df['1 - Adaptation - k_prediction_binary'] == 0) \n",
    "   & (df['1 - Impact - k_prediction_binary'] == 1)\n",
    "    ]\n",
    "\n",
    "for i, row in confusion.sort_values('1 - Impact - k_prediction',ascending=False).head(5).iterrows():\n",
    "    d = Doc.objects.get(pk=row['id'])\n",
    "    print()\n",
    "    printmd(f\"**{row['title']}**\")\n",
    "    print(row['content'])\n",
    "    #print(row['id'])\n",
    "    printmd(f\"*Impact prediction: {row['1 - Impact - k_prediction']} -- Adaptation prediction: {row['1 - Adaptation - k_prediction']}*\" )\n",
    "    #print(d.docownership_set.filter(query=qid).values('user__username','relevant','finish','tag__title'))"
   ]
  },
  {
   "cell_type": "code",
   "execution_count": 131,
   "metadata": {},
   "outputs": [
    {
     "name": "stdout",
     "output_type": "stream",
     "text": [
      "False negatives: 108 \n",
      "False positives: 59\n"
     ]
    }
   ],
   "source": [
    "#Listing all false positives and false negatives\n",
    "#NB: this includes docs belonging to multiple classes where only one was classified wrongly\n",
    "classes_pred = [(c, c+\" - k_prediction_binary\") for c in classes[0:-1]]\n",
    "\n",
    "c_fp = pd.DataFrame(columns = df.columns)\n",
    "c_fn = pd.DataFrame(columns = df.columns)\n",
    "\n",
    "for c, c_p in classes_pred:\n",
    "    c_fn = c_fn.append(df[(df[c]==1) & (df[c_p]==0)])\n",
    "    c_fp = c_fp.append(df[(df[c]==0) & (df[c_p]==1)])\n",
    "    \n",
    "print(f\"False negatives: {c_fn.shape[0]} \\nFalse positives: {c_fp.shape[0]}\")"
   ]
  },
  {
   "cell_type": "code",
   "execution_count": 132,
   "metadata": {},
   "outputs": [
    {
     "name": "stdout",
     "output_type": "stream",
     "text": [
      "Total categorised: 1035\n"
     ]
    }
   ],
   "source": [
    "df['categories'] = df['1 - Mitigation'] + df['1 - Adaptation'] + df['1 - Impact']\n",
    "print(f\"Total categorised: {df.loc[df['categories']>=1].shape[0]}\")"
   ]
  },
  {
   "cell_type": "code",
   "execution_count": 94,
   "metadata": {},
   "outputs": [],
   "source": [
    "#create a tag so I can check them out on the platform\n",
    "tempq = merged_query\n",
    "\n",
    "tag, created = Tag.objects.get_or_create(\n",
    "    title=f\"Categories f neg {now}\".format(now),\n",
    "    query=tempq\n",
    ")\n",
    "tag.save()\n",
    "\n",
    "for i, row in c_fn.iterrows(): #using the index of the newly created dataframe on the full df\n",
    "    d = Doc.objects.get(pk=row['id'])\n",
    "    d.tag.add(tag)\n",
    "tag.update_tag()"
   ]
  },
  {
   "cell_type": "code",
   "execution_count": null,
   "metadata": {},
   "outputs": [],
   "source": [
    "#same for false positives\n",
    "tag, created = Tag.objects.get_or_create(\n",
    "    title=f\"Categories f pos {now}\".format(now),\n",
    "    query=tempq\n",
    ")\n",
    "tag.save()\n",
    "\n",
    "for i, row in c_fp.iterrows(): #using the index of the newly created dataframe on the full df\n",
    "    d = Doc.objects.get(pk=row['id'])\n",
    "    d.tag.add(tag)\n",
    "tag.update_tag()"
   ]
  },
  {
   "cell_type": "markdown",
   "metadata": {},
   "source": [
    "#### To CSV"
   ]
  },
  {
   "cell_type": "code",
   "execution_count": 133,
   "metadata": {},
   "outputs": [
    {
     "name": "stderr",
     "output_type": "stream",
     "text": [
      "/home/galm/software/django/tmv/venv/lib/python3.6/site-packages/pandas/core/frame.py:3065: SettingWithCopyWarning: \n",
      "A value is trying to be set on a copy of a slice from a DataFrame.\n",
      "Try using .loc[row_indexer,col_indexer] = value instead\n",
      "\n",
      "See the caveats in the documentation: https://pandas.pydata.org/pandas-docs/stable/user_guide/indexing.html#returning-a-view-versus-a-copy\n",
      "  self[k1] = value[k2]\n"
     ]
    },
    {
     "data": {
      "text/html": [
       "<div>\n",
       "<style scoped>\n",
       "    .dataframe tbody tr th:only-of-type {\n",
       "        vertical-align: middle;\n",
       "    }\n",
       "\n",
       "    .dataframe tbody tr th {\n",
       "        vertical-align: top;\n",
       "    }\n",
       "\n",
       "    .dataframe thead th {\n",
       "        text-align: right;\n",
       "    }\n",
       "</style>\n",
       "<table border=\"1\" class=\"dataframe\">\n",
       "  <thead>\n",
       "    <tr style=\"text-align: right;\">\n",
       "      <th></th>\n",
       "      <th>id</th>\n",
       "      <th>relevant</th>\n",
       "      <th>seen</th>\n",
       "      <th>1 - Adaptation - k_prediction</th>\n",
       "      <th>1 - Mitigation - k_prediction</th>\n",
       "      <th>1 - Impact - k_prediction</th>\n",
       "      <th>1 - Adaptation - prediction</th>\n",
       "      <th>1 - Mitigation - prediction</th>\n",
       "      <th>1 - Impact - prediction</th>\n",
       "    </tr>\n",
       "  </thead>\n",
       "  <tbody>\n",
       "    <tr>\n",
       "      <th>0</th>\n",
       "      <td>3487494</td>\n",
       "      <td>0.0</td>\n",
       "      <td>0.0</td>\n",
       "      <td>NaN</td>\n",
       "      <td>NaN</td>\n",
       "      <td>NaN</td>\n",
       "      <td>NaN</td>\n",
       "      <td>NaN</td>\n",
       "      <td>NaN</td>\n",
       "    </tr>\n",
       "    <tr>\n",
       "      <th>1</th>\n",
       "      <td>3469235</td>\n",
       "      <td>0.0</td>\n",
       "      <td>0.0</td>\n",
       "      <td>NaN</td>\n",
       "      <td>NaN</td>\n",
       "      <td>NaN</td>\n",
       "      <td>NaN</td>\n",
       "      <td>NaN</td>\n",
       "      <td>NaN</td>\n",
       "    </tr>\n",
       "    <tr>\n",
       "      <th>2</th>\n",
       "      <td>3412530</td>\n",
       "      <td>0.0</td>\n",
       "      <td>0.0</td>\n",
       "      <td>NaN</td>\n",
       "      <td>NaN</td>\n",
       "      <td>NaN</td>\n",
       "      <td>NaN</td>\n",
       "      <td>NaN</td>\n",
       "      <td>NaN</td>\n",
       "    </tr>\n",
       "    <tr>\n",
       "      <th>3</th>\n",
       "      <td>3482141</td>\n",
       "      <td>0.0</td>\n",
       "      <td>0.0</td>\n",
       "      <td>NaN</td>\n",
       "      <td>NaN</td>\n",
       "      <td>NaN</td>\n",
       "      <td>NaN</td>\n",
       "      <td>NaN</td>\n",
       "      <td>NaN</td>\n",
       "    </tr>\n",
       "    <tr>\n",
       "      <th>4</th>\n",
       "      <td>3400113</td>\n",
       "      <td>0.0</td>\n",
       "      <td>0.0</td>\n",
       "      <td>NaN</td>\n",
       "      <td>NaN</td>\n",
       "      <td>NaN</td>\n",
       "      <td>NaN</td>\n",
       "      <td>NaN</td>\n",
       "      <td>NaN</td>\n",
       "    </tr>\n",
       "  </tbody>\n",
       "</table>\n",
       "</div>"
      ],
      "text/plain": [
       "        id  relevant  seen  1 - Adaptation - k_prediction  \\\n",
       "0  3487494       0.0   0.0                            NaN   \n",
       "1  3469235       0.0   0.0                            NaN   \n",
       "2  3412530       0.0   0.0                            NaN   \n",
       "3  3482141       0.0   0.0                            NaN   \n",
       "4  3400113       0.0   0.0                            NaN   \n",
       "\n",
       "   1 - Mitigation - k_prediction  1 - Impact - k_prediction  \\\n",
       "0                            NaN                        NaN   \n",
       "1                            NaN                        NaN   \n",
       "2                            NaN                        NaN   \n",
       "3                            NaN                        NaN   \n",
       "4                            NaN                        NaN   \n",
       "\n",
       "   1 - Adaptation - prediction  1 - Mitigation - prediction  \\\n",
       "0                          NaN                          NaN   \n",
       "1                          NaN                          NaN   \n",
       "2                          NaN                          NaN   \n",
       "3                          NaN                          NaN   \n",
       "4                          NaN                          NaN   \n",
       "\n",
       "   1 - Impact - prediction  \n",
       "0                      NaN  \n",
       "1                      NaN  \n",
       "2                      NaN  \n",
       "3                      NaN  \n",
       "4                      NaN  "
      ]
     },
     "execution_count": 133,
     "metadata": {},
     "output_type": "execute_result"
    }
   ],
   "source": [
    "columns = ['1 - Adaptation', '1 - Mitigation', '1 - Impact' ]\n",
    "ycols = [col + ' - k_prediction' for col in columns]\n",
    "pcols = [col + ' - prediction' for col in columns]\n",
    "outdf = df[['id', 'relevant', 'seen']]\n",
    "outdf[ycols] = df[ycols]\n",
    "outdf[pcols] = df[pcols]\n",
    "outdf.head()"
   ]
  },
  {
   "cell_type": "code",
   "execution_count": 166,
   "metadata": {},
   "outputs": [
    {
     "name": "stderr",
     "output_type": "stream",
     "text": [
      "/home/galm/software/django/tmv/venv/lib/python3.6/site-packages/pandas/core/indexing.py:966: SettingWithCopyWarning: \n",
      "A value is trying to be set on a copy of a slice from a DataFrame.\n",
      "Try using .loc[row_indexer,col_indexer] = value instead\n",
      "\n",
      "See the caveats in the documentation: https://pandas.pydata.org/pandas-docs/stable/user_guide/indexing.html#returning-a-view-versus-a-copy\n",
      "  self.obj[item] = s\n",
      "/home/galm/software/django/tmv/venv/lib/python3.6/site-packages/ipykernel_launcher.py:5: SettingWithCopyWarning: \n",
      "A value is trying to be set on a copy of a slice from a DataFrame.\n",
      "Try using .loc[row_indexer,col_indexer] = value instead\n",
      "\n",
      "See the caveats in the documentation: https://pandas.pydata.org/pandas-docs/stable/user_guide/indexing.html#returning-a-view-versus-a-copy\n",
      "  \"\"\"\n"
     ]
    },
    {
     "data": {
      "text/html": [
       "<div>\n",
       "<style scoped>\n",
       "    .dataframe tbody tr th:only-of-type {\n",
       "        vertical-align: middle;\n",
       "    }\n",
       "\n",
       "    .dataframe tbody tr th {\n",
       "        vertical-align: top;\n",
       "    }\n",
       "\n",
       "    .dataframe thead th {\n",
       "        text-align: right;\n",
       "    }\n",
       "</style>\n",
       "<table border=\"1\" class=\"dataframe\">\n",
       "  <thead>\n",
       "    <tr style=\"text-align: right;\">\n",
       "      <th></th>\n",
       "      <th>id</th>\n",
       "      <th>label</th>\n",
       "      <th>adaptation</th>\n",
       "      <th>mitigation</th>\n",
       "      <th>impact</th>\n",
       "    </tr>\n",
       "  </thead>\n",
       "  <tbody>\n",
       "    <tr>\n",
       "      <th>1196</th>\n",
       "      <td>3444052</td>\n",
       "      <td>1.0</td>\n",
       "      <td>0.645582</td>\n",
       "      <td>0.007951</td>\n",
       "      <td>0.734522</td>\n",
       "    </tr>\n",
       "    <tr>\n",
       "      <th>1289</th>\n",
       "      <td>372560</td>\n",
       "      <td>1.0</td>\n",
       "      <td>0.009631</td>\n",
       "      <td>0.992552</td>\n",
       "      <td>0.027864</td>\n",
       "    </tr>\n",
       "    <tr>\n",
       "      <th>1354</th>\n",
       "      <td>3412436</td>\n",
       "      <td>1.0</td>\n",
       "      <td>0.009262</td>\n",
       "      <td>0.006185</td>\n",
       "      <td>0.995459</td>\n",
       "    </tr>\n",
       "    <tr>\n",
       "      <th>1440</th>\n",
       "      <td>780148</td>\n",
       "      <td>1.0</td>\n",
       "      <td>0.007368</td>\n",
       "      <td>0.017563</td>\n",
       "      <td>0.992867</td>\n",
       "    </tr>\n",
       "    <tr>\n",
       "      <th>1530</th>\n",
       "      <td>610777</td>\n",
       "      <td>1.0</td>\n",
       "      <td>0.196543</td>\n",
       "      <td>0.049694</td>\n",
       "      <td>0.721092</td>\n",
       "    </tr>\n",
       "  </tbody>\n",
       "</table>\n",
       "</div>"
      ],
      "text/plain": [
       "           id  label  adaptation  mitigation    impact\n",
       "1196  3444052    1.0    0.645582    0.007951  0.734522\n",
       "1289   372560    1.0    0.009631    0.992552  0.027864\n",
       "1354  3412436    1.0    0.009262    0.006185  0.995459\n",
       "1440   780148    1.0    0.007368    0.017563  0.992867\n",
       "1530   610777    1.0    0.196543    0.049694  0.721092"
      ]
     },
     "execution_count": 166,
     "metadata": {},
     "output_type": "execute_result"
    }
   ],
   "source": [
    "#writing a smaller DF with just the IDs, human-made labels, and machine prediction\n",
    "#outdf = df[['id', 'relevant', 'seen', '0 - relevance - prediction']]\n",
    "outdf.loc[outdf['seen'] ==0, 'relevant'] = None\n",
    "for n, ycol in enumerate(ycols):\n",
    "    outdf[ycol] = np.where(outdf['seen'] == 1, outdf[ycol], outdf[pcols[n]])\n",
    "       \n",
    "outdf = outdf.rename(columns={\n",
    "    'relevant': 'label',\n",
    "    '1 - Impact - k_prediction': 'impact',\n",
    "    '1 - Adaptation - k_prediction': 'adaptation',\n",
    "    '1 - Mitigation - k_prediction': 'mitigation'\n",
    "})\n",
    "\n",
    "outdf = outdf[['id', 'label', 'adaptation', 'mitigation', 'impact']].dropna(thresh=5)\n",
    "\n",
    "outdf.to_csv(f'IdCategoryPrediction.csv', index=False)\n",
    "outdf.head()"
   ]
  },
  {
   "cell_type": "code",
   "execution_count": 95,
   "metadata": {},
   "outputs": [
    {
     "data": {
      "text/plain": [
       "(16229, 5)"
      ]
     },
     "execution_count": 95,
     "metadata": {},
     "output_type": "execute_result"
    }
   ],
   "source": [
    "outdf.shape"
   ]
  },
  {
   "cell_type": "code",
   "execution_count": 96,
   "metadata": {},
   "outputs": [
    {
     "data": {
      "text/plain": [
       "(16229, 5)"
      ]
     },
     "execution_count": 96,
     "metadata": {},
     "output_type": "execute_result"
    }
   ],
   "source": [
    "outdf.to_csv(f'IdCategoryPrediction.csv', index=False)\n",
    "outdf.shape"
   ]
  },
  {
   "cell_type": "code",
   "execution_count": 218,
   "metadata": {},
   "outputs": [
    {
     "data": {
      "text/plain": [
       "(609, 5)"
      ]
     },
     "execution_count": 218,
     "metadata": {},
     "output_type": "execute_result"
    }
   ],
   "source": [
    "outdf[outdf['mitigation'] == 1].shape"
   ]
  }
 ],
 "metadata": {
  "kernelspec": {
   "display_name": "tmv",
   "language": "python",
   "name": "tmv"
  },
  "language_info": {
   "codemirror_mode": {
    "name": "ipython",
    "version": 3
   },
   "file_extension": ".py",
   "mimetype": "text/x-python",
   "name": "python",
   "nbconvert_exporter": "python",
   "pygments_lexer": "ipython3",
   "version": "3.6.7"
  },
  "varInspector": {
   "cols": {
    "lenName": 16,
    "lenType": 16,
    "lenVar": 40
   },
   "kernels_config": {
    "python": {
     "delete_cmd_postfix": "",
     "delete_cmd_prefix": "del ",
     "library": "var_list.py",
     "varRefreshCmd": "print(var_dic_list())"
    },
    "r": {
     "delete_cmd_postfix": ") ",
     "delete_cmd_prefix": "rm(",
     "library": "var_list.r",
     "varRefreshCmd": "cat(var_dic_list()) "
    }
   },
   "types_to_exclude": [
    "module",
    "function",
    "builtin_function_or_method",
    "instance",
    "_Feature"
   ],
   "window_display": false
  }
 },
 "nbformat": 4,
 "nbformat_minor": 2
}
